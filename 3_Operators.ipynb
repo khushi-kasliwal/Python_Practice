{
  "nbformat": 4,
  "nbformat_minor": 0,
  "metadata": {
    "colab": {
      "provenance": []
    },
    "kernelspec": {
      "name": "python3",
      "display_name": "Python 3"
    },
    "language_info": {
      "name": "python"
    }
  },
  "cells": [
    {
      "cell_type": "markdown",
      "source": [
        "# 2. Operators"
      ],
      "metadata": {
        "id": "JH_4CyTO4hLq"
      }
    },
    {
      "cell_type": "code",
      "source": [],
      "metadata": {
        "id": "70qTlcuhGUQz"
      },
      "execution_count": null,
      "outputs": []
    },
    {
      "cell_type": "code",
      "source": [],
      "metadata": {
        "id": "NYHSFBrujpBq"
      },
      "execution_count": null,
      "outputs": []
    },
    {
      "cell_type": "code",
      "source": [
        "'''\n",
        "\n",
        "\n",
        "DEFAULT VALUES -\n",
        "\n",
        "   sep =\" \"   --space\n",
        "   end =\"\\n\"  --new line\n",
        "\n",
        "\n",
        "'''"
      ],
      "metadata": {
        "id": "zivVoMKD3fyI",
        "colab": {
          "base_uri": "https://localhost:8080/",
          "height": 36
        },
        "outputId": "b9a3a819-64f2-4c97-f402-588a7cda73ff"
      },
      "execution_count": null,
      "outputs": [
        {
          "output_type": "execute_result",
          "data": {
            "text/plain": [
              "'\\n\\n\\nDEFAULT VALUES -\\n\\n   sep =\" \"   --space\\n   end =\"\\n\"  --new line\\n\\n\\n'"
            ],
            "application/vnd.google.colaboratory.intrinsic+json": {
              "type": "string"
            }
          },
          "metadata": {},
          "execution_count": 1
        }
      ]
    },
    {
      "cell_type": "code",
      "source": [],
      "metadata": {
        "id": "OTGMUiaqfGOL"
      },
      "execution_count": null,
      "outputs": []
    },
    {
      "cell_type": "code",
      "source": [
        "print(\"Pooja\") , print(\"cbshcbsjcv\"), print(131545)\n",
        "print(\"Anjali\")\n",
        "print(\"Khushi\")\n",
        "print(\"Piyush\"),print(\"Vrushabh\")\n",
        "print(\"Tejas\")"
      ],
      "metadata": {
        "colab": {
          "base_uri": "https://localhost:8080/"
        },
        "id": "nN6PQz2meH2s",
        "outputId": "0a19c213-4655-4257-d1ed-9db9a60a6fd7"
      },
      "execution_count": null,
      "outputs": [
        {
          "output_type": "stream",
          "name": "stdout",
          "text": [
            "Pooja\n",
            "cbshcbsjcv\n",
            "131545\n",
            "Anjali\n",
            "Khushi\n",
            "Piyush\n",
            "Vrushabh\n",
            "Tejas\n"
          ]
        }
      ]
    },
    {
      "cell_type": "code",
      "source": [
        "print(\"Pooja\",\"Anjali\")\n",
        "print(\"Khushi\",\"Ankita\")\n",
        "print(\"Piyush\")\n",
        "print(\"Women In Data\")\n",
        "print(\"Vrushabh\")"
      ],
      "metadata": {
        "colab": {
          "base_uri": "https://localhost:8080/"
        },
        "id": "tv4YhOcneQkU",
        "outputId": "688a478a-5dd1-465b-f096-c0a5b80edc5c"
      },
      "execution_count": null,
      "outputs": [
        {
          "output_type": "stream",
          "name": "stdout",
          "text": [
            "Pooja Anjali\n",
            "Khushi Ankita\n",
            "Piyush\n",
            "Women In Data\n",
            "Vrushabh\n"
          ]
        }
      ]
    },
    {
      "cell_type": "code",
      "source": [
        "print(\"Pooja\",\"Anjali\")\n",
        "print()\n",
        "print(\"Khushi\")\n",
        "print()\n",
        "print(\"Piyush\")\n",
        "print(\"Women In Data\")\n",
        "print(\"Ankita\")\n",
        "print()"
      ],
      "metadata": {
        "colab": {
          "base_uri": "https://localhost:8080/"
        },
        "id": "RkEuu5bTehRq",
        "outputId": "3596c58f-e1c9-49c0-f3a8-3955d5ef17a9"
      },
      "execution_count": null,
      "outputs": [
        {
          "output_type": "stream",
          "name": "stdout",
          "text": [
            "Pooja Anjali\n",
            "\n",
            "Khushi\n",
            "\n",
            "Piyush\n",
            "Women In Data\n",
            "Ankita\n",
            "\n"
          ]
        }
      ]
    },
    {
      "cell_type": "code",
      "source": [
        "print(1,2,3,4,5,sep = \" \")"
      ],
      "metadata": {
        "colab": {
          "base_uri": "https://localhost:8080/"
        },
        "id": "QDeFiAEh3gAe",
        "outputId": "629e5cbd-ef24-4803-bfa3-23f12089e15a"
      },
      "execution_count": null,
      "outputs": [
        {
          "output_type": "stream",
          "name": "stdout",
          "text": [
            "1 2 3 4 5\n"
          ]
        }
      ]
    },
    {
      "cell_type": "code",
      "source": [
        "print(1,2,3,4,5, sep = \" anjali \")"
      ],
      "metadata": {
        "colab": {
          "base_uri": "https://localhost:8080/"
        },
        "id": "64sI2-h8epyY",
        "outputId": "dc34d82a-c980-4f05-da99-a5a6075be6d1"
      },
      "execution_count": null,
      "outputs": [
        {
          "output_type": "stream",
          "name": "stdout",
          "text": [
            "1 anjali 2 anjali 3 anjali 4 anjali 5\n"
          ]
        }
      ]
    },
    {
      "cell_type": "code",
      "source": [
        "print(\"jcbsjc\",\"cbjscbsc\",sep = \"anjali\")\n",
        "print()\n",
        "print(1,2)\n",
        "print(124654)"
      ],
      "metadata": {
        "colab": {
          "base_uri": "https://localhost:8080/"
        },
        "id": "-J43bc25e1B_",
        "outputId": "61b8a712-d2f6-4064-af46-b09b97784dc3"
      },
      "execution_count": null,
      "outputs": [
        {
          "output_type": "stream",
          "name": "stdout",
          "text": [
            "jcbsjcanjalicbjscbsc\n",
            "\n",
            "1 2\n",
            "124654\n"
          ]
        }
      ]
    },
    {
      "cell_type": "code",
      "source": [
        "print(1,2,3,end = \"khushi\")"
      ],
      "metadata": {
        "colab": {
          "base_uri": "https://localhost:8080/"
        },
        "id": "N56otM88e4xT",
        "outputId": "d6353600-787c-4246-dca8-37c077c4cefe"
      },
      "execution_count": null,
      "outputs": [
        {
          "output_type": "stream",
          "name": "stdout",
          "text": [
            "1 2 3khushi"
          ]
        }
      ]
    },
    {
      "cell_type": "code",
      "source": [
        "print(1,2,3)\n",
        "print(4,5)"
      ],
      "metadata": {
        "colab": {
          "base_uri": "https://localhost:8080/"
        },
        "id": "m2NvZcgqe-E6",
        "outputId": "9e3737a1-4a23-4268-9044-a4e145b43217"
      },
      "execution_count": null,
      "outputs": [
        {
          "output_type": "stream",
          "name": "stdout",
          "text": [
            "1 2 3\n",
            "4 5\n"
          ]
        }
      ]
    },
    {
      "cell_type": "code",
      "source": [],
      "metadata": {
        "id": "L67Eq0Bb9KCF"
      },
      "execution_count": null,
      "outputs": []
    },
    {
      "cell_type": "markdown",
      "source": [
        "# Python Operators\n",
        "In Python programming, Operators in general are used to perform operations on values and variables. These are standard symbols used for logical and arithmetic operations\n",
        "\n",
        "# OPERATORS -\n",
        "These are the special symbols. Eg- + , * , /, etc.\n",
        "\n",
        "# OPERAND -\n",
        "It is the value on which the operator is applied."
      ],
      "metadata": {
        "id": "ZBseIXbN8xCw"
      }
    },
    {
      "cell_type": "code",
      "source": [],
      "metadata": {
        "id": "I1ULNo0v9Lnk"
      },
      "execution_count": null,
      "outputs": []
    },
    {
      "cell_type": "markdown",
      "source": [
        "# 1. Arithmetic Operators -\n",
        "Python Arithmetic operators are used to perform basic mathematical operations like addition, subtraction, multiplication, and division.\n",
        "\n",
        "A. Addition (+) - Adds two operands\n",
        "\n",
        "B. Subtraction (-) - Subtracts two operands\n",
        "\n",
        "C. Multiplication(*) - Multiplies two operands\n",
        "\n",
        "D. Division (/) - Divides the first operand by the second\n",
        "\n",
        "E. Division (//) - Divides the first operand by the second\n",
        "\n",
        "F. Modulus (%) - Returns the remainder when the first operand is divided by the second\n",
        "\n",
        "G. Power(**) - Returns first raised to power second"
      ],
      "metadata": {
        "id": "j7OevwDjZd8W"
      }
    },
    {
      "cell_type": "code",
      "source": [],
      "metadata": {
        "id": "UWzGHifbMaCX"
      },
      "execution_count": null,
      "outputs": []
    },
    {
      "cell_type": "code",
      "source": [
        "10 + 2"
      ],
      "metadata": {
        "colab": {
          "base_uri": "https://localhost:8080/"
        },
        "id": "2YdiMpaLeD44",
        "outputId": "bf5b9cba-75c8-4467-8787-9a0cae6e0fae"
      },
      "execution_count": null,
      "outputs": [
        {
          "output_type": "execute_result",
          "data": {
            "text/plain": [
              "12"
            ]
          },
          "metadata": {},
          "execution_count": 10
        }
      ]
    },
    {
      "cell_type": "code",
      "source": [
        "10 -2"
      ],
      "metadata": {
        "colab": {
          "base_uri": "https://localhost:8080/"
        },
        "id": "1f7XDGmWeEEJ",
        "outputId": "126a8204-2137-43fc-889a-b438236751f7"
      },
      "execution_count": null,
      "outputs": [
        {
          "output_type": "execute_result",
          "data": {
            "text/plain": [
              "8"
            ]
          },
          "metadata": {},
          "execution_count": 11
        }
      ]
    },
    {
      "cell_type": "code",
      "source": [
        "10 * 2"
      ],
      "metadata": {
        "colab": {
          "base_uri": "https://localhost:8080/"
        },
        "id": "uDSZJBjteEHj",
        "outputId": "f26b38b6-27bd-4aaa-b9a1-6dab563b4d42"
      },
      "execution_count": null,
      "outputs": [
        {
          "output_type": "execute_result",
          "data": {
            "text/plain": [
              "20"
            ]
          },
          "metadata": {},
          "execution_count": 12
        }
      ]
    },
    {
      "cell_type": "code",
      "source": [
        "10 / 2"
      ],
      "metadata": {
        "colab": {
          "base_uri": "https://localhost:8080/"
        },
        "id": "3OVtUt9IeERc",
        "outputId": "a9f9abe2-6d6f-4823-a7a5-2ff17908d88e"
      },
      "execution_count": null,
      "outputs": [
        {
          "output_type": "execute_result",
          "data": {
            "text/plain": [
              "5.0"
            ]
          },
          "metadata": {},
          "execution_count": 13
        }
      ]
    },
    {
      "cell_type": "code",
      "source": [
        "10 // 2"
      ],
      "metadata": {
        "colab": {
          "base_uri": "https://localhost:8080/"
        },
        "id": "kQzycYDBeEdX",
        "outputId": "3f974502-d572-4276-c1fe-2bfa9bbad596"
      },
      "execution_count": null,
      "outputs": [
        {
          "output_type": "execute_result",
          "data": {
            "text/plain": [
              "5"
            ]
          },
          "metadata": {},
          "execution_count": 14
        }
      ]
    },
    {
      "cell_type": "code",
      "source": [
        "12 // 7"
      ],
      "metadata": {
        "colab": {
          "base_uri": "https://localhost:8080/"
        },
        "id": "O95S9soveEoo",
        "outputId": "7ddb8f43-0cce-41b1-9873-889cc49802ca"
      },
      "execution_count": null,
      "outputs": [
        {
          "output_type": "execute_result",
          "data": {
            "text/plain": [
              "1"
            ]
          },
          "metadata": {},
          "execution_count": 15
        }
      ]
    },
    {
      "cell_type": "code",
      "source": [
        "3 // 2"
      ],
      "metadata": {
        "colab": {
          "base_uri": "https://localhost:8080/"
        },
        "id": "XBmguOt6eE92",
        "outputId": "2caeb2c9-fd8e-4522-95dd-35a08981b68d"
      },
      "execution_count": null,
      "outputs": [
        {
          "output_type": "execute_result",
          "data": {
            "text/plain": [
              "1"
            ]
          },
          "metadata": {},
          "execution_count": 16
        }
      ]
    },
    {
      "cell_type": "code",
      "source": [
        "print(10 + 2)"
      ],
      "metadata": {
        "colab": {
          "base_uri": "https://localhost:8080/"
        },
        "id": "tVFaNcs3MaFE",
        "outputId": "eb0bcc40-c294-46f8-9239-a8830ee5897c"
      },
      "execution_count": null,
      "outputs": [
        {
          "output_type": "stream",
          "name": "stdout",
          "text": [
            "12\n"
          ]
        }
      ]
    },
    {
      "cell_type": "code",
      "source": [
        "print(10 - 2)"
      ],
      "metadata": {
        "colab": {
          "base_uri": "https://localhost:8080/"
        },
        "id": "4AJg4kqnMaIK",
        "outputId": "9a42dc44-143d-4528-fe88-042b8c863aca"
      },
      "execution_count": null,
      "outputs": [
        {
          "output_type": "stream",
          "name": "stdout",
          "text": [
            "8\n"
          ]
        }
      ]
    },
    {
      "cell_type": "code",
      "source": [
        "print(10 * 2)"
      ],
      "metadata": {
        "colab": {
          "base_uri": "https://localhost:8080/"
        },
        "id": "ZjBqX-ZEMaLr",
        "outputId": "6313404f-6615-4882-8732-67b4e74f8c53"
      },
      "execution_count": null,
      "outputs": [
        {
          "output_type": "stream",
          "name": "stdout",
          "text": [
            "20\n"
          ]
        }
      ]
    },
    {
      "cell_type": "code",
      "source": [
        "print(10 / 2)"
      ],
      "metadata": {
        "colab": {
          "base_uri": "https://localhost:8080/"
        },
        "id": "Rt-jwO4ILmhe",
        "outputId": "c2172109-2e2f-4171-8c73-b7f16a2bf38c"
      },
      "execution_count": null,
      "outputs": [
        {
          "output_type": "stream",
          "name": "stdout",
          "text": [
            "5.0\n"
          ]
        }
      ]
    },
    {
      "cell_type": "code",
      "source": [
        "print(10 // 2)"
      ],
      "metadata": {
        "colab": {
          "base_uri": "https://localhost:8080/"
        },
        "id": "wREzWANOPCA6",
        "outputId": "e4e25562-4564-4fb6-8c98-ed258b5ece7c"
      },
      "execution_count": null,
      "outputs": [
        {
          "output_type": "stream",
          "name": "stdout",
          "text": [
            "5\n"
          ]
        }
      ]
    },
    {
      "cell_type": "code",
      "source": [
        "print(10.0 // 2)"
      ],
      "metadata": {
        "colab": {
          "base_uri": "https://localhost:8080/"
        },
        "id": "fTIPtFAfPKul",
        "outputId": "95591761-e22b-4780-e48e-5c022788a4c8"
      },
      "execution_count": null,
      "outputs": [
        {
          "output_type": "stream",
          "name": "stdout",
          "text": [
            "5.0\n"
          ]
        }
      ]
    },
    {
      "cell_type": "code",
      "source": [
        "print(10.0 + 2)"
      ],
      "metadata": {
        "colab": {
          "base_uri": "https://localhost:8080/"
        },
        "id": "zE3iih4_lgLI",
        "outputId": "7e914abc-0143-41b2-fbf8-fc99579fa266"
      },
      "execution_count": null,
      "outputs": [
        {
          "output_type": "stream",
          "name": "stdout",
          "text": [
            "12.0\n"
          ]
        }
      ]
    },
    {
      "cell_type": "code",
      "source": [
        "print(10.0 - 2)"
      ],
      "metadata": {
        "colab": {
          "base_uri": "https://localhost:8080/"
        },
        "id": "f3GDgr_blgZP",
        "outputId": "fefbfe48-47e0-4fd7-8e4c-083b2640198c"
      },
      "execution_count": null,
      "outputs": [
        {
          "output_type": "stream",
          "name": "stdout",
          "text": [
            "8.0\n"
          ]
        }
      ]
    },
    {
      "cell_type": "code",
      "source": [
        "print(10 * 2.0)"
      ],
      "metadata": {
        "colab": {
          "base_uri": "https://localhost:8080/"
        },
        "id": "KAlsfzjalgkp",
        "outputId": "fc91a3cb-3d44-47a7-f452-376402230c64"
      },
      "execution_count": null,
      "outputs": [
        {
          "output_type": "stream",
          "name": "stdout",
          "text": [
            "20.0\n"
          ]
        }
      ]
    },
    {
      "cell_type": "code",
      "source": [
        "print(10 / 2)"
      ],
      "metadata": {
        "colab": {
          "base_uri": "https://localhost:8080/"
        },
        "id": "zcs80OaRlgvs",
        "outputId": "a9eadd37-95ec-4b19-e962-2154666189ec"
      },
      "execution_count": null,
      "outputs": [
        {
          "output_type": "stream",
          "name": "stdout",
          "text": [
            "5.0\n"
          ]
        }
      ]
    },
    {
      "cell_type": "code",
      "source": [
        "print(10 // 2.0)"
      ],
      "metadata": {
        "colab": {
          "base_uri": "https://localhost:8080/"
        },
        "id": "xoKzZb6Hlumf",
        "outputId": "8947202b-79e1-4f10-fbfd-f89992c0309f"
      },
      "execution_count": null,
      "outputs": [
        {
          "output_type": "stream",
          "name": "stdout",
          "text": [
            "5.0\n"
          ]
        }
      ]
    },
    {
      "cell_type": "code",
      "source": [
        "print(-10 // 2)"
      ],
      "metadata": {
        "id": "UO2XKyesZ1NT",
        "colab": {
          "base_uri": "https://localhost:8080/"
        },
        "outputId": "f8152ac4-7855-4598-a3d9-399ea4e21747"
      },
      "execution_count": null,
      "outputs": [
        {
          "output_type": "stream",
          "name": "stdout",
          "text": [
            "-5\n"
          ]
        }
      ]
    },
    {
      "cell_type": "code",
      "source": [
        "print(10.0 // -2.0)"
      ],
      "metadata": {
        "id": "MYvJ0gDZBrvX",
        "colab": {
          "base_uri": "https://localhost:8080/"
        },
        "outputId": "c818c2b6-01fb-4b12-cb93-5851684f80ef"
      },
      "execution_count": null,
      "outputs": [
        {
          "output_type": "stream",
          "name": "stdout",
          "text": [
            "-5.0\n"
          ]
        }
      ]
    },
    {
      "cell_type": "code",
      "source": [],
      "metadata": {
        "id": "5RcI-lubnXEh"
      },
      "execution_count": null,
      "outputs": []
    },
    {
      "cell_type": "markdown",
      "source": [
        "# How to find floor value and ceil value of any number ????\n",
        "\n",
        "# Floor Value - To find the floor value of any number, always look to the LEFT SIDE of the number line\n",
        "# Ceil Value - To find the floor value of any number, always look to the RIGHT SIDE of the number line\n",
        "\n"
      ],
      "metadata": {
        "id": "04GQxmwfXTiY"
      }
    },
    {
      "cell_type": "code",
      "source": [],
      "metadata": {
        "id": "qJHaeTUQZ2Lv"
      },
      "execution_count": null,
      "outputs": []
    },
    {
      "cell_type": "code",
      "source": [],
      "metadata": {
        "id": "R0IHshgnBtmX"
      },
      "execution_count": null,
      "outputs": []
    },
    {
      "cell_type": "code",
      "source": [
        "print(10.0 // 2.0)"
      ],
      "metadata": {
        "colab": {
          "base_uri": "https://localhost:8080/"
        },
        "id": "gYQ-NXSLPQBD",
        "outputId": "4bfcd998-f64d-4478-8098-7dfc029e5b2c"
      },
      "execution_count": null,
      "outputs": [
        {
          "output_type": "stream",
          "name": "stdout",
          "text": [
            "5.0\n"
          ]
        }
      ]
    },
    {
      "cell_type": "code",
      "source": [
        "print(24 / 5)"
      ],
      "metadata": {
        "colab": {
          "base_uri": "https://localhost:8080/"
        },
        "id": "-zpBArLzPQD-",
        "outputId": "c4886cc5-c00a-4aa3-b36b-a4ad12522b0f"
      },
      "execution_count": null,
      "outputs": [
        {
          "output_type": "stream",
          "name": "stdout",
          "text": [
            "4.8\n"
          ]
        }
      ]
    },
    {
      "cell_type": "code",
      "source": [
        "print(-23 // 2)"
      ],
      "metadata": {
        "colab": {
          "base_uri": "https://localhost:8080/"
        },
        "id": "bcmcYUA9PQHJ",
        "outputId": "b19e7db1-bb63-475d-8794-062b3e071523"
      },
      "execution_count": null,
      "outputs": [
        {
          "output_type": "stream",
          "name": "stdout",
          "text": [
            "-12\n"
          ]
        }
      ]
    },
    {
      "cell_type": "code",
      "source": [
        "print(-10 // 3)"
      ],
      "metadata": {
        "colab": {
          "base_uri": "https://localhost:8080/"
        },
        "id": "ExhLp_FwPsKO",
        "outputId": "0a034755-73f1-4ce0-a411-3b380520a2e9"
      },
      "execution_count": null,
      "outputs": [
        {
          "output_type": "stream",
          "name": "stdout",
          "text": [
            "-4\n"
          ]
        }
      ]
    },
    {
      "cell_type": "code",
      "source": [
        "print(10 // 3)"
      ],
      "metadata": {
        "colab": {
          "base_uri": "https://localhost:8080/"
        },
        "id": "XMypD9eZPsNM",
        "outputId": "6eb40838-d995-45cf-9057-dd496918a107"
      },
      "execution_count": null,
      "outputs": [
        {
          "output_type": "stream",
          "name": "stdout",
          "text": [
            "3\n"
          ]
        }
      ]
    },
    {
      "cell_type": "code",
      "source": [
        "print(10 + 2.0)"
      ],
      "metadata": {
        "colab": {
          "base_uri": "https://localhost:8080/"
        },
        "id": "5CHZwBPuPsQR",
        "outputId": "b573bc67-5256-4f60-ee53-125a1bd0178c"
      },
      "execution_count": null,
      "outputs": [
        {
          "output_type": "stream",
          "name": "stdout",
          "text": [
            "12.0\n"
          ]
        }
      ]
    },
    {
      "cell_type": "code",
      "source": [
        "print(-10.0 // 3.0)"
      ],
      "metadata": {
        "colab": {
          "base_uri": "https://localhost:8080/"
        },
        "id": "I-zLPrtiS-qt",
        "outputId": "fe48c38e-d8a0-4cbf-d814-81de5877d2d1"
      },
      "execution_count": null,
      "outputs": [
        {
          "output_type": "stream",
          "name": "stdout",
          "text": [
            "-4.0\n"
          ]
        }
      ]
    },
    {
      "cell_type": "code",
      "source": [
        "print(-12.0 // 7.0)"
      ],
      "metadata": {
        "colab": {
          "base_uri": "https://localhost:8080/"
        },
        "id": "btRuvbSKS-tV",
        "outputId": "80436ef3-b54c-45c8-95d5-38774e3987fa"
      },
      "execution_count": null,
      "outputs": [
        {
          "output_type": "stream",
          "name": "stdout",
          "text": [
            "-2.0\n"
          ]
        }
      ]
    },
    {
      "cell_type": "code",
      "source": [
        "print(25.0 // 5)"
      ],
      "metadata": {
        "colab": {
          "base_uri": "https://localhost:8080/"
        },
        "id": "HGpafUoHS-w7",
        "outputId": "ad97fb35-75b4-45d5-84ec-c8996958a99b"
      },
      "execution_count": null,
      "outputs": [
        {
          "output_type": "stream",
          "name": "stdout",
          "text": [
            "5.0\n"
          ]
        }
      ]
    },
    {
      "cell_type": "code",
      "source": [
        "print(25.0 // 6.0)"
      ],
      "metadata": {
        "colab": {
          "base_uri": "https://localhost:8080/"
        },
        "id": "1Oe2sPtLUvy3",
        "outputId": "db151922-d59d-4d46-e828-8e9ab47204f9"
      },
      "execution_count": null,
      "outputs": [
        {
          "output_type": "stream",
          "name": "stdout",
          "text": [
            "4.0\n"
          ]
        }
      ]
    },
    {
      "cell_type": "code",
      "source": [
        "print(-25.0 // 6.0)"
      ],
      "metadata": {
        "colab": {
          "base_uri": "https://localhost:8080/"
        },
        "id": "JL83u1iJU1_R",
        "outputId": "afae41cf-45f5-4910-9618-b8d65f6635a6"
      },
      "execution_count": null,
      "outputs": [
        {
          "output_type": "stream",
          "name": "stdout",
          "text": [
            "-5.0\n"
          ]
        }
      ]
    },
    {
      "cell_type": "code",
      "source": [
        "print(-30 // -3)"
      ],
      "metadata": {
        "colab": {
          "base_uri": "https://localhost:8080/"
        },
        "id": "jImDe8DVVbzF",
        "outputId": "02e27f3c-e547-43d6-9b9e-7a19777789f2"
      },
      "execution_count": null,
      "outputs": [
        {
          "output_type": "stream",
          "name": "stdout",
          "text": [
            "10\n"
          ]
        }
      ]
    },
    {
      "cell_type": "code",
      "source": [
        "print(-30.0 // -4.0)"
      ],
      "metadata": {
        "colab": {
          "base_uri": "https://localhost:8080/"
        },
        "id": "7wG68oWNVlA9",
        "outputId": "4b228164-df50-4a5f-a1d9-d807ef54b5c5"
      },
      "execution_count": null,
      "outputs": [
        {
          "output_type": "stream",
          "name": "stdout",
          "text": [
            "7.0\n"
          ]
        }
      ]
    },
    {
      "cell_type": "code",
      "source": [
        "print(-30.0 // 4.0)"
      ],
      "metadata": {
        "colab": {
          "base_uri": "https://localhost:8080/"
        },
        "id": "nmnaQwh-V_0J",
        "outputId": "297a0cc7-1186-4ed9-a5ed-87be8e5c29bb"
      },
      "execution_count": null,
      "outputs": [
        {
          "output_type": "stream",
          "name": "stdout",
          "text": [
            "-8.0\n"
          ]
        }
      ]
    },
    {
      "cell_type": "code",
      "source": [
        "print(12.0 / -5)"
      ],
      "metadata": {
        "id": "1gtDAMqHWRnM",
        "colab": {
          "base_uri": "https://localhost:8080/"
        },
        "outputId": "94eddd87-ef22-44a4-ee6d-9d98e7e9df31"
      },
      "execution_count": null,
      "outputs": [
        {
          "output_type": "stream",
          "name": "stdout",
          "text": [
            "-2.4\n"
          ]
        }
      ]
    },
    {
      "cell_type": "code",
      "source": [
        "# What is the output if user enters an input: 8.87\n",
        "B = float(input())\n",
        "C = int(B)\n",
        "print(C + 2)"
      ],
      "metadata": {
        "colab": {
          "base_uri": "https://localhost:8080/"
        },
        "id": "YkJI6Q1LqhFV",
        "outputId": "f4b3ff47-4993-4834-a00b-de9f0daa43e8"
      },
      "execution_count": null,
      "outputs": [
        {
          "output_type": "stream",
          "name": "stdout",
          "text": [
            "8.87\n",
            "10\n"
          ]
        }
      ]
    },
    {
      "cell_type": "code",
      "source": [
        "10 ** 2"
      ],
      "metadata": {
        "colab": {
          "base_uri": "https://localhost:8080/"
        },
        "id": "OvsnplSNqlWD",
        "outputId": "1ac4e9bc-3278-49ab-ddce-361073ee57ff"
      },
      "execution_count": null,
      "outputs": [
        {
          "output_type": "execute_result",
          "data": {
            "text/plain": [
              "100"
            ]
          },
          "metadata": {},
          "execution_count": 47
        }
      ]
    },
    {
      "cell_type": "code",
      "source": [
        "10 ** 3"
      ],
      "metadata": {
        "colab": {
          "base_uri": "https://localhost:8080/"
        },
        "id": "Nwsf1lFiqll-",
        "outputId": "7d1d2301-58f2-4cd0-c3ff-0e5aebcf904a"
      },
      "execution_count": null,
      "outputs": [
        {
          "output_type": "execute_result",
          "data": {
            "text/plain": [
              "1000"
            ]
          },
          "metadata": {},
          "execution_count": 48
        }
      ]
    },
    {
      "cell_type": "code",
      "source": [
        "25 ** 0.2"
      ],
      "metadata": {
        "colab": {
          "base_uri": "https://localhost:8080/"
        },
        "id": "RJOIztZQql1u",
        "outputId": "d4fbad11-9eef-43a2-b04f-98813b6550a9"
      },
      "execution_count": null,
      "outputs": [
        {
          "output_type": "execute_result",
          "data": {
            "text/plain": [
              "1.9036539387158786"
            ]
          },
          "metadata": {},
          "execution_count": 49
        }
      ]
    },
    {
      "cell_type": "code",
      "source": [
        "25 ** 0.5"
      ],
      "metadata": {
        "colab": {
          "base_uri": "https://localhost:8080/"
        },
        "id": "WNxfoMPaqmDT",
        "outputId": "c668ac08-badf-4c25-f8fd-b7e72a1a71d4"
      },
      "execution_count": null,
      "outputs": [
        {
          "output_type": "execute_result",
          "data": {
            "text/plain": [
              "5.0"
            ]
          },
          "metadata": {},
          "execution_count": 50
        }
      ]
    },
    {
      "cell_type": "code",
      "source": [
        "1000 ** 0.33"
      ],
      "metadata": {
        "id": "KDNLg0TuDzqM",
        "colab": {
          "base_uri": "https://localhost:8080/"
        },
        "outputId": "5db616d9-fde2-4e64-e5e7-bb3baa59cf4d"
      },
      "execution_count": null,
      "outputs": [
        {
          "output_type": "execute_result",
          "data": {
            "text/plain": [
              "9.772372209558108"
            ]
          },
          "metadata": {},
          "execution_count": 51
        }
      ]
    },
    {
      "cell_type": "code",
      "source": [],
      "metadata": {
        "id": "8Lj_HT8qrXn_"
      },
      "execution_count": null,
      "outputs": []
    },
    {
      "cell_type": "code",
      "source": [
        "10 % 2"
      ],
      "metadata": {
        "colab": {
          "base_uri": "https://localhost:8080/"
        },
        "id": "6PNPn11krXz4",
        "outputId": "3e02b7f2-9944-4d87-d0b2-79f7c9e5437b"
      },
      "execution_count": null,
      "outputs": [
        {
          "output_type": "execute_result",
          "data": {
            "text/plain": [
              "0"
            ]
          },
          "metadata": {},
          "execution_count": 52
        }
      ]
    },
    {
      "cell_type": "code",
      "source": [
        "10 % 3"
      ],
      "metadata": {
        "colab": {
          "base_uri": "https://localhost:8080/"
        },
        "id": "9onlEGQIsj2q",
        "outputId": "e68e3fdb-c110-4d80-af4b-323725f830d5"
      },
      "execution_count": null,
      "outputs": [
        {
          "output_type": "execute_result",
          "data": {
            "text/plain": [
              "1"
            ]
          },
          "metadata": {},
          "execution_count": 53
        }
      ]
    },
    {
      "cell_type": "code",
      "source": [
        "-10 % 2"
      ],
      "metadata": {
        "colab": {
          "base_uri": "https://localhost:8080/"
        },
        "id": "hpp-i8CiskJN",
        "outputId": "a20a0865-7531-44c2-cec2-0b3998805afc"
      },
      "execution_count": null,
      "outputs": [
        {
          "output_type": "execute_result",
          "data": {
            "text/plain": [
              "0"
            ]
          },
          "metadata": {},
          "execution_count": 54
        }
      ]
    },
    {
      "cell_type": "code",
      "source": [
        "10 % -3"
      ],
      "metadata": {
        "colab": {
          "base_uri": "https://localhost:8080/"
        },
        "id": "kInhRfwcskVj",
        "outputId": "620b450b-9edd-44fc-fb93-ace900894a03"
      },
      "execution_count": null,
      "outputs": [
        {
          "output_type": "execute_result",
          "data": {
            "text/plain": [
              "-2"
            ]
          },
          "metadata": {},
          "execution_count": 55
        }
      ]
    },
    {
      "cell_type": "code",
      "source": [
        "-10 % -3"
      ],
      "metadata": {
        "colab": {
          "base_uri": "https://localhost:8080/"
        },
        "id": "zKEtkmnOskiz",
        "outputId": "d7e2caee-dffc-4e48-89d5-e415769e559f"
      },
      "execution_count": null,
      "outputs": [
        {
          "output_type": "execute_result",
          "data": {
            "text/plain": [
              "-1"
            ]
          },
          "metadata": {},
          "execution_count": 56
        }
      ]
    },
    {
      "cell_type": "code",
      "source": [
        "3 % 6"
      ],
      "metadata": {
        "colab": {
          "base_uri": "https://localhost:8080/"
        },
        "id": "oacWNz5gsktV",
        "outputId": "d1dbb86e-ad24-48d8-a106-ea63bc44b140"
      },
      "execution_count": null,
      "outputs": [
        {
          "output_type": "execute_result",
          "data": {
            "text/plain": [
              "3"
            ]
          },
          "metadata": {},
          "execution_count": 57
        }
      ]
    },
    {
      "cell_type": "code",
      "source": [
        "9 % 7"
      ],
      "metadata": {
        "id": "YRQRMfY1B_TF",
        "colab": {
          "base_uri": "https://localhost:8080/"
        },
        "outputId": "362a0544-4eb8-4540-b17d-17b8a25e6da9"
      },
      "execution_count": null,
      "outputs": [
        {
          "output_type": "execute_result",
          "data": {
            "text/plain": [
              "2"
            ]
          },
          "metadata": {},
          "execution_count": 58
        }
      ]
    },
    {
      "cell_type": "code",
      "source": [
        "9 % -7"
      ],
      "metadata": {
        "colab": {
          "base_uri": "https://localhost:8080/"
        },
        "id": "xMCHKiKTshhg",
        "outputId": "faceeea3-52cd-4cd8-8d3a-74e4b7020829"
      },
      "execution_count": null,
      "outputs": [
        {
          "output_type": "execute_result",
          "data": {
            "text/plain": [
              "-5"
            ]
          },
          "metadata": {},
          "execution_count": 59
        }
      ]
    },
    {
      "cell_type": "code",
      "source": [
        "# a - (a // b) * b"
      ],
      "metadata": {
        "id": "FsQcNX-Bvair"
      },
      "execution_count": null,
      "outputs": []
    },
    {
      "cell_type": "code",
      "source": [
        "-8 % 6"
      ],
      "metadata": {
        "id": "00xij1yDshu1",
        "colab": {
          "base_uri": "https://localhost:8080/"
        },
        "outputId": "b83bab3f-4b97-4e90-f68e-3f2fb908134c"
      },
      "execution_count": null,
      "outputs": [
        {
          "output_type": "execute_result",
          "data": {
            "text/plain": [
              "4"
            ]
          },
          "metadata": {},
          "execution_count": 61
        }
      ]
    },
    {
      "cell_type": "code",
      "source": [
        "# -8 - (-8 // 6) * 6\n",
        "# -8 - (-2) * 6\n",
        "# -8 + 12\n",
        "# 4"
      ],
      "metadata": {
        "id": "bka8lxlYOzc9"
      },
      "execution_count": null,
      "outputs": []
    },
    {
      "cell_type": "code",
      "source": [],
      "metadata": {
        "id": "L0KDlfBBOzr9"
      },
      "execution_count": null,
      "outputs": []
    },
    {
      "cell_type": "code",
      "source": [
        "# BODMAS Rule"
      ],
      "metadata": {
        "id": "kXGH2m43G4hd"
      },
      "execution_count": null,
      "outputs": []
    },
    {
      "cell_type": "code",
      "source": [
        "10 - 4 * 2 + 5 - 6 // 2\n",
        "\n",
        "# 10 - 8 + 5 - 6 // 2\n",
        "# 10 - 8 + 5 - 3\n",
        "# 2 + 5 - 3\n",
        "# 7 - 3\n",
        "# 4"
      ],
      "metadata": {
        "colab": {
          "base_uri": "https://localhost:8080/"
        },
        "id": "Rhkmh5FKIV6e",
        "outputId": "79499fa8-97d0-45cc-8e03-be9ae9b81f55"
      },
      "execution_count": null,
      "outputs": [
        {
          "output_type": "execute_result",
          "data": {
            "text/plain": [
              "4"
            ]
          },
          "metadata": {},
          "execution_count": 64
        }
      ]
    },
    {
      "cell_type": "code",
      "source": [
        "10 ** 2 - (4 * 2) + (5 - 6) // 5"
      ],
      "metadata": {
        "colab": {
          "base_uri": "https://localhost:8080/"
        },
        "id": "wapAIYV9ss4T",
        "outputId": "1a46c11d-787a-460b-cfb7-349c3877ff21"
      },
      "execution_count": null,
      "outputs": [
        {
          "output_type": "execute_result",
          "data": {
            "text/plain": [
              "91"
            ]
          },
          "metadata": {},
          "execution_count": 65
        }
      ]
    },
    {
      "cell_type": "code",
      "source": [
        "-2 % 5"
      ],
      "metadata": {
        "colab": {
          "base_uri": "https://localhost:8080/"
        },
        "id": "Pt5z9zwOI72g",
        "outputId": "e67ab025-fe01-4dc2-b8de-633731dbfbc2"
      },
      "execution_count": null,
      "outputs": [
        {
          "output_type": "execute_result",
          "data": {
            "text/plain": [
              "3"
            ]
          },
          "metadata": {},
          "execution_count": 66
        }
      ]
    },
    {
      "cell_type": "code",
      "source": [
        "-8 % 7"
      ],
      "metadata": {
        "colab": {
          "base_uri": "https://localhost:8080/"
        },
        "id": "_v7Oc2TEIWB3",
        "outputId": "18f75e70-050a-4a5f-8f87-43b64af70653"
      },
      "execution_count": null,
      "outputs": [
        {
          "output_type": "execute_result",
          "data": {
            "text/plain": [
              "6"
            ]
          },
          "metadata": {},
          "execution_count": 67
        }
      ]
    },
    {
      "cell_type": "code",
      "source": [
        "3 % 6"
      ],
      "metadata": {
        "colab": {
          "base_uri": "https://localhost:8080/"
        },
        "id": "5Fh31vkEIWFJ",
        "outputId": "670117bb-768c-4f19-c290-44236e4ae0b1"
      },
      "execution_count": null,
      "outputs": [
        {
          "output_type": "execute_result",
          "data": {
            "text/plain": [
              "3"
            ]
          },
          "metadata": {},
          "execution_count": 68
        }
      ]
    },
    {
      "cell_type": "code",
      "source": [
        "3 % -6"
      ],
      "metadata": {
        "colab": {
          "base_uri": "https://localhost:8080/"
        },
        "id": "At74vPTqIWIM",
        "outputId": "93b4ddb5-e1ff-462a-db5b-87daadc0ac67"
      },
      "execution_count": null,
      "outputs": [
        {
          "output_type": "execute_result",
          "data": {
            "text/plain": [
              "-3"
            ]
          },
          "metadata": {},
          "execution_count": 69
        }
      ]
    },
    {
      "cell_type": "code",
      "source": [],
      "metadata": {
        "id": "Sna9ec8Ry0Og"
      },
      "execution_count": null,
      "outputs": []
    },
    {
      "cell_type": "code",
      "source": [],
      "metadata": {
        "id": "7LiXeqI9y0f8"
      },
      "execution_count": null,
      "outputs": []
    },
    {
      "cell_type": "markdown",
      "source": [
        "# 2. Comparison Operators -\n",
        "\n",
        "It can be used with various data types, including numbers, strings, booleans, and more. In Python, comparison operators are used to compare the values of two operands (elements being compared). When comparing strings, the comparison is based on the alphabetical order of their characters (lexicographic order)\n",
        "\n",
        "A. Equal to (==) - True if both operands are equal\n",
        "\n",
        "B. Not equal to (!=) - True if operands are not equal\n",
        "\n",
        "C. Greater than (>) - True if the left operand is greater than the right\n",
        "\n",
        "D. Less than (<) - True if the left operand is less than the right\n",
        "\n",
        "E. Greater than or equal to (>=) - True if left operand is greater than or equal to the right\n",
        "\n",
        "F. Less than or equal to (<=) - True if left operand is less than or equal to the right"
      ],
      "metadata": {
        "id": "hsGxYCTwEiEI"
      }
    },
    {
      "cell_type": "code",
      "source": [],
      "metadata": {
        "id": "wjjFAMvmCPZH"
      },
      "execution_count": null,
      "outputs": []
    },
    {
      "cell_type": "code",
      "source": [
        "10 == 2"
      ],
      "metadata": {
        "id": "5WFA6erCEy7Z",
        "colab": {
          "base_uri": "https://localhost:8080/"
        },
        "outputId": "1b643e3f-4c1f-42c4-caa4-c6e677295d43"
      },
      "execution_count": null,
      "outputs": [
        {
          "output_type": "execute_result",
          "data": {
            "text/plain": [
              "False"
            ]
          },
          "metadata": {},
          "execution_count": 70
        }
      ]
    },
    {
      "cell_type": "code",
      "source": [
        "10 == 10"
      ],
      "metadata": {
        "id": "v_c2a392Gr11",
        "colab": {
          "base_uri": "https://localhost:8080/"
        },
        "outputId": "a1d0914f-8e43-4728-f29b-1ab5ae4260e2"
      },
      "execution_count": null,
      "outputs": [
        {
          "output_type": "execute_result",
          "data": {
            "text/plain": [
              "True"
            ]
          },
          "metadata": {},
          "execution_count": 71
        }
      ]
    },
    {
      "cell_type": "code",
      "source": [
        "10.0 == 10"
      ],
      "metadata": {
        "colab": {
          "base_uri": "https://localhost:8080/"
        },
        "id": "h0a90FOX0Ffc",
        "outputId": "505c0979-b85b-4940-8522-444d9e9dec3c"
      },
      "execution_count": null,
      "outputs": [
        {
          "output_type": "execute_result",
          "data": {
            "text/plain": [
              "True"
            ]
          },
          "metadata": {},
          "execution_count": 72
        }
      ]
    },
    {
      "cell_type": "code",
      "source": [
        "10.0 != 10"
      ],
      "metadata": {
        "colab": {
          "base_uri": "https://localhost:8080/"
        },
        "id": "2EycRwVL0FrU",
        "outputId": "171643d0-bdbb-43ce-ca4b-086efd569f47"
      },
      "execution_count": null,
      "outputs": [
        {
          "output_type": "execute_result",
          "data": {
            "text/plain": [
              "False"
            ]
          },
          "metadata": {},
          "execution_count": 73
        }
      ]
    },
    {
      "cell_type": "code",
      "source": [
        "5 != 10"
      ],
      "metadata": {
        "colab": {
          "base_uri": "https://localhost:8080/"
        },
        "id": "GXuNN6580F2m",
        "outputId": "367d7c82-ae60-41de-94d5-2d5f3f569126"
      },
      "execution_count": null,
      "outputs": [
        {
          "output_type": "execute_result",
          "data": {
            "text/plain": [
              "True"
            ]
          },
          "metadata": {},
          "execution_count": 74
        }
      ]
    },
    {
      "cell_type": "code",
      "source": [
        "3 > 2"
      ],
      "metadata": {
        "colab": {
          "base_uri": "https://localhost:8080/"
        },
        "id": "2eT9OAhM0GBa",
        "outputId": "60123721-bf67-4a5d-8175-a11d29313f12"
      },
      "execution_count": null,
      "outputs": [
        {
          "output_type": "execute_result",
          "data": {
            "text/plain": [
              "True"
            ]
          },
          "metadata": {},
          "execution_count": 75
        }
      ]
    },
    {
      "cell_type": "code",
      "source": [
        "-6 > -8"
      ],
      "metadata": {
        "colab": {
          "base_uri": "https://localhost:8080/"
        },
        "id": "aDyIMZnw0GNS",
        "outputId": "92bb0ea1-cb3c-4c31-ede8-ac7ab416e16f"
      },
      "execution_count": null,
      "outputs": [
        {
          "output_type": "execute_result",
          "data": {
            "text/plain": [
              "True"
            ]
          },
          "metadata": {},
          "execution_count": 76
        }
      ]
    },
    {
      "cell_type": "code",
      "source": [
        "6 < 5"
      ],
      "metadata": {
        "colab": {
          "base_uri": "https://localhost:8080/"
        },
        "id": "uLYyvuBA0GZR",
        "outputId": "78e5174b-9485-4529-e39c-91376d9a351a"
      },
      "execution_count": null,
      "outputs": [
        {
          "output_type": "execute_result",
          "data": {
            "text/plain": [
              "False"
            ]
          },
          "metadata": {},
          "execution_count": 77
        }
      ]
    },
    {
      "cell_type": "code",
      "source": [
        "6 < -5"
      ],
      "metadata": {
        "colab": {
          "base_uri": "https://localhost:8080/"
        },
        "id": "a5BhoWHW0GlS",
        "outputId": "56841834-e637-46f1-bd97-b84c35b037b5"
      },
      "execution_count": null,
      "outputs": [
        {
          "output_type": "execute_result",
          "data": {
            "text/plain": [
              "False"
            ]
          },
          "metadata": {},
          "execution_count": 78
        }
      ]
    },
    {
      "cell_type": "code",
      "source": [
        "0 < -5"
      ],
      "metadata": {
        "colab": {
          "base_uri": "https://localhost:8080/"
        },
        "id": "G_151RWY0Gws",
        "outputId": "421f6658-d93a-4fd1-dd0b-f3baf3557651"
      },
      "execution_count": null,
      "outputs": [
        {
          "output_type": "execute_result",
          "data": {
            "text/plain": [
              "False"
            ]
          },
          "metadata": {},
          "execution_count": 79
        }
      ]
    },
    {
      "cell_type": "code",
      "source": [
        "5 >= 3"
      ],
      "metadata": {
        "id": "PdctD5tRHRjP",
        "colab": {
          "base_uri": "https://localhost:8080/"
        },
        "outputId": "5265d839-7f36-4d4f-fae8-5ff0e7352181"
      },
      "execution_count": null,
      "outputs": [
        {
          "output_type": "execute_result",
          "data": {
            "text/plain": [
              "True"
            ]
          },
          "metadata": {},
          "execution_count": 80
        }
      ]
    },
    {
      "cell_type": "code",
      "source": [
        "5 >= 5"
      ],
      "metadata": {
        "colab": {
          "base_uri": "https://localhost:8080/"
        },
        "id": "F3L4VsQb1RuR",
        "outputId": "7ae2439e-e8cd-45e1-cc6d-dcc1988571bd"
      },
      "execution_count": null,
      "outputs": [
        {
          "output_type": "execute_result",
          "data": {
            "text/plain": [
              "True"
            ]
          },
          "metadata": {},
          "execution_count": 81
        }
      ]
    },
    {
      "cell_type": "code",
      "source": [
        "-5 >= 5"
      ],
      "metadata": {
        "colab": {
          "base_uri": "https://localhost:8080/"
        },
        "id": "pYlswylrz9Or",
        "outputId": "887b892f-5c8c-48a4-d672-259707bed5ae"
      },
      "execution_count": null,
      "outputs": [
        {
          "output_type": "execute_result",
          "data": {
            "text/plain": [
              "False"
            ]
          },
          "metadata": {},
          "execution_count": 82
        }
      ]
    },
    {
      "cell_type": "code",
      "source": [],
      "metadata": {
        "id": "svLId8ysz-Xf"
      },
      "execution_count": null,
      "outputs": []
    },
    {
      "cell_type": "code",
      "source": [
        "# Chaining comparison operators -\n",
        "Anjali = 5\n",
        "\n",
        "print(1 < Anjali  < 10)"
      ],
      "metadata": {
        "colab": {
          "base_uri": "https://localhost:8080/"
        },
        "id": "D7V-Wl81n7wR",
        "outputId": "f54c04e9-fa02-4c7f-d2cd-21dc74de264a"
      },
      "execution_count": null,
      "outputs": [
        {
          "output_type": "stream",
          "name": "stdout",
          "text": [
            "True\n"
          ]
        }
      ]
    },
    {
      "cell_type": "code",
      "source": [
        "Anjali = 5\n",
        "print(10 > Anjali <= 9)"
      ],
      "metadata": {
        "colab": {
          "base_uri": "https://localhost:8080/"
        },
        "id": "KPZn5nBJn-hj",
        "outputId": "afdaeeb5-b4a2-45af-8bba-acaf9558219d"
      },
      "execution_count": null,
      "outputs": [
        {
          "output_type": "stream",
          "name": "stdout",
          "text": [
            "True\n"
          ]
        }
      ]
    },
    {
      "cell_type": "code",
      "source": [
        "Anjali = 5\n",
        "print(4 < Anjali != 5)"
      ],
      "metadata": {
        "colab": {
          "base_uri": "https://localhost:8080/"
        },
        "id": "VqhESBSsoK4D",
        "outputId": "661753a9-2c28-4a48-b732-f4a2f36d3ed6"
      },
      "execution_count": null,
      "outputs": [
        {
          "output_type": "stream",
          "name": "stdout",
          "text": [
            "False\n"
          ]
        }
      ]
    },
    {
      "cell_type": "code",
      "source": [
        "Anjali = 5\n",
        "print(Anjali < 10 < Anjali * 10 == 50)"
      ],
      "metadata": {
        "colab": {
          "base_uri": "https://localhost:8080/"
        },
        "id": "KUDl5YYQoOT0",
        "outputId": "62c3105e-1ad3-41c1-f8ed-d0d541079f00"
      },
      "execution_count": null,
      "outputs": [
        {
          "output_type": "stream",
          "name": "stdout",
          "text": [
            "True\n"
          ]
        }
      ]
    },
    {
      "cell_type": "code",
      "source": [],
      "metadata": {
        "id": "-R8AalJ_PKqr"
      },
      "execution_count": null,
      "outputs": []
    },
    {
      "cell_type": "code",
      "source": [],
      "metadata": {
        "id": "K0pMyUP_PKwW"
      },
      "execution_count": null,
      "outputs": []
    },
    {
      "cell_type": "markdown",
      "source": [
        "# 3. Assignment Operators -\n",
        "\n",
        "A. =  Assign the value of the right side of the expression to the left side operand\n",
        "\n",
        "B. += Add right side operand with left side operand and then assign the result to left operand\n",
        "\n",
        "C. -=  Subtract right side operand from left side operand and then assign the result to left operand\n",
        "\n",
        "D. *=  Multiply right operand with left operand and then assign the result to the left operand\n",
        "\n",
        "E. /=  Divide left operand with right operand and then assign the result to the left operand\n",
        "\n",
        "F. %=  Divides the left operand with the right operand and then assign the remainder to the left operand\n",
        "\n",
        "G. //=  Divide left operand with right operand and then assign the value(floor) to left operand\n",
        "\n",
        "H. **= - Calculate exponent(raise power) value using operands and then assign the result to left operand\n"
      ],
      "metadata": {
        "id": "6ciSOGhMEt2Z"
      }
    },
    {
      "cell_type": "code",
      "source": [],
      "metadata": {
        "id": "O7Cs0fmRHRy9"
      },
      "execution_count": null,
      "outputs": []
    },
    {
      "cell_type": "code",
      "source": [
        "Anjali= 10\n",
        "Khushi = Anjali\n",
        "Anjali = 20\n",
        "print(Khushi)"
      ],
      "metadata": {
        "id": "y7qkEfRUF9HF",
        "colab": {
          "base_uri": "https://localhost:8080/"
        },
        "outputId": "d46ac996-f088-4278-859e-743535f8b836"
      },
      "execution_count": null,
      "outputs": [
        {
          "output_type": "stream",
          "name": "stdout",
          "text": [
            "10\n"
          ]
        }
      ]
    },
    {
      "cell_type": "code",
      "source": [
        "Anjali = 10\n",
        "Anjali = Anjali + 50\n",
        "print(Anjali)"
      ],
      "metadata": {
        "colab": {
          "base_uri": "https://localhost:8080/"
        },
        "id": "RX2q1dojoXKP",
        "outputId": "29c16ff5-0ffa-471a-e33f-161d559cc867"
      },
      "execution_count": null,
      "outputs": [
        {
          "output_type": "stream",
          "name": "stdout",
          "text": [
            "60\n"
          ]
        }
      ]
    },
    {
      "cell_type": "code",
      "source": [
        "Anjali = int(input())\n",
        "Anjali = Anjali + 50\n",
        "print(Anjali)"
      ],
      "metadata": {
        "colab": {
          "base_uri": "https://localhost:8080/"
        },
        "id": "9v48Qbh2oXN1",
        "outputId": "0578b6d4-6a68-4b55-86b0-e42c41fd6dd5"
      },
      "execution_count": null,
      "outputs": [
        {
          "output_type": "stream",
          "name": "stdout",
          "text": [
            "10\n",
            "60\n"
          ]
        }
      ]
    },
    {
      "cell_type": "code",
      "source": [
        "Anjali = int(input())\n",
        "Anjali += 50    # Shorthand operator\n",
        "print(Anjali)"
      ],
      "metadata": {
        "colab": {
          "base_uri": "https://localhost:8080/"
        },
        "id": "T6geYGIroXRg",
        "outputId": "d852e760-829a-4f14-8920-35d0f2140740"
      },
      "execution_count": null,
      "outputs": [
        {
          "output_type": "stream",
          "name": "stdout",
          "text": [
            "10\n",
            "60\n"
          ]
        }
      ]
    },
    {
      "cell_type": "code",
      "source": [
        "Khushi = 50\n",
        "Khushi = Khushi - 10\n",
        "print(Khushi)"
      ],
      "metadata": {
        "colab": {
          "base_uri": "https://localhost:8080/"
        },
        "id": "KHsDUsY4oXUa",
        "outputId": "c1246d01-bc28-4687-b526-990a20c5397d"
      },
      "execution_count": null,
      "outputs": [
        {
          "output_type": "stream",
          "name": "stdout",
          "text": [
            "40\n"
          ]
        }
      ]
    },
    {
      "cell_type": "code",
      "source": [
        "Khushi = 50\n",
        "Khushi -= 10\n",
        "print(Khushi)"
      ],
      "metadata": {
        "id": "HE7ReeJKThjM",
        "colab": {
          "base_uri": "https://localhost:8080/"
        },
        "outputId": "dc1954e7-6c56-4be4-8352-e8a213ecd158"
      },
      "execution_count": null,
      "outputs": [
        {
          "output_type": "stream",
          "name": "stdout",
          "text": [
            "40\n"
          ]
        }
      ]
    },
    {
      "cell_type": "code",
      "source": [
        "Anjali = 20\n",
        "Anjali = Anjali * 2\n",
        "print(Anjali)"
      ],
      "metadata": {
        "colab": {
          "base_uri": "https://localhost:8080/"
        },
        "id": "lkdPYjASzzam",
        "outputId": "8b595708-f50f-44c9-bb87-71be5f63cdfd"
      },
      "execution_count": null,
      "outputs": [
        {
          "output_type": "stream",
          "name": "stdout",
          "text": [
            "40\n"
          ]
        }
      ]
    },
    {
      "cell_type": "code",
      "source": [
        "Anjali = 20\n",
        "Anjali = Anjali ** 2\n",
        "print(Anjali)"
      ],
      "metadata": {
        "colab": {
          "base_uri": "https://localhost:8080/"
        },
        "id": "UCXshz7Ez4hY",
        "outputId": "52625cfa-8372-4f12-ccbb-93ec5b10154c"
      },
      "execution_count": null,
      "outputs": [
        {
          "output_type": "stream",
          "name": "stdout",
          "text": [
            "400\n"
          ]
        }
      ]
    },
    {
      "cell_type": "code",
      "source": [],
      "metadata": {
        "id": "ULv4MT5Nz4wE"
      },
      "execution_count": null,
      "outputs": []
    },
    {
      "cell_type": "code",
      "source": [],
      "metadata": {
        "id": "WLaixSdsz4z9"
      },
      "execution_count": null,
      "outputs": []
    },
    {
      "cell_type": "markdown",
      "source": [
        "# 4. Logical Operators -\n",
        "\n",
        "A. and - True if both the operands are true\n",
        "\n",
        "B. or - True if either of the operands is true\n",
        "\n",
        "C. not -  True if the operand is false"
      ],
      "metadata": {
        "id": "NwIHEoaODX68"
      }
    },
    {
      "cell_type": "code",
      "source": [
        "True and False"
      ],
      "metadata": {
        "id": "mKPcFzZcNtN9",
        "colab": {
          "base_uri": "https://localhost:8080/"
        },
        "outputId": "54c96014-85cd-4370-bc7a-a7b854a706ea"
      },
      "execution_count": null,
      "outputs": [
        {
          "output_type": "execute_result",
          "data": {
            "text/plain": [
              "False"
            ]
          },
          "metadata": {},
          "execution_count": 96
        }
      ]
    },
    {
      "cell_type": "code",
      "source": [
        "False and False"
      ],
      "metadata": {
        "colab": {
          "base_uri": "https://localhost:8080/"
        },
        "id": "u3SMb-DC0gnS",
        "outputId": "cb43abf8-588b-4002-df73-ae15eb46b3bc"
      },
      "execution_count": null,
      "outputs": [
        {
          "output_type": "execute_result",
          "data": {
            "text/plain": [
              "False"
            ]
          },
          "metadata": {},
          "execution_count": 97
        }
      ]
    },
    {
      "cell_type": "code",
      "source": [
        "True and True"
      ],
      "metadata": {
        "colab": {
          "base_uri": "https://localhost:8080/"
        },
        "id": "DqngO5Sg0g1e",
        "outputId": "123276c9-1cd0-43ca-833e-b4c45e2981cb"
      },
      "execution_count": null,
      "outputs": [
        {
          "output_type": "execute_result",
          "data": {
            "text/plain": [
              "True"
            ]
          },
          "metadata": {},
          "execution_count": 98
        }
      ]
    },
    {
      "cell_type": "code",
      "source": [
        "False and True"
      ],
      "metadata": {
        "colab": {
          "base_uri": "https://localhost:8080/"
        },
        "id": "LkxgpvuT0hDy",
        "outputId": "e863e183-a319-4a77-b032-5d56300a4797"
      },
      "execution_count": null,
      "outputs": [
        {
          "output_type": "execute_result",
          "data": {
            "text/plain": [
              "False"
            ]
          },
          "metadata": {},
          "execution_count": 99
        }
      ]
    },
    {
      "cell_type": "code",
      "source": [],
      "metadata": {
        "id": "z0NBijYiNtRU"
      },
      "execution_count": null,
      "outputs": []
    },
    {
      "cell_type": "markdown",
      "source": [
        "# and operation\n",
        "# If the first value is False -> Return that value\n",
        "# If the first value is True -> Return the second value"
      ],
      "metadata": {
        "id": "3SqS09V6TtlS"
      }
    },
    {
      "cell_type": "code",
      "source": [
        "True and False"
      ],
      "metadata": {
        "colab": {
          "base_uri": "https://localhost:8080/"
        },
        "id": "QXSe58W6ItgZ",
        "outputId": "3d716364-67d2-45b5-fcf1-0d3cb8b70380"
      },
      "execution_count": null,
      "outputs": [
        {
          "output_type": "execute_result",
          "data": {
            "text/plain": [
              "False"
            ]
          },
          "metadata": {},
          "execution_count": 100
        }
      ]
    },
    {
      "cell_type": "code",
      "source": [
        "True and \"String\""
      ],
      "metadata": {
        "colab": {
          "base_uri": "https://localhost:8080/",
          "height": 36
        },
        "id": "-A_Lu0nxItpO",
        "outputId": "e38c3c01-34da-4e57-c0ae-3ac265e49b8e"
      },
      "execution_count": null,
      "outputs": [
        {
          "output_type": "execute_result",
          "data": {
            "text/plain": [
              "'String'"
            ],
            "application/vnd.google.colaboratory.intrinsic+json": {
              "type": "string"
            }
          },
          "metadata": {},
          "execution_count": 101
        }
      ]
    },
    {
      "cell_type": "code",
      "source": [
        "\"Anjali\" and False"
      ],
      "metadata": {
        "colab": {
          "base_uri": "https://localhost:8080/"
        },
        "id": "S-F-t2_IItvg",
        "outputId": "15283cfa-94a2-4d77-b73e-3e886e7f11e1"
      },
      "execution_count": null,
      "outputs": [
        {
          "output_type": "execute_result",
          "data": {
            "text/plain": [
              "False"
            ]
          },
          "metadata": {},
          "execution_count": 103
        }
      ]
    },
    {
      "cell_type": "code",
      "source": [
        "False and \"Khushi\""
      ],
      "metadata": {
        "colab": {
          "base_uri": "https://localhost:8080/"
        },
        "id": "V9uSZmTvJSCc",
        "outputId": "557d0631-226d-4cc0-d699-fac3a7cc37cc"
      },
      "execution_count": null,
      "outputs": [
        {
          "output_type": "execute_result",
          "data": {
            "text/plain": [
              "False"
            ]
          },
          "metadata": {},
          "execution_count": 104
        }
      ]
    },
    {
      "cell_type": "code",
      "source": [
        "\"Anjali\" and \"Khushi\""
      ],
      "metadata": {
        "colab": {
          "base_uri": "https://localhost:8080/",
          "height": 36
        },
        "id": "O41ra7nCJSQ4",
        "outputId": "a9aa492b-5faa-4091-92fe-79bae2a4f809"
      },
      "execution_count": null,
      "outputs": [
        {
          "output_type": "execute_result",
          "data": {
            "text/plain": [
              "'Khushi'"
            ],
            "application/vnd.google.colaboratory.intrinsic+json": {
              "type": "string"
            }
          },
          "metadata": {},
          "execution_count": 105
        }
      ]
    },
    {
      "cell_type": "code",
      "source": [
        "\"Anjali\" and True"
      ],
      "metadata": {
        "colab": {
          "base_uri": "https://localhost:8080/"
        },
        "id": "eYFhAbY1JSdY",
        "outputId": "6bc56e2a-3da8-495e-bc1f-2064e34cf00c"
      },
      "execution_count": null,
      "outputs": [
        {
          "output_type": "execute_result",
          "data": {
            "text/plain": [
              "True"
            ]
          },
          "metadata": {},
          "execution_count": 106
        }
      ]
    },
    {
      "cell_type": "code",
      "source": [
        "True and \"Khushi\""
      ],
      "metadata": {
        "id": "iWNU5T9ZNBA1",
        "colab": {
          "base_uri": "https://localhost:8080/",
          "height": 36
        },
        "outputId": "6374cafc-152d-4d37-a632-e73b37ff1dbe"
      },
      "execution_count": null,
      "outputs": [
        {
          "output_type": "execute_result",
          "data": {
            "text/plain": [
              "'Khushi'"
            ],
            "application/vnd.google.colaboratory.intrinsic+json": {
              "type": "string"
            }
          },
          "metadata": {},
          "execution_count": 107
        }
      ]
    },
    {
      "cell_type": "code",
      "source": [
        "\"Anjali\" and \"Khushi\""
      ],
      "metadata": {
        "id": "BhrGtI1bUupU",
        "colab": {
          "base_uri": "https://localhost:8080/",
          "height": 36
        },
        "outputId": "3a094587-d5fc-4688-b710-5cdf3ad78c2d"
      },
      "execution_count": null,
      "outputs": [
        {
          "output_type": "execute_result",
          "data": {
            "text/plain": [
              "'Khushi'"
            ],
            "application/vnd.google.colaboratory.intrinsic+json": {
              "type": "string"
            }
          },
          "metadata": {},
          "execution_count": 108
        }
      ]
    },
    {
      "cell_type": "code",
      "source": [
        "False and 10.0"
      ],
      "metadata": {
        "id": "BKZhgaSyU7w-",
        "colab": {
          "base_uri": "https://localhost:8080/"
        },
        "outputId": "4b0aa1f2-085a-4345-ee40-40168a3bf54c"
      },
      "execution_count": null,
      "outputs": [
        {
          "output_type": "execute_result",
          "data": {
            "text/plain": [
              "False"
            ]
          },
          "metadata": {},
          "execution_count": 109
        }
      ]
    },
    {
      "cell_type": "code",
      "source": [
        "10.0 and False"
      ],
      "metadata": {
        "colab": {
          "base_uri": "https://localhost:8080/"
        },
        "id": "MmEEmNnK2utt",
        "outputId": "5a03faa9-1eee-4007-b1d2-446946578abc"
      },
      "execution_count": null,
      "outputs": [
        {
          "output_type": "execute_result",
          "data": {
            "text/plain": [
              "False"
            ]
          },
          "metadata": {},
          "execution_count": 110
        }
      ]
    },
    {
      "cell_type": "code",
      "source": [
        "(10 % 2)  and False"
      ],
      "metadata": {
        "colab": {
          "base_uri": "https://localhost:8080/"
        },
        "id": "k6OHDxO02x50",
        "outputId": "4038e648-dd08-4bfb-f603-354a498e08f8"
      },
      "execution_count": null,
      "outputs": [
        {
          "output_type": "execute_result",
          "data": {
            "text/plain": [
              "0"
            ]
          },
          "metadata": {},
          "execution_count": 111
        }
      ]
    },
    {
      "cell_type": "code",
      "source": [],
      "metadata": {
        "id": "Nhx6wzI92yJu"
      },
      "execution_count": null,
      "outputs": []
    },
    {
      "cell_type": "markdown",
      "source": [
        "# or operation\n",
        "# If the first value is True -> Return that value\n",
        "# If the first value is False -> Return the second value"
      ],
      "metadata": {
        "id": "1fOuTGI1Txox"
      }
    },
    {
      "cell_type": "code",
      "source": [
        "True or True"
      ],
      "metadata": {
        "colab": {
          "base_uri": "https://localhost:8080/"
        },
        "id": "EzEpym4XJooC",
        "outputId": "ca69ff89-27fa-4adf-a97a-e62cc4c088af"
      },
      "execution_count": null,
      "outputs": [
        {
          "output_type": "execute_result",
          "data": {
            "text/plain": [
              "True"
            ]
          },
          "metadata": {},
          "execution_count": 112
        }
      ]
    },
    {
      "cell_type": "code",
      "source": [
        "True or False"
      ],
      "metadata": {
        "colab": {
          "base_uri": "https://localhost:8080/"
        },
        "id": "2NGFtAKSJo4q",
        "outputId": "b63f5cea-1007-4724-9c9c-007597448804"
      },
      "execution_count": null,
      "outputs": [
        {
          "output_type": "execute_result",
          "data": {
            "text/plain": [
              "True"
            ]
          },
          "metadata": {},
          "execution_count": 113
        }
      ]
    },
    {
      "cell_type": "code",
      "source": [
        "False or True"
      ],
      "metadata": {
        "colab": {
          "base_uri": "https://localhost:8080/"
        },
        "id": "J70iXHbQJpLB",
        "outputId": "361193b3-47ba-4109-cf87-7d369eac8cd4"
      },
      "execution_count": null,
      "outputs": [
        {
          "output_type": "execute_result",
          "data": {
            "text/plain": [
              "True"
            ]
          },
          "metadata": {},
          "execution_count": 114
        }
      ]
    },
    {
      "cell_type": "code",
      "source": [
        "\"Anjali\" and \"Khushi\""
      ],
      "metadata": {
        "colab": {
          "base_uri": "https://localhost:8080/",
          "height": 36
        },
        "id": "DWyxcEayJpd6",
        "outputId": "d184c977-4707-48a3-a802-ed2a72725648"
      },
      "execution_count": null,
      "outputs": [
        {
          "output_type": "execute_result",
          "data": {
            "text/plain": [
              "'Khushi'"
            ],
            "application/vnd.google.colaboratory.intrinsic+json": {
              "type": "string"
            }
          },
          "metadata": {},
          "execution_count": 116
        }
      ]
    },
    {
      "cell_type": "code",
      "source": [
        "\"Anjali\" or \"Khushi\""
      ],
      "metadata": {
        "colab": {
          "base_uri": "https://localhost:8080/",
          "height": 36
        },
        "id": "ElfY2El_J4vt",
        "outputId": "9c0c880e-fbdd-4baa-b01e-728a22e71fc5"
      },
      "execution_count": null,
      "outputs": [
        {
          "output_type": "execute_result",
          "data": {
            "text/plain": [
              "'Anjali'"
            ],
            "application/vnd.google.colaboratory.intrinsic+json": {
              "type": "string"
            }
          },
          "metadata": {},
          "execution_count": 117
        }
      ]
    },
    {
      "cell_type": "code",
      "source": [
        "10.00 or \"Anjali\""
      ],
      "metadata": {
        "colab": {
          "base_uri": "https://localhost:8080/"
        },
        "id": "XmuV3-USJ5Be",
        "outputId": "cb90fa72-4671-4094-f0aa-7a4fc8a1990f"
      },
      "execution_count": null,
      "outputs": [
        {
          "output_type": "execute_result",
          "data": {
            "text/plain": [
              "10.0"
            ]
          },
          "metadata": {},
          "execution_count": 118
        }
      ]
    },
    {
      "cell_type": "code",
      "source": [
        "\"Women\" and False or  10 and 20 and 30 and \"Data\" or \"Anjali\" and \"Khushi\""
      ],
      "metadata": {
        "colab": {
          "base_uri": "https://localhost:8080/",
          "height": 36
        },
        "id": "QS3dBLRxJ6mi",
        "outputId": "c8898182-30a5-4d7c-86e5-2e4ba847bd99"
      },
      "execution_count": null,
      "outputs": [
        {
          "output_type": "execute_result",
          "data": {
            "text/plain": [
              "'Data'"
            ],
            "application/vnd.google.colaboratory.intrinsic+json": {
              "type": "string"
            }
          },
          "metadata": {},
          "execution_count": 119
        }
      ]
    },
    {
      "cell_type": "code",
      "source": [
        "\"Anjali\" or \"Ankita\" or \"Pooja\" or \"Vrushabh\" or \"Tejas\" or \"Piyush\" and \"Women\" and \"Anjali\" or \"Khushi\""
      ],
      "metadata": {
        "colab": {
          "base_uri": "https://localhost:8080/",
          "height": 36
        },
        "id": "C6Bv2a3pJ61t",
        "outputId": "0b8bb657-4924-47ad-c5af-3e1b893cb31e"
      },
      "execution_count": null,
      "outputs": [
        {
          "output_type": "execute_result",
          "data": {
            "text/plain": [
              "'Anjali'"
            ],
            "application/vnd.google.colaboratory.intrinsic+json": {
              "type": "string"
            }
          },
          "metadata": {},
          "execution_count": 120
        }
      ]
    },
    {
      "cell_type": "code",
      "source": [
        "\"Ankita\" and \"Women\" or \"Data\" and \"Vrushabh\" or \"Pooja\" or \"Piyush\" and \"Tejas\" and \"Anjali\" or \"Khushi\""
      ],
      "metadata": {
        "colab": {
          "base_uri": "https://localhost:8080/",
          "height": 36
        },
        "id": "WzBYU3IcJpxh",
        "outputId": "382bd15c-0cc1-461c-aefa-d2a72cccd382"
      },
      "execution_count": null,
      "outputs": [
        {
          "output_type": "execute_result",
          "data": {
            "text/plain": [
              "'Women'"
            ],
            "application/vnd.google.colaboratory.intrinsic+json": {
              "type": "string"
            }
          },
          "metadata": {},
          "execution_count": 121
        }
      ]
    },
    {
      "cell_type": "code",
      "source": [],
      "metadata": {
        "id": "mxDaTNfULdSO"
      },
      "execution_count": null,
      "outputs": []
    },
    {
      "cell_type": "code",
      "source": [
        "True or False"
      ],
      "metadata": {
        "id": "oQjPWYLeU907",
        "colab": {
          "base_uri": "https://localhost:8080/"
        },
        "outputId": "fdcf8dc5-3dc5-4469-f0ff-cfc36569eeac"
      },
      "execution_count": null,
      "outputs": [
        {
          "output_type": "execute_result",
          "data": {
            "text/plain": [
              "True"
            ]
          },
          "metadata": {},
          "execution_count": 122
        }
      ]
    },
    {
      "cell_type": "code",
      "source": [
        "False or True"
      ],
      "metadata": {
        "id": "l5Rr2ZOxWO4W",
        "colab": {
          "base_uri": "https://localhost:8080/"
        },
        "outputId": "cd0a9fe6-b8e3-497e-88b3-5922a060bd7f"
      },
      "execution_count": null,
      "outputs": [
        {
          "output_type": "execute_result",
          "data": {
            "text/plain": [
              "True"
            ]
          },
          "metadata": {},
          "execution_count": 123
        }
      ]
    },
    {
      "cell_type": "code",
      "source": [
        "10 and 20"
      ],
      "metadata": {
        "id": "lQM5uvCrWPCj",
        "colab": {
          "base_uri": "https://localhost:8080/"
        },
        "outputId": "cb7e439d-8aa0-4f73-bddc-e9b31440dacd"
      },
      "execution_count": null,
      "outputs": [
        {
          "output_type": "execute_result",
          "data": {
            "text/plain": [
              "20"
            ]
          },
          "metadata": {},
          "execution_count": 124
        }
      ]
    },
    {
      "cell_type": "code",
      "source": [
        "10 or 20"
      ],
      "metadata": {
        "colab": {
          "base_uri": "https://localhost:8080/"
        },
        "id": "AwJzk9H64PbD",
        "outputId": "91a57245-35c4-489d-cda2-0e4701bcdea0"
      },
      "execution_count": null,
      "outputs": [
        {
          "output_type": "execute_result",
          "data": {
            "text/plain": [
              "10"
            ]
          },
          "metadata": {},
          "execution_count": 125
        }
      ]
    },
    {
      "cell_type": "code",
      "source": [
        "False or 20"
      ],
      "metadata": {
        "colab": {
          "base_uri": "https://localhost:8080/"
        },
        "id": "r8x9UbsI4Pot",
        "outputId": "039e9c86-b3e6-440d-c070-2ba5842bf3f3"
      },
      "execution_count": null,
      "outputs": [
        {
          "output_type": "execute_result",
          "data": {
            "text/plain": [
              "20"
            ]
          },
          "metadata": {},
          "execution_count": 126
        }
      ]
    },
    {
      "cell_type": "code",
      "source": [
        "bool(0.000000000000000000000000000010000000000000) == True"
      ],
      "metadata": {
        "colab": {
          "base_uri": "https://localhost:8080/"
        },
        "id": "uv3LIhr54P1U",
        "outputId": "fee81ac7-c6f0-4cd3-f7ee-be7a18a7edde"
      },
      "execution_count": null,
      "outputs": [
        {
          "output_type": "execute_result",
          "data": {
            "text/plain": [
              "True"
            ]
          },
          "metadata": {},
          "execution_count": 127
        }
      ]
    },
    {
      "cell_type": "code",
      "source": [
        "bool(0.00000000000000000000002 == False)"
      ],
      "metadata": {
        "colab": {
          "base_uri": "https://localhost:8080/"
        },
        "id": "gzwcE1iu4P_5",
        "outputId": "310bcfe3-2cf3-4178-8fdd-569fb6093045"
      },
      "execution_count": null,
      "outputs": [
        {
          "output_type": "execute_result",
          "data": {
            "text/plain": [
              "False"
            ]
          },
          "metadata": {},
          "execution_count": 128
        }
      ]
    },
    {
      "cell_type": "code",
      "source": [
        "True and \"Anjali\" and 20 and 50 and 6.0 and \"Khushi\" or \"Women in data\" and \"Data scientist\""
      ],
      "metadata": {
        "colab": {
          "base_uri": "https://localhost:8080/",
          "height": 36
        },
        "id": "giSWE1sj4NJK",
        "outputId": "cf24d8b6-b68f-412a-c1ed-d224b95add99"
      },
      "execution_count": null,
      "outputs": [
        {
          "output_type": "execute_result",
          "data": {
            "text/plain": [
              "'Khushi'"
            ],
            "application/vnd.google.colaboratory.intrinsic+json": {
              "type": "string"
            }
          },
          "metadata": {},
          "execution_count": 129
        }
      ]
    },
    {
      "cell_type": "code",
      "source": [
        "False or True and \"Anjali\" or 20 or 50 and 6.0 and \"Khushi\" and \"Women in data\" or \"Data scientist\""
      ],
      "metadata": {
        "colab": {
          "base_uri": "https://localhost:8080/",
          "height": 36
        },
        "id": "lr4OBNgG4NWS",
        "outputId": "585eb08c-d92b-4dd2-9c2a-39257deefa3f"
      },
      "execution_count": null,
      "outputs": [
        {
          "output_type": "execute_result",
          "data": {
            "text/plain": [
              "'Anjali'"
            ],
            "application/vnd.google.colaboratory.intrinsic+json": {
              "type": "string"
            }
          },
          "metadata": {},
          "execution_count": 130
        }
      ]
    },
    {
      "cell_type": "code",
      "source": [
        "-2 % 5"
      ],
      "metadata": {
        "colab": {
          "base_uri": "https://localhost:8080/"
        },
        "id": "jTF8JUOG4Njk",
        "outputId": "d88dfdeb-027a-45df-ecae-5a8eba94857d"
      },
      "execution_count": null,
      "outputs": [
        {
          "output_type": "execute_result",
          "data": {
            "text/plain": [
              "3"
            ]
          },
          "metadata": {},
          "execution_count": 131
        }
      ]
    },
    {
      "cell_type": "code",
      "source": [
        "False or \"Anjali\" or \"Khushi\" and \"Women\" or 10"
      ],
      "metadata": {
        "id": "a8UJ2Fc3dMAJ",
        "colab": {
          "base_uri": "https://localhost:8080/",
          "height": 36
        },
        "outputId": "c2645f8c-a542-455e-b345-f029cd1241e3"
      },
      "execution_count": null,
      "outputs": [
        {
          "output_type": "execute_result",
          "data": {
            "text/plain": [
              "'Anjali'"
            ],
            "application/vnd.google.colaboratory.intrinsic+json": {
              "type": "string"
            }
          },
          "metadata": {},
          "execution_count": 133
        }
      ]
    },
    {
      "cell_type": "code",
      "source": [
        "True or False and \"Anjali\" or \"Khushi\" and \"Pooja\"and 10 and \"Data\" or  \"20\" or True and \"WommenInData\" and 20.13"
      ],
      "metadata": {
        "colab": {
          "base_uri": "https://localhost:8080/"
        },
        "id": "DSIKXSVoEDvI",
        "outputId": "43562f22-1b96-4e12-9042-2ff8de2b14df"
      },
      "execution_count": null,
      "outputs": [
        {
          "output_type": "execute_result",
          "data": {
            "text/plain": [
              "True"
            ]
          },
          "metadata": {},
          "execution_count": 134
        }
      ]
    },
    {
      "cell_type": "code",
      "source": [
        "True and False and \"Anjali\" or \"Khushi\" and \"Pooja\"and 10 and \"Data\" or  \"20\" or True and \"WommenInData\" and 20.13"
      ],
      "metadata": {
        "colab": {
          "base_uri": "https://localhost:8080/",
          "height": 36
        },
        "id": "fcIDc5knEDzB",
        "outputId": "fc25736d-345e-4473-93b8-e3b33fba0599"
      },
      "execution_count": null,
      "outputs": [
        {
          "output_type": "execute_result",
          "data": {
            "text/plain": [
              "'Data'"
            ],
            "application/vnd.google.colaboratory.intrinsic+json": {
              "type": "string"
            }
          },
          "metadata": {},
          "execution_count": 135
        }
      ]
    },
    {
      "cell_type": "code",
      "source": [],
      "metadata": {
        "id": "s5aau1slED2o"
      },
      "execution_count": null,
      "outputs": []
    },
    {
      "cell_type": "code",
      "source": [],
      "metadata": {
        "id": "08M4s5ndED6c"
      },
      "execution_count": null,
      "outputs": []
    },
    {
      "cell_type": "code",
      "source": [],
      "metadata": {
        "id": "hwGEZpqdED93"
      },
      "execution_count": null,
      "outputs": []
    },
    {
      "cell_type": "code",
      "source": [],
      "metadata": {
        "id": "iJ5j2NjLEEAo"
      },
      "execution_count": null,
      "outputs": []
    },
    {
      "cell_type": "markdown",
      "source": [
        "# Remind me after loop or list 1d - Identity Operators, Membership Operators, Bitwise Operators\n"
      ],
      "metadata": {
        "id": "vMjd9gW0DYjE"
      }
    },
    {
      "cell_type": "code",
      "source": [],
      "metadata": {
        "id": "X9oMKdLQWPHW"
      },
      "execution_count": null,
      "outputs": []
    },
    {
      "cell_type": "code",
      "source": [],
      "metadata": {
        "id": "4nck4G_5WPLY"
      },
      "execution_count": null,
      "outputs": []
    }
  ]
}