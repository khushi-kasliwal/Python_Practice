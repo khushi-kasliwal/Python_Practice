{
  "nbformat": 4,
  "nbformat_minor": 0,
  "metadata": {
    "colab": {
      "provenance": []
    },
    "kernelspec": {
      "name": "python3",
      "display_name": "Python 3"
    },
    "language_info": {
      "name": "python"
    }
  },
  "cells": [
    {
      "cell_type": "code",
      "source": [],
      "metadata": {
        "id": "822-HRUzHigd"
      },
      "execution_count": null,
      "outputs": []
    },
    {
      "cell_type": "markdown",
      "source": [
        "#**Important Point -**\n",
        "* Everything in Python cosidered as object.\n",
        "\n",
        "* Python classifies objects into two primary objects : Mutable & Immutable Data Types\n",
        "\n",
        "* Mutable & Immutable Data Types in Python form the backbone of how data is managed & manipulated within programs.\n"
      ],
      "metadata": {
        "id": "C6ombwSIjRDS"
      }
    },
    {
      "cell_type": "code",
      "source": [],
      "metadata": {
        "id": "-8axm6WCHjt5"
      },
      "execution_count": null,
      "outputs": []
    },
    {
      "cell_type": "markdown",
      "source": [
        "**1. Mutable Data Types -**\n",
        "It refers to entities whose internal state can be altered(Can be changeable) after creation.\n",
        "\n",
        "* **List,Set,Dict are Mutable Data Types**\n",
        "\n",
        "**2. Immutable Data Types -**\n",
        "Entities whose state cannot be modified after creation.\n",
        "\n",
        "These objects retain their original values throughout their lifespan.\n",
        "\n",
        "\n",
        "* **Integer , Float(Decimal), String, Tuple & Frozenset are Immutable Data Types.**"
      ],
      "metadata": {
        "id": "pZsvK3iqjUKD"
      }
    },
    {
      "cell_type": "code",
      "source": [],
      "metadata": {
        "id": "cQkGrhWqHkju"
      },
      "execution_count": null,
      "outputs": []
    },
    {
      "cell_type": "markdown",
      "source": [
        "# Data Types\n",
        "Python supports various data types, including integers, floats, strings, lists, tuples, dictionaries, and more.\n",
        "\n",
        "A. Numeric -\n",
        "1. Integers - Whole numbers without decimals.\n",
        "2. Floats - Numbers with decimals.\n",
        "3. Complex - Numbers with both real and imaginary parts.\n",
        "\n",
        "B. Dictionary\n",
        "\n",
        "C. Boolean\n",
        "\n",
        "D. Set\n",
        "\n",
        "E. Sequence / Collection Type -\n",
        "1. Strings - Text enclosed in single or double quotes.\n",
        "2. Lists - Ordered collections of items.\n",
        "3. Tuples - Immutable collections of items."
      ],
      "metadata": {
        "id": "2Z0X1uEJjWO9"
      }
    },
    {
      "cell_type": "code",
      "source": [],
      "metadata": {
        "id": "xqi-XwPkHlXg"
      },
      "execution_count": null,
      "outputs": []
    },
    {
      "cell_type": "markdown",
      "source": [
        "#Data Types in Python\n",
        "\n",
        "There are several data types in python. Some of are as -\n",
        "\n",
        "1) Integer (int) : No size / length restriction.\n",
        "* **Integer Data Type (valid integer values only) does not accept float values.**.\n",
        "* Examples : 5, 0, 93, -562, -2369, 185565882582548......, -54962549956265......\n",
        "\n",
        "\n",
        "2) Decimals (Float) : No size / length restriction.\n",
        "\n",
        "* **Float Data Type accept Float Values as well as Integer Values.**\n",
        "* **But there has some restrictions on Float Data Type in Python not for Python.**\n",
        "* Examples : 0.2, 12.0, 56.32562, -45.20, -546.19532995....., 152.15624845......\n",
        "\n",
        "3) String (str) : Collection of Characters or Anything in double quotes/single quotes/triple quotes(Docx String).\n",
        "\n",
        "* **String** is biggest set of Data Type in Python\n",
        "\n",
        "* Examples : \"assjjsj\", 'snjhisji' ,\"@#$%!&*\" (special character), '521', \"10.23\"\n",
        "\n",
        "4) Boolean (bool) : Only two values ---> True / False\n",
        "\n",
        "5) None (None) : Nothing or Empty in Python\n",
        "\n",
        "\n",
        "\n",
        "**Always Remember - 👇**\n",
        "* **Complex number** is also recognize as separate Data Type in Python\n",
        "\n",
        "* **char and double data type not exist in Python**"
      ],
      "metadata": {
        "id": "yxVnLdONjYJk"
      }
    },
    {
      "cell_type": "code",
      "execution_count": null,
      "metadata": {
        "id": "kIi2mmqmXszy"
      },
      "outputs": [],
      "source": []
    },
    {
      "cell_type": "code",
      "source": [
        "# int data type : no size of restriction\n",
        "\n",
        "print(15852799355356366)"
      ],
      "metadata": {
        "colab": {
          "base_uri": "https://localhost:8080/"
        },
        "id": "uhRkVC19jahW",
        "outputId": "6e5232ef-b004-4e44-a6d6-fd0dddf0885e"
      },
      "execution_count": null,
      "outputs": [
        {
          "output_type": "stream",
          "name": "stdout",
          "text": [
            "15852799355356366\n"
          ]
        }
      ]
    },
    {
      "cell_type": "code",
      "source": [
        "# All digits are displayed(int Data Type).\n",
        "\n",
        "print(6595633089745693255896588966258963258896358632255966332565635886)"
      ],
      "metadata": {
        "colab": {
          "base_uri": "https://localhost:8080/"
        },
        "id": "ZKtL1t1ijcEH",
        "outputId": "67b6f815-de77-4e78-9ff4-aac5059400b8"
      },
      "execution_count": null,
      "outputs": [
        {
          "output_type": "stream",
          "name": "stdout",
          "text": [
            "6595633089745693255896588966258963258896358632255966332565635886\n"
          ]
        }
      ]
    },
    {
      "cell_type": "code",
      "source": [
        "# float data type : no size of restriction if number is small.\n",
        "\n",
        "print(152.36984126555666)"
      ],
      "metadata": {
        "colab": {
          "base_uri": "https://localhost:8080/"
        },
        "id": "LGYhotl7jiOk",
        "outputId": "2b7f26c8-ee92-490d-d6c0-61634be81c80"
      },
      "execution_count": null,
      "outputs": [
        {
          "output_type": "stream",
          "name": "stdout",
          "text": [
            "152.36984126555666\n"
          ]
        }
      ]
    },
    {
      "cell_type": "markdown",
      "source": [
        "###Always Remember 👇"
      ],
      "metadata": {
        "id": "kWW87zqnjlXq"
      }
    },
    {
      "cell_type": "code",
      "source": [
        "# There is some restriction for Float Data Type in Python because of machine architecture.\n",
        "\n",
        "print(86652.856656582231332698995323698989266666444444444448888888222222222)"
      ],
      "metadata": {
        "colab": {
          "base_uri": "https://localhost:8080/"
        },
        "id": "9jROkgkhjnCj",
        "outputId": "d52762b2-9d39-4982-94a7-8aa43520daa0"
      },
      "execution_count": null,
      "outputs": [
        {
          "output_type": "stream",
          "name": "stdout",
          "text": [
            "86652.85665658223\n"
          ]
        }
      ]
    },
    {
      "cell_type": "code",
      "source": [
        "# String Data Type\n",
        "\n",
        "print(\"Ross\")"
      ],
      "metadata": {
        "colab": {
          "base_uri": "https://localhost:8080/"
        },
        "id": "YXxsW-3fjnbQ",
        "outputId": "eaab27e5-6654-40de-f4c0-cea36b791bf3"
      },
      "execution_count": null,
      "outputs": [
        {
          "output_type": "stream",
          "name": "stdout",
          "text": [
            "Ross\n"
          ]
        }
      ]
    },
    {
      "cell_type": "code",
      "source": [
        "# Any numbers in Quotes\n",
        "\n",
        "print(\"1234\")"
      ],
      "metadata": {
        "colab": {
          "base_uri": "https://localhost:8080/"
        },
        "id": "7EVsSUAyJVYj",
        "outputId": "acea9a39-bad9-4e06-e1a3-99b59b52e616"
      },
      "execution_count": null,
      "outputs": [
        {
          "output_type": "stream",
          "name": "stdout",
          "text": [
            "1234\n"
          ]
        }
      ]
    },
    {
      "cell_type": "code",
      "source": [
        "# str data type (special character is allowed)\n",
        "\n",
        "print(\"sjsdjekk@#%kjdii\")"
      ],
      "metadata": {
        "id": "L4S3Hn0qjqHR",
        "colab": {
          "base_uri": "https://localhost:8080/"
        },
        "outputId": "43efc5de-fab5-46a8-fe2c-da54e70314c6"
      },
      "execution_count": null,
      "outputs": [
        {
          "output_type": "stream",
          "name": "stdout",
          "text": [
            "sjsdjekk@#%kjdii\n"
          ]
        }
      ]
    },
    {
      "cell_type": "code",
      "source": [
        "# bool data type\n",
        "\n",
        "print(True)"
      ],
      "metadata": {
        "id": "BCbGN7nSjr3w",
        "colab": {
          "base_uri": "https://localhost:8080/"
        },
        "outputId": "c6c0e017-ee6a-4746-f0ae-c76fbb89797f"
      },
      "execution_count": null,
      "outputs": [
        {
          "output_type": "stream",
          "name": "stdout",
          "text": [
            "True\n"
          ]
        }
      ]
    },
    {
      "cell_type": "code",
      "source": [
        "# bool data type\n",
        "\n",
        "print(False)"
      ],
      "metadata": {
        "colab": {
          "base_uri": "https://localhost:8080/"
        },
        "id": "OB6C8w07jtfl",
        "outputId": "52349ac4-c7d5-4d2b-e426-a546fd850f53"
      },
      "execution_count": null,
      "outputs": [
        {
          "output_type": "stream",
          "name": "stdout",
          "text": [
            "False\n"
          ]
        }
      ]
    },
    {
      "cell_type": "code",
      "source": [
        "# None data type\n",
        "\n",
        "print(None)"
      ],
      "metadata": {
        "colab": {
          "base_uri": "https://localhost:8080/"
        },
        "id": "YwLSwLBtju94",
        "outputId": "bc9c636c-024e-41f5-e884-07a16225d610"
      },
      "execution_count": null,
      "outputs": [
        {
          "output_type": "stream",
          "name": "stdout",
          "text": [
            "None\n"
          ]
        }
      ]
    },
    {
      "cell_type": "code",
      "source": [
        "#name 'none' is not defined\n",
        "\n",
        "print(none)"
      ],
      "metadata": {
        "colab": {
          "base_uri": "https://localhost:8080/",
          "height": 176
        },
        "id": "DDVQpQUZjwn5",
        "outputId": "f1f9dae6-1409-4714-8b34-a33680634b33"
      },
      "execution_count": null,
      "outputs": [
        {
          "output_type": "error",
          "ename": "NameError",
          "evalue": "name 'none' is not defined",
          "traceback": [
            "\u001b[0;31m---------------------------------------------------------------------------\u001b[0m",
            "\u001b[0;31mNameError\u001b[0m                                 Traceback (most recent call last)",
            "\u001b[0;32m<ipython-input-14-49cd77f7d5bc>\u001b[0m in \u001b[0;36m<cell line: 3>\u001b[0;34m()\u001b[0m\n\u001b[1;32m      1\u001b[0m \u001b[0;31m#name 'none' is not defined\u001b[0m\u001b[0;34m\u001b[0m\u001b[0;34m\u001b[0m\u001b[0m\n\u001b[1;32m      2\u001b[0m \u001b[0;34m\u001b[0m\u001b[0m\n\u001b[0;32m----> 3\u001b[0;31m \u001b[0mprint\u001b[0m\u001b[0;34m(\u001b[0m\u001b[0mnone\u001b[0m\u001b[0;34m)\u001b[0m\u001b[0;34m\u001b[0m\u001b[0;34m\u001b[0m\u001b[0m\n\u001b[0m",
            "\u001b[0;31mNameError\u001b[0m: name 'none' is not defined"
          ]
        }
      ]
    },
    {
      "cell_type": "code",
      "source": [
        "# This is complex number.Python recognize complex number is separate data type.\n",
        "\n",
        "print(5 + 6j)\n",
        "\n",
        "# Output : (5+6j) because it is vector (python property)\n",
        "#This distinguishes them from real numbers and avoids ambiguity in expressions with multiple operations."
      ],
      "metadata": {
        "colab": {
          "base_uri": "https://localhost:8080/"
        },
        "id": "-y203XHojyM9",
        "outputId": "448f13d5-364a-4a66-d381-52062ef12563"
      },
      "execution_count": null,
      "outputs": [
        {
          "output_type": "stream",
          "name": "stdout",
          "text": [
            "(5+6j)\n"
          ]
        }
      ]
    },
    {
      "cell_type": "code",
      "source": [],
      "metadata": {
        "id": "F0juY-elj45V"
      },
      "execution_count": null,
      "outputs": []
    },
    {
      "cell_type": "markdown",
      "source": [
        "# How To Check Data Type ???\n",
        "* print(type(value)) - one function in another function\n",
        "\n",
        "* Flow of print(type(value)) :\n",
        "\n",
        "Example : print(type(5))\n",
        "\n",
        "[5] ---> [type] ---> [int(check data type)] ---> [print] ---> [int is printed]\n",
        "\n"
      ],
      "metadata": {
        "id": "-F5eKFjEj8mW"
      }
    },
    {
      "cell_type": "code",
      "source": [],
      "metadata": {
        "id": "hHsoDk8LJuP_"
      },
      "execution_count": null,
      "outputs": []
    },
    {
      "cell_type": "markdown",
      "source": [
        "# Checking what data type is it???"
      ],
      "metadata": {
        "id": "Lq1NJF6lj-1P"
      }
    },
    {
      "cell_type": "code",
      "source": [
        "print(type(6))"
      ],
      "metadata": {
        "colab": {
          "base_uri": "https://localhost:8080/"
        },
        "id": "Ckv31e_mj_mM",
        "outputId": "a89e3310-c253-4ad8-e3bc-f3ad000be575"
      },
      "execution_count": null,
      "outputs": [
        {
          "output_type": "stream",
          "name": "stdout",
          "text": [
            "<class 'int'>\n"
          ]
        }
      ]
    },
    {
      "cell_type": "code",
      "source": [
        "print(type(2.0))"
      ],
      "metadata": {
        "colab": {
          "base_uri": "https://localhost:8080/"
        },
        "id": "72LD__mikBTL",
        "outputId": "cac71acd-7365-43fc-b2a2-4692320223d7"
      },
      "execution_count": null,
      "outputs": [
        {
          "output_type": "stream",
          "name": "stdout",
          "text": [
            "<class 'float'>\n"
          ]
        }
      ]
    },
    {
      "cell_type": "code",
      "source": [
        "print(type(\"Alice\"))"
      ],
      "metadata": {
        "colab": {
          "base_uri": "https://localhost:8080/"
        },
        "id": "4H9hY75LkCrJ",
        "outputId": "8b0dc3d8-1ec6-4a86-b2c4-4ae75115576c"
      },
      "execution_count": null,
      "outputs": [
        {
          "output_type": "stream",
          "name": "stdout",
          "text": [
            "<class 'str'>\n"
          ]
        }
      ]
    },
    {
      "cell_type": "code",
      "source": [
        "# Anything inside in the Quotes considered as String.\n",
        "\n",
        "print(type(\"1233\"))"
      ],
      "metadata": {
        "colab": {
          "base_uri": "https://localhost:8080/"
        },
        "id": "YM4SivMSkD-H",
        "outputId": "471ac93b-209c-4fcd-e38f-ff9cfa220f20"
      },
      "execution_count": null,
      "outputs": [
        {
          "output_type": "stream",
          "name": "stdout",
          "text": [
            "<class 'str'>\n"
          ]
        }
      ]
    },
    {
      "cell_type": "code",
      "source": [
        "print(type(True))"
      ],
      "metadata": {
        "colab": {
          "base_uri": "https://localhost:8080/"
        },
        "id": "mhO1_FsdkFfC",
        "outputId": "4a93fa8e-1056-43d4-a975-08896256c78e"
      },
      "execution_count": null,
      "outputs": [
        {
          "output_type": "stream",
          "name": "stdout",
          "text": [
            "<class 'bool'>\n"
          ]
        }
      ]
    },
    {
      "cell_type": "code",
      "source": [
        "print(type(False))"
      ],
      "metadata": {
        "colab": {
          "base_uri": "https://localhost:8080/"
        },
        "id": "kKlABs0dkHF2",
        "outputId": "9af83c80-1df6-4692-a2b8-a826be857f07"
      },
      "execution_count": null,
      "outputs": [
        {
          "output_type": "stream",
          "name": "stdout",
          "text": [
            "<class 'bool'>\n"
          ]
        }
      ]
    },
    {
      "cell_type": "code",
      "source": [
        "print(type(5 + 8j))"
      ],
      "metadata": {
        "colab": {
          "base_uri": "https://localhost:8080/"
        },
        "id": "wFW5DvO1kIn2",
        "outputId": "83461f95-502d-43fc-fa54-313078c0aad8"
      },
      "execution_count": null,
      "outputs": [
        {
          "output_type": "stream",
          "name": "stdout",
          "text": [
            "<class 'complex'>\n"
          ]
        }
      ]
    },
    {
      "cell_type": "code",
      "source": [],
      "metadata": {
        "id": "88RnZEO_kKOC"
      },
      "execution_count": null,
      "outputs": []
    },
    {
      "cell_type": "markdown",
      "source": [
        "# Type Casting in Python (Implicit and Explicit)\n",
        "* Conversion of one data type into another data type\n",
        "\n",
        "* Type Casting is the method to convert the Python variable datatype into a certain data type in order to perform the required operation by users.\n",
        "\n",
        "There can be two types of Type Casting in Python -\n",
        "1. Python Implicit Type Conversion\n",
        "\n",
        "2. Python Explicit Type Conversion"
      ],
      "metadata": {
        "id": "pR4EyCFTkLo8"
      }
    },
    {
      "cell_type": "code",
      "source": [],
      "metadata": {
        "id": "9t9y88U4J3ad"
      },
      "execution_count": null,
      "outputs": []
    },
    {
      "cell_type": "markdown",
      "source": [
        "# 1. Implicit Type Conversion in Python -\n",
        "In this, method, Python converts the datatype into another datatype automatically. Users don’t have to involve in this process."
      ],
      "metadata": {
        "id": "Wmzmn95IkNwS"
      }
    },
    {
      "cell_type": "code",
      "source": [],
      "metadata": {
        "id": "3wUvAGdXJ4Ah"
      },
      "execution_count": null,
      "outputs": []
    },
    {
      "cell_type": "code",
      "source": [
        "a = 5\n",
        "print(type(a))\n",
        "\n",
        "b = 2.0\n",
        "print(type(b))\n",
        "print('----------------')\n",
        "\n",
        "# c to float as it is a float addition\n",
        "c = a + b\n",
        "print(c)\n",
        "print(type(c))            # Automatically Convert into Float Datatype\n",
        "print(\"----------------\")\n",
        "\n",
        "# c to float as it is a float multiplication.\n",
        "c = a * b\n",
        "print(c)\n",
        "print(type(c))"
      ],
      "metadata": {
        "colab": {
          "base_uri": "https://localhost:8080/"
        },
        "id": "MsphaxKjkSZi",
        "outputId": "f4cfc5bd-21c8-4eb4-a09f-3430e27bf829"
      },
      "execution_count": null,
      "outputs": [
        {
          "output_type": "stream",
          "name": "stdout",
          "text": [
            "<class 'int'>\n",
            "<class 'float'>\n",
            "----------------\n",
            "7.0\n",
            "<class 'float'>\n",
            "----------------\n",
            "10.0\n",
            "<class 'float'>\n"
          ]
        }
      ]
    },
    {
      "cell_type": "code",
      "source": [
        "a = 25\n",
        "print(type(a))\n",
        "\n",
        "b = 5\n",
        "print(type(b))\n",
        "print(\"------------------\")\n",
        "\n",
        "# c to float as it is a float division.\n",
        "c = a / b\n",
        "print(c)\n",
        "print(type(c))          # Both inputs are int datatype but it will automatically convert the value of c into floa\n"
      ],
      "metadata": {
        "colab": {
          "base_uri": "https://localhost:8080/"
        },
        "id": "oS5nqGiIkS2s",
        "outputId": "c0378e41-b085-412e-a022-c0eb08024bab"
      },
      "execution_count": null,
      "outputs": [
        {
          "output_type": "stream",
          "name": "stdout",
          "text": [
            "<class 'int'>\n",
            "<class 'int'>\n",
            "------------------\n",
            "5.0\n",
            "<class 'float'>\n"
          ]
        }
      ]
    },
    {
      "cell_type": "code",
      "source": [],
      "metadata": {
        "id": "veYblVw5kUhj"
      },
      "execution_count": null,
      "outputs": []
    },
    {
      "cell_type": "markdown",
      "source": [
        "# 2. Explicit Type Conversion in Python -\n",
        "In this method, Python needs user involvement to convert the variable data type into the required data type.\n",
        "\n",
        "Mainly type casting can be done with these data type functions -\n",
        "\n",
        "1. Int() - Python int() function take float or string as an argument and returns int type object.\n",
        "\n",
        "2. float() - Python float() function take int or string as an argument and return float type object.\n",
        "\n",
        "3. str() - Python str() function takes float or int as an argument and returns string type object."
      ],
      "metadata": {
        "id": "0Z8mRr1RkWi9"
      }
    },
    {
      "cell_type": "code",
      "source": [],
      "metadata": {
        "id": "kSF1Vy3CJ6x6"
      },
      "execution_count": null,
      "outputs": []
    },
    {
      "cell_type": "markdown",
      "source": [
        "###For int Data Type 👇"
      ],
      "metadata": {
        "id": "caFzcTb9kZBU"
      }
    },
    {
      "cell_type": "code",
      "source": [
        "Mario = 1278.96                  # Float Data type\n",
        "print(int(Mario))                # Change the float data type into int data type"
      ],
      "metadata": {
        "colab": {
          "base_uri": "https://localhost:8080/"
        },
        "id": "QGNKeVkLkZ3v",
        "outputId": "2c9635e5-7424-4376-cf9a-150e12817b90"
      },
      "execution_count": null,
      "outputs": [
        {
          "output_type": "stream",
          "name": "stdout",
          "text": [
            "1278\n"
          ]
        }
      ]
    },
    {
      "cell_type": "code",
      "source": [],
      "metadata": {
        "id": "aU1gdaJ7J9sM"
      },
      "execution_count": null,
      "outputs": []
    },
    {
      "cell_type": "markdown",
      "source": [
        "#### Only Integer inside in the Double/Single/Triple Quotes convert into Integer.\n"
      ],
      "metadata": {
        "id": "kRWorS-kkdjM"
      }
    },
    {
      "cell_type": "code",
      "source": [
        "wilson = \"12330\"                  # Taking input(int) in quotes so it will convert into int.\n",
        "print(int(wilson))"
      ],
      "metadata": {
        "colab": {
          "base_uri": "https://localhost:8080/"
        },
        "id": "6PmhRLegkbO6",
        "outputId": "9d9ee035-6647-45a6-f5b3-e864b8cdcff0"
      },
      "execution_count": null,
      "outputs": [
        {
          "output_type": "stream",
          "name": "stdout",
          "text": [
            "12330\n"
          ]
        }
      ]
    },
    {
      "cell_type": "code",
      "source": [],
      "metadata": {
        "id": "H0nSMWidJ-cX"
      },
      "execution_count": null,
      "outputs": []
    },
    {
      "cell_type": "markdown",
      "source": [
        "#### Float inside in the Double/Single/Triple Quotes can't convert into Integer.Because of precision."
      ],
      "metadata": {
        "id": "BM4lMZAekgnN"
      }
    },
    {
      "cell_type": "code",
      "source": [
        "# Because Int Datatype only take integer input.\n",
        "martin = \"12.330\"                  # Taking input(float) in quotes so it will not convert into int.\n",
        "print(martin)\n",
        "print(int(martin))"
      ],
      "metadata": {
        "colab": {
          "base_uri": "https://localhost:8080/",
          "height": 193
        },
        "id": "4-vKY-NakiIh",
        "outputId": "9b4188dd-3d35-47b8-a73f-dee4461fb478"
      },
      "execution_count": null,
      "outputs": [
        {
          "output_type": "stream",
          "name": "stdout",
          "text": [
            "12.330\n"
          ]
        },
        {
          "output_type": "error",
          "ename": "ValueError",
          "evalue": "invalid literal for int() with base 10: '12.330'",
          "traceback": [
            "\u001b[0;31m---------------------------------------------------------------------------\u001b[0m",
            "\u001b[0;31mValueError\u001b[0m                                Traceback (most recent call last)",
            "\u001b[0;32m<ipython-input-26-aa40dce3f5ef>\u001b[0m in \u001b[0;36m<cell line: 4>\u001b[0;34m()\u001b[0m\n\u001b[1;32m      2\u001b[0m \u001b[0mkhushi\u001b[0m \u001b[0;34m=\u001b[0m \u001b[0;34m\"12.330\"\u001b[0m                  \u001b[0;31m# Taking input(float) in quotes so it will not convert into int.\u001b[0m\u001b[0;34m\u001b[0m\u001b[0;34m\u001b[0m\u001b[0m\n\u001b[1;32m      3\u001b[0m \u001b[0mprint\u001b[0m\u001b[0;34m(\u001b[0m\u001b[0mkhushi\u001b[0m\u001b[0;34m)\u001b[0m\u001b[0;34m\u001b[0m\u001b[0;34m\u001b[0m\u001b[0m\n\u001b[0;32m----> 4\u001b[0;31m \u001b[0mprint\u001b[0m\u001b[0;34m(\u001b[0m\u001b[0mint\u001b[0m\u001b[0;34m(\u001b[0m\u001b[0mkhushi\u001b[0m\u001b[0;34m)\u001b[0m\u001b[0;34m)\u001b[0m\u001b[0;34m\u001b[0m\u001b[0;34m\u001b[0m\u001b[0m\n\u001b[0m",
            "\u001b[0;31mValueError\u001b[0m: invalid literal for int() with base 10: '12.330'"
          ]
        }
      ]
    },
    {
      "cell_type": "code",
      "source": [],
      "metadata": {
        "id": "VCU57P3_KAJV"
      },
      "execution_count": null,
      "outputs": []
    },
    {
      "cell_type": "markdown",
      "source": [
        "#### String(Characters) can't covert into integer and float."
      ],
      "metadata": {
        "id": "7oW6Y4NGkk2M"
      }
    },
    {
      "cell_type": "code",
      "source": [
        "thor = \"Anjali\"                   # Taking input(characters) it will not convert into int.\n",
        "print(int(thor))"
      ],
      "metadata": {
        "colab": {
          "base_uri": "https://localhost:8080/",
          "height": 158
        },
        "id": "7xPrPvPJkkCM",
        "outputId": "2e258880-9793-400c-daf2-b0409819dc3a"
      },
      "execution_count": null,
      "outputs": [
        {
          "output_type": "error",
          "ename": "ValueError",
          "evalue": "invalid literal for int() with base 10: 'Anjali'",
          "traceback": [
            "\u001b[0;31m---------------------------------------------------------------------------\u001b[0m",
            "\u001b[0;31mValueError\u001b[0m                                Traceback (most recent call last)",
            "\u001b[0;32m<ipython-input-23-244d0ed90baf>\u001b[0m in \u001b[0;36m<cell line: 2>\u001b[0;34m()\u001b[0m\n\u001b[1;32m      1\u001b[0m \u001b[0mkhushi\u001b[0m \u001b[0;34m=\u001b[0m \u001b[0;34m\"Anjali\"\u001b[0m                   \u001b[0;31m# Taking input(characters) it will not convert into int.\u001b[0m\u001b[0;34m\u001b[0m\u001b[0;34m\u001b[0m\u001b[0m\n\u001b[0;32m----> 2\u001b[0;31m \u001b[0mprint\u001b[0m\u001b[0;34m(\u001b[0m\u001b[0mint\u001b[0m\u001b[0;34m(\u001b[0m\u001b[0mkhushi\u001b[0m\u001b[0;34m)\u001b[0m\u001b[0;34m)\u001b[0m\u001b[0;34m\u001b[0m\u001b[0;34m\u001b[0m\u001b[0m\n\u001b[0m",
            "\u001b[0;31mValueError\u001b[0m: invalid literal for int() with base 10: 'Anjali'"
          ]
        }
      ]
    },
    {
      "cell_type": "code",
      "source": [],
      "metadata": {
        "id": "6OXCKkMxKCNY"
      },
      "execution_count": null,
      "outputs": []
    },
    {
      "cell_type": "markdown",
      "source": [
        "###For Float Data Type 👇"
      ],
      "metadata": {
        "id": "2weLHBWikpXU"
      }
    },
    {
      "cell_type": "code",
      "source": [
        "tony = 14                       # Taking Input as integer\n",
        "print(float(tony))              # Change the int data type into float data type"
      ],
      "metadata": {
        "colab": {
          "base_uri": "https://localhost:8080/"
        },
        "id": "9k8yB8CZkmln",
        "outputId": "93c38fcd-71d1-4565-ea7a-d93111c88f95"
      },
      "execution_count": null,
      "outputs": [
        {
          "output_type": "stream",
          "name": "stdout",
          "text": [
            "14.0\n"
          ]
        }
      ]
    },
    {
      "cell_type": "code",
      "source": [
        "zara = 12.35                    # Taking input(numbers) it will convert into float.\n",
        "print(float(zara))"
      ],
      "metadata": {
        "colab": {
          "base_uri": "https://localhost:8080/"
        },
        "id": "yhlREWmDkr9I",
        "outputId": "88b08f37-a683-4996-c009-d7efc529253d"
      },
      "execution_count": null,
      "outputs": [
        {
          "output_type": "stream",
          "name": "stdout",
          "text": [
            "12.35\n"
          ]
        }
      ]
    },
    {
      "cell_type": "code",
      "source": [],
      "metadata": {
        "id": "nlE3UfkIKDOh"
      },
      "execution_count": null,
      "outputs": []
    },
    {
      "cell_type": "markdown",
      "source": [
        "#### Inside Double/Single/Triple Quotes is Integer or Float so it is treated as string so python has capability to convert into Float.\n"
      ],
      "metadata": {
        "id": "24LGAS1rk08L"
      }
    },
    {
      "cell_type": "code",
      "source": [
        "Greedy = \"12514\"                  # Taking input(int) in quotes so it will convert into float\n",
        "print(float(Greedy))"
      ],
      "metadata": {
        "colab": {
          "base_uri": "https://localhost:8080/"
        },
        "id": "qDcd9MVWkssa",
        "outputId": "6e515c45-aef2-413e-b41a-347859bde5e9"
      },
      "execution_count": null,
      "outputs": [
        {
          "output_type": "stream",
          "name": "stdout",
          "text": [
            "12514.0\n"
          ]
        }
      ]
    },
    {
      "cell_type": "code",
      "source": [
        "#Because float data type take int as well as float input.\n",
        "Angle = \"123.34\"                  # Taking input(float) in quotes so it will convert into float.\n",
        "print(float(Angle))"
      ],
      "metadata": {
        "colab": {
          "base_uri": "https://localhost:8080/"
        },
        "id": "yuWOGblKk21P",
        "outputId": "ba137811-151d-4b59-85a0-3a77d3f4a670"
      },
      "execution_count": null,
      "outputs": [
        {
          "output_type": "stream",
          "name": "stdout",
          "text": [
            "123.34\n"
          ]
        }
      ]
    },
    {
      "cell_type": "code",
      "source": [],
      "metadata": {
        "id": "DI2o9jMkKEPh"
      },
      "execution_count": null,
      "outputs": []
    },
    {
      "cell_type": "markdown",
      "source": [
        "### String(Characters) can't covert into integer and float."
      ],
      "metadata": {
        "id": "6GBYqfdUk5Xc"
      }
    },
    {
      "cell_type": "code",
      "source": [
        "master = \"Wilson\"                   # Taking input(characters) it will not convert into float.\n",
        "print(float(master))"
      ],
      "metadata": {
        "colab": {
          "base_uri": "https://localhost:8080/",
          "height": 158
        },
        "id": "-F8ja6nkk73c",
        "outputId": "41a9bbcd-5077-4796-9f3e-8488971fae31"
      },
      "execution_count": null,
      "outputs": [
        {
          "output_type": "error",
          "ename": "ValueError",
          "evalue": "could not convert string to float: 'Anjali'",
          "traceback": [
            "\u001b[0;31m---------------------------------------------------------------------------\u001b[0m",
            "\u001b[0;31mValueError\u001b[0m                                Traceback (most recent call last)",
            "\u001b[0;32m<ipython-input-30-90828531d84a>\u001b[0m in \u001b[0;36m<cell line: 2>\u001b[0;34m()\u001b[0m\n\u001b[1;32m      1\u001b[0m \u001b[0mkhushi\u001b[0m \u001b[0;34m=\u001b[0m \u001b[0;34m\"Anjali\"\u001b[0m                   \u001b[0;31m# Taking input(characters) it will not convert into float.\u001b[0m\u001b[0;34m\u001b[0m\u001b[0;34m\u001b[0m\u001b[0m\n\u001b[0;32m----> 2\u001b[0;31m \u001b[0mprint\u001b[0m\u001b[0;34m(\u001b[0m\u001b[0mfloat\u001b[0m\u001b[0;34m(\u001b[0m\u001b[0mkhushi\u001b[0m\u001b[0;34m)\u001b[0m\u001b[0;34m)\u001b[0m\u001b[0;34m\u001b[0m\u001b[0;34m\u001b[0m\u001b[0m\n\u001b[0m",
            "\u001b[0;31mValueError\u001b[0m: could not convert string to float: 'Anjali'"
          ]
        }
      ]
    },
    {
      "cell_type": "code",
      "source": [],
      "metadata": {
        "id": "O-iucu_z8XQC"
      },
      "execution_count": null,
      "outputs": []
    },
    {
      "cell_type": "markdown",
      "source": [
        "###For String Data Type 👇"
      ],
      "metadata": {
        "id": "pyfoA1V_k-Rm"
      }
    },
    {
      "cell_type": "code",
      "source": [
        "bob = 1545                     # Taking input as int data type and convert into String datatype\n",
        "print(str(bob))"
      ],
      "metadata": {
        "colab": {
          "base_uri": "https://localhost:8080/"
        },
        "id": "y-c2PJ9OlAFd",
        "outputId": "a5e1d712-1fdc-4437-b91a-09af82d72dec"
      },
      "execution_count": null,
      "outputs": [
        {
          "output_type": "stream",
          "name": "stdout",
          "text": [
            "1545\n"
          ]
        }
      ]
    },
    {
      "cell_type": "code",
      "source": [
        "amul = 1523.02                 # Taking input as float data type and convert into String datatype\n",
        "print(str(amul))"
      ],
      "metadata": {
        "colab": {
          "base_uri": "https://localhost:8080/"
        },
        "id": "UUHvxja0lAsm",
        "outputId": "be6d1557-8bac-4b78-88f8-f3088d4528a9"
      },
      "execution_count": null,
      "outputs": [
        {
          "output_type": "stream",
          "name": "stdout",
          "text": [
            "1523.02\n"
          ]
        }
      ]
    },
    {
      "cell_type": "code",
      "source": [
        "ross = \"12330\"                 # Taking input(integer) in quotes offcourse it will convert into string.\n",
        "print(str(ross))"
      ],
      "metadata": {
        "colab": {
          "base_uri": "https://localhost:8080/"
        },
        "id": "1lotJr7olCfg",
        "outputId": "c01563ab-5828-4c8d-9586-9b46f55bce23"
      },
      "execution_count": null,
      "outputs": [
        {
          "output_type": "stream",
          "name": "stdout",
          "text": [
            "12330\n"
          ]
        }
      ]
    },
    {
      "cell_type": "code",
      "source": [
        "alice = \"12.35\"                # Taking input(float) in Quotes offcourse it will convert into string.\n",
        "print(str(alice))"
      ],
      "metadata": {
        "colab": {
          "base_uri": "https://localhost:8080/"
        },
        "id": "QExfnEJllD_f",
        "outputId": "798bb979-9c70-4452-b3e5-3d54b6929f33"
      },
      "execution_count": null,
      "outputs": [
        {
          "output_type": "stream",
          "name": "stdout",
          "text": [
            "12.35\n"
          ]
        }
      ]
    },
    {
      "cell_type": "code",
      "source": [],
      "metadata": {
        "id": "NDHDz0S0lFmL"
      },
      "execution_count": null,
      "outputs": []
    },
    {
      "cell_type": "code",
      "source": [
        "# First it will print statement and then check the type\n",
        "\n",
        "type(print(\"hello\"))"
      ],
      "metadata": {
        "colab": {
          "base_uri": "https://localhost:8080/"
        },
        "id": "CDUEwKfDlGrE",
        "outputId": "033a2591-d93d-4cf0-fd04-853be77de749"
      },
      "execution_count": null,
      "outputs": [
        {
          "output_type": "stream",
          "name": "stdout",
          "text": [
            "hello\n"
          ]
        },
        {
          "output_type": "execute_result",
          "data": {
            "text/plain": [
              "NoneType"
            ]
          },
          "metadata": {},
          "execution_count": 28
        }
      ]
    },
    {
      "cell_type": "code",
      "source": [],
      "metadata": {
        "id": "syyrqVsilHBu"
      },
      "execution_count": null,
      "outputs": []
    },
    {
      "cell_type": "markdown",
      "source": [
        "# Variable Declaration\n",
        "\n",
        "**Variable is simply an empty container which can hold anything inside of it.**\n",
        "\n",
        "There are 6 rules to define/creating variable in Python\n",
        "\n",
        "1) Variable name can only start with alphabets or _ (underscore).\n",
        "\n",
        "2) After the start , you can have any alphabet ,numbers or _ in the name.\n",
        "\n",
        "3) Special character not allowed like @, #, +, -, *, /\n",
        "\n",
        "4) The reserved words(keywords) in Python cannot be used to name the variable in Python.\n",
        "\n",
        "5) Variable in Python names are case-sensitive (name, Name, and NAME are three different variables).\n",
        "\n",
        "6) A Python variable name can only contain alpha-numeric characters and underscores (A-z, 0-9, and _ ).\n",
        "\n",
        "\n",
        "Examples :\n",
        "\n",
        "random = 123 -----> valid\n",
        "\n",
        "Random = 123 -----> valid\n",
        "\n",
        "_random = 123 ----> valid\n",
        "\n",
        "123random = 123 ----> Invalid\n",
        "\n",
        "random123 = 123 ----> valid\n",
        "\n",
        "random_123 = 123 ----> valid\n",
        "\n",
        "Random_something_123 = 123 -----> valid\n",
        "\n",
        "random@123 = 123 ----> Invalid (special character not allowed)"
      ],
      "metadata": {
        "id": "ENQZOGz3lInO"
      }
    },
    {
      "cell_type": "code",
      "source": [],
      "metadata": {
        "id": "2NKyDfGzKWcj"
      },
      "execution_count": null,
      "outputs": []
    },
    {
      "cell_type": "code",
      "source": [
        "var1 = 123"
      ],
      "metadata": {
        "id": "PJ590El9lLNz"
      },
      "execution_count": null,
      "outputs": []
    },
    {
      "cell_type": "code",
      "source": [
        "1var = 123"
      ],
      "metadata": {
        "colab": {
          "base_uri": "https://localhost:8080/",
          "height": 106
        },
        "id": "1dgZIKzLlL6p",
        "outputId": "f4e61ae5-1f8e-4933-86e3-9575067e652e"
      },
      "execution_count": null,
      "outputs": [
        {
          "output_type": "error",
          "ename": "SyntaxError",
          "evalue": "invalid decimal literal (<ipython-input-37-00acb0b24b6f>, line 1)",
          "traceback": [
            "\u001b[0;36m  File \u001b[0;32m\"<ipython-input-37-00acb0b24b6f>\"\u001b[0;36m, line \u001b[0;32m1\u001b[0m\n\u001b[0;31m    1var = 123\u001b[0m\n\u001b[0m    ^\u001b[0m\n\u001b[0;31mSyntaxError\u001b[0m\u001b[0;31m:\u001b[0m invalid decimal literal\n"
          ]
        }
      ]
    },
    {
      "cell_type": "code",
      "source": [
        "# Taking user inputs : By default input taking from user is in STRING\n",
        "\n",
        "any_variable_name = input()"
      ],
      "metadata": {
        "colab": {
          "base_uri": "https://localhost:8080/"
        },
        "id": "B3hQYDFVlNXt",
        "outputId": "532dc4b9-453b-48dd-a6c0-ba920b20df43"
      },
      "execution_count": null,
      "outputs": [
        {
          "name": "stdout",
          "output_type": "stream",
          "text": [
            "This is user input !\n"
          ]
        }
      ]
    },
    {
      "cell_type": "code",
      "source": [
        "print(any_variable_name)"
      ],
      "metadata": {
        "colab": {
          "base_uri": "https://localhost:8080/"
        },
        "id": "tTZNo5lzlPd8",
        "outputId": "66c688bd-58e6-40a1-e195-9087d72b64d7"
      },
      "execution_count": null,
      "outputs": [
        {
          "output_type": "stream",
          "name": "stdout",
          "text": [
            "This is user input !\n"
          ]
        }
      ]
    },
    {
      "cell_type": "code",
      "source": [
        "num1 = input()"
      ],
      "metadata": {
        "colab": {
          "base_uri": "https://localhost:8080/"
        },
        "id": "35mfICrYlSWv",
        "outputId": "e813f4b0-9f88-45b1-f194-4dcca1124f44"
      },
      "execution_count": null,
      "outputs": [
        {
          "name": "stdout",
          "output_type": "stream",
          "text": [
            "1234\n"
          ]
        }
      ]
    },
    {
      "cell_type": "code",
      "source": [
        "# Answer is <class 'str'> because by default input always takes string\n",
        "\n",
        "print(type(num1))"
      ],
      "metadata": {
        "colab": {
          "base_uri": "https://localhost:8080/"
        },
        "id": "G_6H3NeKlZV4",
        "outputId": "f4bd59d8-ae23-49ee-ace9-e995b5e0b70e"
      },
      "execution_count": null,
      "outputs": [
        {
          "output_type": "stream",
          "name": "stdout",
          "text": [
            "<class 'str'>\n"
          ]
        }
      ]
    },
    {
      "cell_type": "code",
      "source": [
        "te_ct = 123\n",
        "print(te_ct)"
      ],
      "metadata": {
        "colab": {
          "base_uri": "https://localhost:8080/"
        },
        "id": "FXcH-YuVlT0Q",
        "outputId": "760745b1-9549-4db7-bf12-8143c877ffe0"
      },
      "execution_count": null,
      "outputs": [
        {
          "output_type": "stream",
          "name": "stdout",
          "text": [
            "123\n"
          ]
        }
      ]
    },
    {
      "cell_type": "code",
      "source": [
        "#Variable assign string value also.\n",
        "\n",
        "te_123 = 'abc'\n",
        "print(te_123)"
      ],
      "metadata": {
        "colab": {
          "base_uri": "https://localhost:8080/"
        },
        "id": "oNJpeGetlWvV",
        "outputId": "b11d335e-2a9f-4f81-bd87-ced3f8a0e260"
      },
      "execution_count": null,
      "outputs": [
        {
          "output_type": "stream",
          "name": "stdout",
          "text": [
            "abc\n"
          ]
        }
      ]
    },
    {
      "cell_type": "code",
      "source": [
        "te_123 = 456\n",
        "print(te_123)"
      ],
      "metadata": {
        "colab": {
          "base_uri": "https://localhost:8080/"
        },
        "id": "HcYefsIRlX94",
        "outputId": "942510b9-d704-43f5-c5a4-ac228b7f3d61"
      },
      "execution_count": null,
      "outputs": [
        {
          "output_type": "stream",
          "name": "stdout",
          "text": [
            "456\n"
          ]
        }
      ]
    },
    {
      "cell_type": "code",
      "source": [],
      "metadata": {
        "id": "_ktSqZcglah_"
      },
      "execution_count": null,
      "outputs": []
    },
    {
      "cell_type": "code",
      "source": [
        "# Concatenate the string(input values)\n",
        "\n",
        "text1 = input()\n",
        "text2 = input()\n",
        "\n",
        "print(text1 + text2)"
      ],
      "metadata": {
        "colab": {
          "base_uri": "https://localhost:8080/"
        },
        "id": "q-lYYc1MlciZ",
        "outputId": "d2026e73-bdf8-48b6-c1f8-fc2761a3f402"
      },
      "execution_count": null,
      "outputs": [
        {
          "output_type": "stream",
          "name": "stdout",
          "text": [
            "Khushi\n",
            "Kasliwal\n",
            "KhushiKasliwal\n"
          ]
        }
      ]
    },
    {
      "cell_type": "code",
      "source": [
        "# We want space between two strings\n",
        "\n",
        "str1 = input()\n",
        "str2 = input()\n",
        "\n",
        "print(str1,str2)"
      ],
      "metadata": {
        "colab": {
          "base_uri": "https://localhost:8080/"
        },
        "id": "ByBfL0hGlc8g",
        "outputId": "3bb29adb-1ce9-42d6-b505-b04caeea82aa"
      },
      "execution_count": null,
      "outputs": [
        {
          "output_type": "stream",
          "name": "stdout",
          "text": [
            "Khushi\n",
            "Kasliwal\n",
            "Khushi Kasliwal\n"
          ]
        }
      ]
    },
    {
      "cell_type": "code",
      "source": [
        "num1 = input()               # By default it accept string data type\n",
        "num2 = input()\n",
        "\n",
        "print(num1 + num2)"
      ],
      "metadata": {
        "colab": {
          "base_uri": "https://localhost:8080/"
        },
        "id": "XGVjEukrlhTr",
        "outputId": "1f7fa9ea-de20-4419-f80c-5c0064fe300c"
      },
      "execution_count": null,
      "outputs": [
        {
          "output_type": "stream",
          "name": "stdout",
          "text": [
            "10\n",
            "20\n",
            "1020\n"
          ]
        }
      ]
    },
    {
      "cell_type": "code",
      "source": [],
      "metadata": {
        "id": "MkGZ1z_ali-5"
      },
      "execution_count": null,
      "outputs": []
    },
    {
      "cell_type": "code",
      "source": [
        "n = int(input())                  # This statement accept integer data type as a input (valid integer values only) does not accept float values\n",
        "m = int(input())\n",
        "\n",
        "print(n + m)                      # now it performs addition"
      ],
      "metadata": {
        "colab": {
          "base_uri": "https://localhost:8080/"
        },
        "id": "XmgvIzg3loFm",
        "outputId": "bf0b35bc-c994-4c5d-d981-ed093c66336a"
      },
      "execution_count": null,
      "outputs": [
        {
          "output_type": "stream",
          "name": "stdout",
          "text": [
            "10\n",
            "15\n",
            "25\n"
          ]
        }
      ]
    },
    {
      "cell_type": "code",
      "source": [
        "num1 = int(input(\"enter a first number - \"))\n",
        "num2 = int(input(\"enter a second number - \"))\n",
        "\n",
        "print(num1 + num2)"
      ],
      "metadata": {
        "colab": {
          "base_uri": "https://localhost:8080/"
        },
        "id": "4dcW62Tmlosi",
        "outputId": "0f3336f1-3c5d-405f-9e18-d32ec04802a6"
      },
      "execution_count": null,
      "outputs": [
        {
          "output_type": "stream",
          "name": "stdout",
          "text": [
            "enter a first number - 10\n",
            "enter a second number - 52\n",
            "62\n"
          ]
        }
      ]
    },
    {
      "cell_type": "code",
      "source": [
        "n = float(input())                 # This statement accept float as a input as well as integer data types (Both allowed)\n",
        "m = float(input())\n",
        "\n",
        "print(n - m)"
      ],
      "metadata": {
        "colab": {
          "base_uri": "https://localhost:8080/"
        },
        "id": "8YLctpDJlseF",
        "outputId": "e3e89b7a-583e-419b-dbbe-4f25aa9b4bb3"
      },
      "execution_count": null,
      "outputs": [
        {
          "output_type": "stream",
          "name": "stdout",
          "text": [
            "84\n",
            "20.0\n",
            "64.0\n"
          ]
        }
      ]
    },
    {
      "cell_type": "code",
      "source": [],
      "metadata": {
        "id": "qFNHc8QGlx1m"
      },
      "execution_count": null,
      "outputs": []
    },
    {
      "cell_type": "markdown",
      "source": [
        "### Square & Square root Of the number"
      ],
      "metadata": {
        "id": "mnf20DgVl1Xm"
      }
    },
    {
      "cell_type": "code",
      "source": [
        "#Square of any integer number\n",
        "a=int(input())\n",
        "print(a,\"SQUARE -\",a**2)\n",
        "\n",
        "print(\"---------------\")\n",
        "#Square of any integer number\n",
        "num1 = int(input(\"Enter a number - \"))\n",
        "print(\"Square of given number is :\",num1*num1)\n",
        "\n",
        "print('-------------------------------------')\n",
        "print(\"Square of given number is : \", num1 ** 2)"
      ],
      "metadata": {
        "colab": {
          "base_uri": "https://localhost:8080/"
        },
        "id": "zAH99-xFl27W",
        "outputId": "909e5d99-a422-4720-e606-ac313281e304"
      },
      "execution_count": null,
      "outputs": [
        {
          "output_type": "stream",
          "name": "stdout",
          "text": [
            "5\n",
            "5 SQUARE - 25\n",
            "---------------\n",
            "Enter a number - 5\n",
            "Square of given number is : 25\n",
            "-------------------------------------\n",
            "Square of given number is :  25\n"
          ]
        }
      ]
    },
    {
      "cell_type": "code",
      "source": [
        "#Square root of any integer number\n",
        "a=int(input())\n",
        "print(a,\"SQUARE ROOT -\",a**0.5)\n",
        "\n",
        "print(\"-------------------------\")\n",
        "print(a,\"SQUARE ROOT -\",a**(1/2))"
      ],
      "metadata": {
        "colab": {
          "base_uri": "https://localhost:8080/"
        },
        "id": "JNzy9GyOl3il",
        "outputId": "ad30f2d5-8350-4260-8886-41ab464b76f2"
      },
      "execution_count": null,
      "outputs": [
        {
          "output_type": "stream",
          "name": "stdout",
          "text": [
            "25\n",
            "25 SQUARE ROOT - 5.0\n",
            "-------------------------\n",
            "25 SQUARE ROOT - 5.0\n"
          ]
        }
      ]
    },
    {
      "cell_type": "code",
      "source": [],
      "metadata": {
        "id": "AxjxlEeUl5db"
      },
      "execution_count": null,
      "outputs": []
    },
    {
      "cell_type": "markdown",
      "source": [
        "#end() and sep()"
      ],
      "metadata": {
        "id": "fCRqN_Krl9-n"
      }
    },
    {
      "cell_type": "code",
      "source": [
        "'''\n",
        "Default Values\n",
        "\n",
        "sep = \" \"  >- space (work in between print statement)\n",
        "\n",
        "end = \\n   >- new line (work at the end of the print statement)\n",
        "\n",
        ", is nothing but print space between the strings/numbers.\n",
        "\n",
        "'''"
      ],
      "metadata": {
        "id": "af0Qc-O2mBdl"
      },
      "execution_count": null,
      "outputs": []
    },
    {
      "cell_type": "code",
      "source": [
        "/ = forward"
      ],
      "metadata": {
        "id": "x4QEZj1emIdo"
      },
      "execution_count": null,
      "outputs": []
    },
    {
      "cell_type": "code",
      "source": [
        "\\ = backword"
      ],
      "metadata": {
        "id": "1hMWcw3YmDaw"
      },
      "execution_count": null,
      "outputs": []
    },
    {
      "cell_type": "code",
      "source": [],
      "metadata": {
        "id": "rkX_lY-6KrA7"
      },
      "execution_count": null,
      "outputs": []
    },
    {
      "cell_type": "markdown",
      "source": [
        "## Question using sep()"
      ],
      "metadata": {
        "id": "BkpBTqtzmKZL"
      }
    },
    {
      "cell_type": "code",
      "source": [
        "print(56,6.7,\"Random\",True)"
      ],
      "metadata": {
        "colab": {
          "base_uri": "https://localhost:8080/"
        },
        "id": "O-SQd5K-mMIf",
        "outputId": "1ee67ead-a1a9-4e18-917c-0d539cfc8b0c"
      },
      "execution_count": null,
      "outputs": [
        {
          "output_type": "stream",
          "name": "stdout",
          "text": [
            "56 6.7 Random True\n"
          ]
        }
      ]
    },
    {
      "cell_type": "code",
      "source": [
        "# Add '+' in between each individual value...\n",
        "\n",
        "print(56,'+',6.7,'+',\"random\",'+',True)                             # 1 way\n",
        "\n",
        "print(56,6.7,\"Random\",True,sep=\"+\")                                 # 2 way  : Output will not contain space between the individual values\n"
      ],
      "metadata": {
        "colab": {
          "base_uri": "https://localhost:8080/"
        },
        "id": "1L6pL3njmMwM",
        "outputId": "0a02c3a5-2947-4d62-efe9-49dbb6665642"
      },
      "execution_count": null,
      "outputs": [
        {
          "output_type": "stream",
          "name": "stdout",
          "text": [
            "56 + 6.7 + random + True\n",
            "56+6.7+Random+True\n"
          ]
        }
      ]
    },
    {
      "cell_type": "code",
      "source": [
        "# Here print statement will only follow separater instruction ',' is not consider here.\n",
        "\n",
        "print(56,6.7,\"Random\",True,sep=\"     \")"
      ],
      "metadata": {
        "colab": {
          "base_uri": "https://localhost:8080/"
        },
        "id": "ar4WWOCRmODM",
        "outputId": "d9fc9a55-db33-488d-da86-d1a1096d08f0"
      },
      "execution_count": null,
      "outputs": [
        {
          "output_type": "stream",
          "name": "stdout",
          "text": [
            "56     6.7     Random     True\n"
          ]
        }
      ]
    },
    {
      "cell_type": "code",
      "source": [
        "print(56,6.7,\"Random\",True,sep=\"__+__\")"
      ],
      "metadata": {
        "colab": {
          "base_uri": "https://localhost:8080/"
        },
        "id": "WHUpNYTBmPp9",
        "outputId": "ca77c8bf-87a8-43e8-8c79-bc42fe35495d"
      },
      "execution_count": null,
      "outputs": [
        {
          "output_type": "stream",
          "name": "stdout",
          "text": [
            "56__+__6.7__+__Random__+__True\n"
          ]
        }
      ]
    },
    {
      "cell_type": "code",
      "source": [
        "print(56,6.7,\"random\",True,sep=\"|Random|\")"
      ],
      "metadata": {
        "colab": {
          "base_uri": "https://localhost:8080/"
        },
        "id": "35zz-m7xmRDd",
        "outputId": "bf68cb81-19f8-4ff0-899b-009ddff4e980"
      },
      "execution_count": null,
      "outputs": [
        {
          "output_type": "stream",
          "name": "stdout",
          "text": [
            "56|Random|6.7|Random|random|Random|True\n"
          ]
        }
      ]
    },
    {
      "cell_type": "code",
      "source": [
        "'''\n",
        "  Output : 1\n",
        "           2\n",
        "           3\n",
        "           4\n",
        "           5\n",
        "'''\n",
        "print(1,2,3,4,5,sep=\"\\n\")"
      ],
      "metadata": {
        "colab": {
          "base_uri": "https://localhost:8080/"
        },
        "id": "u4V4dbnxmWWa",
        "outputId": "5333db06-b908-48d2-febf-96a7883dba9c"
      },
      "execution_count": null,
      "outputs": [
        {
          "output_type": "stream",
          "name": "stdout",
          "text": [
            "1\n",
            "2\n",
            "3\n",
            "4\n",
            "5\n"
          ]
        }
      ]
    },
    {
      "cell_type": "code",
      "source": [
        "print(\"jcbsjc\",\"cbjscbsc\",sep = \"piyush\")\n",
        "print()\n",
        "print(1,2)\n",
        "print(124654)"
      ],
      "metadata": {
        "colab": {
          "base_uri": "https://localhost:8080/"
        },
        "id": "7wARLntVmYYl",
        "outputId": "069199c0-8c43-44c1-9970-8f7c2abc1e68"
      },
      "execution_count": null,
      "outputs": [
        {
          "output_type": "stream",
          "name": "stdout",
          "text": [
            "jcbsjcpiyushcbjscbsc\n",
            "\n",
            "1 2\n",
            "124654\n"
          ]
        }
      ]
    },
    {
      "cell_type": "code",
      "source": [
        "print(\"Alice\",\"Bob\",\"Women\",\"Data\",\"Queen\",sep = \"\\t\")\n",
        "print(\"Wilson\")\n",
        "# here \\t is tab (space) but it is not specific in between the data."
      ],
      "metadata": {
        "colab": {
          "base_uri": "https://localhost:8080/"
        },
        "id": "9aANchmWmaJI",
        "outputId": "cf2e1302-4654-41fa-d365-71ea13579fe0"
      },
      "execution_count": null,
      "outputs": [
        {
          "output_type": "stream",
          "name": "stdout",
          "text": [
            "Alice\tBob\tWomen\tData\tQueen\n",
            "Wilson\n"
          ]
        }
      ]
    },
    {
      "cell_type": "code",
      "source": [],
      "metadata": {
        "id": "GmSvtgJ5mbq9"
      },
      "execution_count": null,
      "outputs": []
    },
    {
      "cell_type": "markdown",
      "source": [
        "## Questions using end()"
      ],
      "metadata": {
        "id": "ZQ4s1ELzmdjo"
      }
    },
    {
      "cell_type": "code",
      "source": [
        "print(1,2,3,end =\"hello\")\n",
        "print(4,5)"
      ],
      "metadata": {
        "colab": {
          "base_uri": "https://localhost:8080/"
        },
        "id": "HfwwiOTBmexy",
        "outputId": "92cf3b35-5c7a-4d12-ae67-e93bbb011e5a"
      },
      "execution_count": null,
      "outputs": [
        {
          "output_type": "stream",
          "name": "stdout",
          "text": [
            "1 2 3hello4 5\n"
          ]
        }
      ]
    },
    {
      "cell_type": "code",
      "source": [
        "print(1,2,3,end = \"ross\")"
      ],
      "metadata": {
        "colab": {
          "base_uri": "https://localhost:8080/"
        },
        "id": "2Mgy9XAamfHQ",
        "outputId": "8776b897-6c85-455c-e2fe-8634bcb4529e"
      },
      "execution_count": null,
      "outputs": [
        {
          "output_type": "stream",
          "name": "stdout",
          "text": [
            "1 2 3piyush"
          ]
        }
      ]
    },
    {
      "cell_type": "code",
      "source": [
        "# why second print statement not going to next line: because by defult end works as new line . Here instead of new line there is ++.That's why.\n",
        "\n",
        "print(\"abcdefg\",\"12345\",end=\" ++ \")\n",
        "print(\"ijklmnop\")"
      ],
      "metadata": {
        "colab": {
          "base_uri": "https://localhost:8080/"
        },
        "id": "bqnuyU3smhGi",
        "outputId": "0b66f8f9-c75c-471f-c420-d2a376c5c6e5"
      },
      "execution_count": null,
      "outputs": [
        {
          "output_type": "stream",
          "name": "stdout",
          "text": [
            "abcdefg 12345 ++ ijklmnop\n"
          ]
        }
      ]
    },
    {
      "cell_type": "code",
      "source": [
        "# When it comes to separate print statments happens is that whenever print statement ends it automatically moves to the next line.\n",
        "\n",
        "print(\"line 1\")\n",
        "print(\"line 2\")\n",
        "print(\"line 3\")"
      ],
      "metadata": {
        "colab": {
          "base_uri": "https://localhost:8080/"
        },
        "id": "w2uOyW2cmi-U",
        "outputId": "80c9d834-cb65-4163-ac9c-35d3a08f0608"
      },
      "execution_count": null,
      "outputs": [
        {
          "output_type": "stream",
          "name": "stdout",
          "text": [
            "line 1\n",
            "line 2\n",
            "line 3\n"
          ]
        }
      ]
    },
    {
      "cell_type": "code",
      "source": [
        "print(\"line 1\",end= '__')\n",
        "print(\"line 2\")                   # this still ends with a '\\n'\n",
        "print(\"line 3\")"
      ],
      "metadata": {
        "colab": {
          "base_uri": "https://localhost:8080/"
        },
        "id": "7aRyJ6nSmlG2",
        "outputId": "5d369d47-ded8-4bd1-829b-6b70bbbf740c"
      },
      "execution_count": null,
      "outputs": [
        {
          "output_type": "stream",
          "name": "stdout",
          "text": [
            "line 1__line 2\n",
            "line 3\n"
          ]
        }
      ]
    },
    {
      "cell_type": "code",
      "source": [
        "print(1,end=\"data\")"
      ],
      "metadata": {
        "colab": {
          "base_uri": "https://localhost:8080/"
        },
        "id": "Ronw0p0Fmmjc",
        "outputId": "252cd4fa-b82a-4dc3-9117-363662b6ab1b"
      },
      "execution_count": null,
      "outputs": [
        {
          "output_type": "stream",
          "name": "stdout",
          "text": [
            "1data"
          ]
        }
      ]
    },
    {
      "cell_type": "code",
      "source": [
        "num = input()\n",
        "ber = input()\n",
        "print(num, ber , end = \"\")"
      ],
      "metadata": {
        "colab": {
          "base_uri": "https://localhost:8080/"
        },
        "id": "iygigDDnmo1B",
        "outputId": "bc291f5f-0bbe-476d-e35b-104206deedf8"
      },
      "execution_count": null,
      "outputs": [
        {
          "output_type": "stream",
          "name": "stdout",
          "text": [
            "5\n",
            "6\n",
            "5 6"
          ]
        }
      ]
    },
    {
      "cell_type": "code",
      "source": [],
      "metadata": {
        "id": "5u8ryF13mqUF"
      },
      "execution_count": null,
      "outputs": []
    },
    {
      "cell_type": "markdown",
      "source": [
        "## Question using both sep() and end()."
      ],
      "metadata": {
        "id": "S1YLWsjXmtn0"
      }
    },
    {
      "cell_type": "code",
      "source": [
        "print(\"*****\\t*\",end =\"mario\")\n",
        "print(\"something\",sep =\"+\")\n",
        "print(\"hello data queen\",sep =\" ++++ \")"
      ],
      "metadata": {
        "colab": {
          "base_uri": "https://localhost:8080/"
        },
        "id": "NEpVq5q3mvrK",
        "outputId": "653babdb-da51-4411-c963-c0be038ce2df"
      },
      "execution_count": null,
      "outputs": [
        {
          "output_type": "stream",
          "name": "stdout",
          "text": [
            "*****\t*mariosomething\n",
            "hello data queen\n"
          ]
        }
      ]
    },
    {
      "cell_type": "code",
      "source": [
        "print(\"Alice\",\"Ross\",\"Women\",\"Data\",\"Queen\",sep = \"Science\",end = \"t\")\n",
        "print(\"\\nMaster\")"
      ],
      "metadata": {
        "colab": {
          "base_uri": "https://localhost:8080/"
        },
        "id": "DYrMho_lmwBk",
        "outputId": "a00fff42-1cf5-4e98-cf83-be004b720d26"
      },
      "execution_count": null,
      "outputs": [
        {
          "output_type": "stream",
          "name": "stdout",
          "text": [
            "AliceScienceRossScienceWomenScienceDataScienceQueent\n",
            "Master\n"
          ]
        }
      ]
    },
    {
      "cell_type": "code",
      "source": [
        "print(\"Alice\",\"Ross\",\"Women\",\"Data\",\"Queen\",sep = \"Science\",end = \"t\\n\")\n",
        "print(\"Master\")"
      ],
      "metadata": {
        "colab": {
          "base_uri": "https://localhost:8080/"
        },
        "id": "DMVKHlo3mxW7",
        "outputId": "32002101-5e26-4c7c-801e-bd4e3279a082"
      },
      "execution_count": null,
      "outputs": [
        {
          "output_type": "stream",
          "name": "stdout",
          "text": [
            "AliceScienceRossScienceWomenScienceDataScienceQueent\n",
            "Master\n"
          ]
        }
      ]
    },
    {
      "cell_type": "code",
      "source": [
        "print(\"Alice\",\"Ross\",\"Women\",\"Data\",\"Queen\",sep = \"Science\",end = \"t/n\")\n",
        "print(\"Martin\")"
      ],
      "metadata": {
        "colab": {
          "base_uri": "https://localhost:8080/"
        },
        "id": "IITpkseemzMu",
        "outputId": "4b060a37-d611-46e2-feb2-f695fbfc145e"
      },
      "execution_count": null,
      "outputs": [
        {
          "output_type": "stream",
          "name": "stdout",
          "text": [
            "AliceScienceRossScienceWomenScienceDataScienceQueent/nMartin\n"
          ]
        }
      ]
    },
    {
      "cell_type": "code",
      "source": [
        "print(\"\\n*\\n*\")\n",
        "print(\"\\n*\",end = \"wow\")\n",
        "print(\"**\\n**\",sep = \"ross\")\n",
        "print(\"\\n***\\n***\")"
      ],
      "metadata": {
        "colab": {
          "base_uri": "https://localhost:8080/"
        },
        "id": "zdJr9Qqdm0wM",
        "outputId": "19f9aaab-e055-4f4e-8b8e-de8da6f40ea1"
      },
      "execution_count": null,
      "outputs": [
        {
          "output_type": "stream",
          "name": "stdout",
          "text": [
            "\n",
            "*\n",
            "*\n",
            "\n",
            "*wow**\n",
            "**\n",
            "\n",
            "***\n",
            "***\n"
          ]
        }
      ]
    },
    {
      "cell_type": "code",
      "source": [
        "print(\"*****\\t*\",end =\"yup\")\n",
        "print(\"something\",sep =\"+\")\n",
        "print(\"hello \",\"data\",\"queen\",sep =\" ++++ \")"
      ],
      "metadata": {
        "colab": {
          "base_uri": "https://localhost:8080/"
        },
        "id": "IGILTsX6m2UJ",
        "outputId": "ea3fbadd-5f7a-4dc5-f426-8e4f5844d98c"
      },
      "execution_count": null,
      "outputs": [
        {
          "output_type": "stream",
          "name": "stdout",
          "text": [
            "*****\t*yupsomething\n",
            "hello  ++++ data ++++ queen\n"
          ]
        }
      ]
    },
    {
      "cell_type": "code",
      "source": [
        "print(\"*****\\t*\",end =\"ohhhh\")\n",
        "print(\"something\",sep =\"+\")\n",
        "print(\"hello \"\"data\"\"queen\",sep =\" ++++ \")"
      ],
      "metadata": {
        "colab": {
          "base_uri": "https://localhost:8080/"
        },
        "id": "0nimd1mym4Cy",
        "outputId": "5f36f5f2-637d-40a6-afc1-388bf1599087"
      },
      "execution_count": null,
      "outputs": [
        {
          "output_type": "stream",
          "name": "stdout",
          "text": [
            "*****\t*ohhhhsomething\n",
            "hello dataqueen\n"
          ]
        }
      ]
    },
    {
      "cell_type": "code",
      "source": [
        "print(\"abcsdsduhdu\",\"123456789\",sep=\"\\n\",end=\" AA \")"
      ],
      "metadata": {
        "colab": {
          "base_uri": "https://localhost:8080/"
        },
        "id": "xWJkybZvm5YM",
        "outputId": "71268cff-e3b5-483d-f983-22b5619f463d"
      },
      "execution_count": null,
      "outputs": [
        {
          "output_type": "stream",
          "name": "stdout",
          "text": [
            "abcsdsduhdu\n",
            "123456789 AA "
          ]
        }
      ]
    },
    {
      "cell_type": "code",
      "source": [
        "print(\"dcdc\")\n",
        "print(\"vdhvd\",\"duchdge\",sep=\"++\",end = \" AA \")\n",
        "print(\"cbjdb \",'ducgscj')"
      ],
      "metadata": {
        "colab": {
          "base_uri": "https://localhost:8080/"
        },
        "id": "nsenLez7m6-q",
        "outputId": "5c65234d-6707-4a13-e461-378e844c3386"
      },
      "execution_count": null,
      "outputs": [
        {
          "output_type": "stream",
          "name": "stdout",
          "text": [
            "dcdc\n",
            "vdhvd++duchdge AA cbjdb  ducgscj\n"
          ]
        }
      ]
    },
    {
      "cell_type": "code",
      "source": [
        "print(1,2,3,sep=\"+\",end=\"This is the END\")\n",
        "print(4,5,sep='_')"
      ],
      "metadata": {
        "colab": {
          "base_uri": "https://localhost:8080/"
        },
        "id": "Y9JjINDDm8mQ",
        "outputId": "5c74f3c8-a8ba-4a4d-ff2a-c75621168292"
      },
      "execution_count": null,
      "outputs": [
        {
          "output_type": "stream",
          "name": "stdout",
          "text": [
            "1+2+3This is the END4_5\n"
          ]
        }
      ]
    },
    {
      "cell_type": "code",
      "source": [],
      "metadata": {
        "id": "HJnzl_p6m_8O"
      },
      "execution_count": null,
      "outputs": []
    },
    {
      "cell_type": "code",
      "source": [],
      "metadata": {
        "id": "w74z4DjjnBaA"
      },
      "execution_count": null,
      "outputs": []
    },
    {
      "cell_type": "markdown",
      "source": [
        "#Curious Questions"
      ],
      "metadata": {
        "id": "ChbEZmXGnB0z"
      }
    },
    {
      "cell_type": "code",
      "source": [
        "'''\n",
        "\n",
        "Your friend Rahul plans to visit exotic countries all around the world.\n",
        "Sadly, Rahul's math skills aren't good enough.\n",
        "Given the amount of money Rahul has before the currency exchange and the amount of money that is spent from his savings,\n",
        "print the amount of money that remains in his savings.\n",
        "\n",
        "Input:-\n",
        "116\n",
        "12\n",
        "\n",
        "Output:-\n",
        "104\n",
        "\n",
        "'''\n",
        "num1 = int(input(\"Enter the amt of money : \"))\n",
        "num2 = int(input(\"Enter the amt of money - \"))\n",
        "\n",
        "print(num1 - num2)"
      ],
      "metadata": {
        "colab": {
          "base_uri": "https://localhost:8080/"
        },
        "id": "hR-tczmUnDfL",
        "outputId": "4c8d0bdc-8407-4de9-9d43-4d11066e8bdf"
      },
      "execution_count": null,
      "outputs": [
        {
          "output_type": "stream",
          "name": "stdout",
          "text": [
            "Enter the amt of money : 116\n",
            "Enter the amt of money - 12\n",
            "104\n"
          ]
        }
      ]
    },
    {
      "cell_type": "code",
      "source": [
        "'''\n",
        "\n",
        "Print the first five letters of the English alphabet i.e. A, B, C, D and E.\n",
        "\n",
        "Output -\n",
        "A\n",
        "B\n",
        "C\n",
        "D\n",
        "E\n",
        "\n",
        "'''\n",
        "print(\"A\")\n",
        "print('B')\n",
        "print(\"C\")\n",
        "print('D')\n",
        "print(\"E\")                                # 1 way\n",
        "\n",
        "print('----------')\n",
        "print(\"A\",'B',\"C\",\"D\",'E',sep=\"\\n\")       # 2 way\n",
        "\n",
        "print(\"----------\")\n",
        "print(\"A\\nB\\nC\\nD\\nE\")                    # 3 way"
      ],
      "metadata": {
        "colab": {
          "base_uri": "https://localhost:8080/"
        },
        "id": "Rle45yUynEBq",
        "outputId": "cba5bcd9-d85c-435e-cf3a-f2d409a87daf"
      },
      "execution_count": null,
      "outputs": [
        {
          "output_type": "stream",
          "name": "stdout",
          "text": [
            "A\n",
            "B\n",
            "C\n",
            "D\n",
            "E\n",
            "----------\n",
            "A\n",
            "B\n",
            "C\n",
            "D\n",
            "E\n",
            "----------\n",
            "A\n",
            "B\n",
            "C\n",
            "D\n",
            "E\n"
          ]
        }
      ]
    },
    {
      "cell_type": "code",
      "source": [
        "'''\n",
        "\n",
        "Given two names A and B as input, print \"A says Hi to B\" (Without quotations), where A and B are the names in input.\n",
        "\n",
        "Output:-\n",
        "Ram says Hi to Shyam\n",
        "\n",
        "'''\n",
        "\n",
        "name1 = input(\"Enter the name - \")\n",
        "name2 = input(\"Enter the second name - \")\n",
        "\n",
        "print(name1,\"says Hi to\",name2)\n",
        "\n",
        "print(name1 + \" says Hi to \" + name2)"
      ],
      "metadata": {
        "colab": {
          "base_uri": "https://localhost:8080/"
        },
        "id": "zZJNgi-qnHYw",
        "outputId": "aa39eff1-79ff-47f4-ccf2-c76e01dc2afe"
      },
      "execution_count": null,
      "outputs": [
        {
          "output_type": "stream",
          "name": "stdout",
          "text": [
            "Enter the name - Ram\n",
            "Enter the second name - Shyam\n",
            "Ram says Hi to Shyam\n",
            "Ram says Hi to Shyam\n"
          ]
        }
      ]
    },
    {
      "cell_type": "code",
      "source": [
        "'''\n",
        "\n",
        "You're going to write some code to help you cook a gorgeous lasagna from your favorite cookbook.\n",
        "According to your cookbook, the Lasagna should be in the oven for 40 minutes. Given the time (in minutes), the lasagna has been in the oven,\n",
        "find how many more minutes the lasagna still needs to bake for.\n",
        "\n",
        "Input:\n",
        "30\n",
        "\n",
        "Output:\n",
        "10\n",
        "\n",
        "'''\n",
        "Given_time = 40\n",
        "time = int(input(\"Enter the time for cooking food - \"))\n",
        "\n",
        "print(\"Need\",Given_time - time,\" minutes more to cook delisious food\")"
      ],
      "metadata": {
        "colab": {
          "base_uri": "https://localhost:8080/"
        },
        "id": "z4U1jnKnnKKC",
        "outputId": "6a1eaa6d-d75b-4bda-b77f-0b8ef7fa431d"
      },
      "execution_count": null,
      "outputs": [
        {
          "output_type": "stream",
          "name": "stdout",
          "text": [
            "Enter the time for cooking food - 30\n",
            "Need 10  minutes more to cook delisious food\n"
          ]
        }
      ]
    },
    {
      "cell_type": "code",
      "source": [
        "'''\n",
        "\n",
        "You'll write some code to help you cook a gorgeous lasagna from your favorite cookbook.\n",
        "Now, you also want to add a few layers to the lasagna. Assume **each layer takes 2 minutes** to prepare.\n",
        "Given the number of layers you want to add to the lasagna, find how many minutes you would spend making them.\n",
        "\n",
        "'''\n",
        "\n",
        "num = int(input(\"Enter no. of layers you want to add lasagna : \"))\n",
        "print(num * 2 ,\"minutes you would spend making them\")"
      ],
      "metadata": {
        "colab": {
          "base_uri": "https://localhost:8080/"
        },
        "id": "yTJblBYEnOQS",
        "outputId": "209826d6-378f-46cb-9bc5-5390a8f0a111"
      },
      "execution_count": null,
      "outputs": [
        {
          "output_type": "stream",
          "name": "stdout",
          "text": [
            "Enter no. of layers you want to add lasagna : 5\n",
            "10 minutes you would spend making them\n"
          ]
        }
      ]
    },
    {
      "cell_type": "code",
      "source": [
        "'''\n",
        "\n",
        "Problem Description\n",
        "You wrote some code to help you cook a gorgeous lasagna from your favorite cookbook.\n",
        "Now, you want to find the total number of minutes you've been cooking\n",
        "for the sum of your preparation time and the time the lasagna has already spent baking in the oven.\n",
        "The preparation time of one layer is 2 minutes.\n",
        "Given the number of layers added to the lasagna and the number of minutes the lasagna has been baking in the oven,\n",
        "find the total elapsed cooking time (prep + bake) in minutes.\n",
        "\n",
        "Example Input -\n",
        "Input 1 -\n",
        "3\n",
        "20\n",
        "\n",
        "Input 2 -\n",
        "1\n",
        "29\n",
        "\n",
        "\n",
        "Example Output -\n",
        "Output 1 -\n",
        "26\n",
        "\n",
        "Output 2 -\n",
        "31\n",
        "\n",
        "'''\n",
        "prep_time = 2\n",
        "layer = int(input(\"Enter no. of layer : \"))\n",
        "bake_time = int(input(\"Enter the no. of minutes : \"))\n",
        "print(\"Total no. of minutes you have been cooking is : \",layer * prep_time + bake_time)\n",
        "\n",
        "\n",
        "layer = int(input(\"Enter no. of layer : \"))\n",
        "bake_time = int(input(\"Enter the no. of minutes : \"))\n",
        "print(\"Total no. of minutes you have been cooking is : \",layer * 2 + bake_time)\n"
      ],
      "metadata": {
        "colab": {
          "base_uri": "https://localhost:8080/"
        },
        "id": "0mgNHLTvnQ37",
        "outputId": "8f9de5ea-c417-4d35-84f4-64fcd39fb60f"
      },
      "execution_count": null,
      "outputs": [
        {
          "output_type": "stream",
          "name": "stdout",
          "text": [
            "Enter no. of layer : 1\n",
            "Enter the no. of minutes : 29\n",
            "Total no. of minutes you have been cooking is :  31\n",
            "Enter no. of layer : 3\n",
            "Enter the no. of minutes : 20\n",
            "Total no. of minutes you have been cooking is :  26\n"
          ]
        }
      ]
    },
    {
      "cell_type": "code",
      "source": [
        "'''\n",
        "\n",
        "Given the value of a single bill and the number of bills you received, print the total value of the bills.\n",
        "\n",
        "Note: The value of all the bills are same\n",
        "\n",
        "Input:-\n",
        "12\n",
        "10\n",
        "\n",
        "Output:-\n",
        "120\n",
        "\n",
        "'''\n",
        "\n",
        "bill = int(input(\"Single bill is : \"))\n",
        "num = int(input(\"Enter the no. of bills you received : \"))\n",
        "total_bill = bill * num\n",
        "\n",
        "print(\"Total value of the bills : \",total_bill)"
      ],
      "metadata": {
        "colab": {
          "base_uri": "https://localhost:8080/"
        },
        "id": "TyJaSCUUnT0W",
        "outputId": "963820b1-5ee8-4650-9db8-d1fb9972f8ba"
      },
      "execution_count": null,
      "outputs": [
        {
          "output_type": "stream",
          "name": "stdout",
          "text": [
            "Single bill is : 12\n",
            "Enter the no. of bills you received : 10\n",
            "Total value of the bills :  120\n"
          ]
        }
      ]
    },
    {
      "cell_type": "code",
      "source": [],
      "metadata": {
        "id": "3b-bF1DuLdw_"
      },
      "execution_count": null,
      "outputs": []
    },
    {
      "cell_type": "markdown",
      "source": [
        "## Tricky Concept - 👇"
      ],
      "metadata": {
        "id": "oZZW8xZ6nf34"
      }
    },
    {
      "cell_type": "markdown",
      "source": [
        "# Conclusion -\n",
        "1. If both values are strings, only addition is allowed and it is also known as concatenation of strings .\n",
        "\n",
        "2. If one value is a string and the other is an integer, only multiplication is allowed.\n",
        "\n",
        "3. If one value is a float and the other is an integer, addition, multiplication, subtraction, and division are allowed.\n",
        "\n",
        "4. If one value is a float and the other is a string, no operations are allowed"
      ],
      "metadata": {
        "id": "Q-8hDRm5nisi"
      }
    },
    {
      "cell_type": "code",
      "source": [],
      "metadata": {
        "id": "wpOw05HFnazF"
      },
      "execution_count": null,
      "outputs": []
    },
    {
      "cell_type": "markdown",
      "source": [
        "## If both values are strings, only addition is allowed and it is also known as concatenation of strings other operation(sub,mul,div,floor) not performed.\n",
        "\n"
      ],
      "metadata": {
        "id": "NZ8SZO0pnllz"
      }
    },
    {
      "cell_type": "code",
      "source": [
        "# Addition of two string values\n",
        "\n",
        "alice = \"10\"\n",
        "angle = \"10\"\n",
        "print( alice + angle )"
      ],
      "metadata": {
        "colab": {
          "base_uri": "https://localhost:8080/"
        },
        "id": "-8NwcBwjnnBs",
        "outputId": "48bdfebe-8745-4b7d-a6e9-be944831dfbf"
      },
      "execution_count": null,
      "outputs": [
        {
          "output_type": "stream",
          "name": "stdout",
          "text": [
            "1010\n"
          ]
        }
      ]
    },
    {
      "cell_type": "code",
      "source": [
        "# Addition of two string values\n",
        "\n",
        "bob = \"10.0\"\n",
        "ross = \"10\"\n",
        "print( bob + ross )"
      ],
      "metadata": {
        "colab": {
          "base_uri": "https://localhost:8080/"
        },
        "id": "4aE8scuannhT",
        "outputId": "b05f8beb-3742-4c55-ec78-2f6675f057e1"
      },
      "execution_count": null,
      "outputs": [
        {
          "output_type": "stream",
          "name": "stdout",
          "text": [
            "10.010\n"
          ]
        }
      ]
    },
    {
      "cell_type": "code",
      "source": [
        "# Addition of two string values (Concatenation of strings )\n",
        "\n",
        "mother = \"Hello\"\n",
        "son = \"World\"\n",
        "print(mother +  son)"
      ],
      "metadata": {
        "colab": {
          "base_uri": "https://localhost:8080/"
        },
        "id": "bSo8iXa-nppb",
        "outputId": "9a775308-d739-46ff-e2f9-70868b0a574b"
      },
      "execution_count": null,
      "outputs": [
        {
          "output_type": "stream",
          "name": "stdout",
          "text": [
            "HelloWorld\n"
          ]
        }
      ]
    },
    {
      "cell_type": "code",
      "source": [],
      "metadata": {
        "id": "mA1tAL_QnrNF"
      },
      "execution_count": null,
      "outputs": []
    },
    {
      "cell_type": "code",
      "source": [
        "# Subtraction of two string values not possible\n",
        "\n",
        "master = \"10\"\n",
        "ross = \"10\"\n",
        "print(master - ross )"
      ],
      "metadata": {
        "colab": {
          "base_uri": "https://localhost:8080/",
          "height": 176
        },
        "id": "_RcBO8Yknsks",
        "outputId": "2dd84dac-829b-48e6-fd1c-4864527431b4"
      },
      "execution_count": null,
      "outputs": [
        {
          "output_type": "error",
          "ename": "TypeError",
          "evalue": "unsupported operand type(s) for -: 'str' and 'str'",
          "traceback": [
            "\u001b[0;31m---------------------------------------------------------------------------\u001b[0m",
            "\u001b[0;31mTypeError\u001b[0m                                 Traceback (most recent call last)",
            "\u001b[0;32m<ipython-input-63-49dcb54497d0>\u001b[0m in \u001b[0;36m<cell line: 5>\u001b[0;34m()\u001b[0m\n\u001b[1;32m      3\u001b[0m \u001b[0mmaster\u001b[0m \u001b[0;34m=\u001b[0m \u001b[0;34m\"10\"\u001b[0m\u001b[0;34m\u001b[0m\u001b[0;34m\u001b[0m\u001b[0m\n\u001b[1;32m      4\u001b[0m \u001b[0mross\u001b[0m \u001b[0;34m=\u001b[0m \u001b[0;34m\"10\"\u001b[0m\u001b[0;34m\u001b[0m\u001b[0;34m\u001b[0m\u001b[0m\n\u001b[0;32m----> 5\u001b[0;31m \u001b[0mprint\u001b[0m\u001b[0;34m(\u001b[0m\u001b[0mmaster\u001b[0m \u001b[0;34m-\u001b[0m \u001b[0mross\u001b[0m \u001b[0;34m)\u001b[0m\u001b[0;34m\u001b[0m\u001b[0;34m\u001b[0m\u001b[0m\n\u001b[0m",
            "\u001b[0;31mTypeError\u001b[0m: unsupported operand type(s) for -: 'str' and 'str'"
          ]
        }
      ]
    },
    {
      "cell_type": "code",
      "source": [
        "# Subtraction of two string values not possible\n",
        "\n",
        "master = \"angle\"\n",
        "ross = \"princess\"\n",
        "print(master -  ross)"
      ],
      "metadata": {
        "colab": {
          "base_uri": "https://localhost:8080/",
          "height": 176
        },
        "id": "q2NgLDE4ntAs",
        "outputId": "9ad6f229-4fb6-4ad8-a14b-4972ca8fd4e3"
      },
      "execution_count": null,
      "outputs": [
        {
          "output_type": "error",
          "ename": "TypeError",
          "evalue": "unsupported operand type(s) for -: 'str' and 'str'",
          "traceback": [
            "\u001b[0;31m---------------------------------------------------------------------------\u001b[0m",
            "\u001b[0;31mTypeError\u001b[0m                                 Traceback (most recent call last)",
            "\u001b[0;32m<ipython-input-65-36a67176131d>\u001b[0m in \u001b[0;36m<cell line: 5>\u001b[0;34m()\u001b[0m\n\u001b[1;32m      3\u001b[0m \u001b[0mmaster\u001b[0m \u001b[0;34m=\u001b[0m \u001b[0;34m\"angle\"\u001b[0m\u001b[0;34m\u001b[0m\u001b[0;34m\u001b[0m\u001b[0m\n\u001b[1;32m      4\u001b[0m \u001b[0mross\u001b[0m \u001b[0;34m=\u001b[0m \u001b[0;34m\"princess\"\u001b[0m\u001b[0;34m\u001b[0m\u001b[0;34m\u001b[0m\u001b[0m\n\u001b[0;32m----> 5\u001b[0;31m \u001b[0mprint\u001b[0m\u001b[0;34m(\u001b[0m\u001b[0mmaster\u001b[0m \u001b[0;34m-\u001b[0m  \u001b[0mross\u001b[0m\u001b[0;34m)\u001b[0m\u001b[0;34m\u001b[0m\u001b[0;34m\u001b[0m\u001b[0m\n\u001b[0m",
            "\u001b[0;31mTypeError\u001b[0m: unsupported operand type(s) for -: 'str' and 'str'"
          ]
        }
      ]
    },
    {
      "cell_type": "code",
      "source": [],
      "metadata": {
        "id": "7DVwCOe3nur0"
      },
      "execution_count": null,
      "outputs": []
    },
    {
      "cell_type": "code",
      "source": [
        "# Multiplication of two string values not possible\n",
        "\n",
        "queen = \"10\"\n",
        "king = \"10\"\n",
        "print(queen * king )"
      ],
      "metadata": {
        "colab": {
          "base_uri": "https://localhost:8080/",
          "height": 176
        },
        "id": "GILCZmKvnwRq",
        "outputId": "18542117-4673-427e-d2be-525c335c6f57"
      },
      "execution_count": null,
      "outputs": [
        {
          "output_type": "error",
          "ename": "TypeError",
          "evalue": "can't multiply sequence by non-int of type 'str'",
          "traceback": [
            "\u001b[0;31m---------------------------------------------------------------------------\u001b[0m",
            "\u001b[0;31mTypeError\u001b[0m                                 Traceback (most recent call last)",
            "\u001b[0;32m<ipython-input-67-f9da22891724>\u001b[0m in \u001b[0;36m<cell line: 5>\u001b[0;34m()\u001b[0m\n\u001b[1;32m      3\u001b[0m \u001b[0mqueen\u001b[0m \u001b[0;34m=\u001b[0m \u001b[0;34m\"10\"\u001b[0m\u001b[0;34m\u001b[0m\u001b[0;34m\u001b[0m\u001b[0m\n\u001b[1;32m      4\u001b[0m \u001b[0mking\u001b[0m \u001b[0;34m=\u001b[0m \u001b[0;34m\"10\"\u001b[0m\u001b[0;34m\u001b[0m\u001b[0;34m\u001b[0m\u001b[0m\n\u001b[0;32m----> 5\u001b[0;31m \u001b[0mprint\u001b[0m\u001b[0;34m(\u001b[0m\u001b[0mqueen\u001b[0m \u001b[0;34m*\u001b[0m \u001b[0mking\u001b[0m \u001b[0;34m)\u001b[0m\u001b[0;34m\u001b[0m\u001b[0;34m\u001b[0m\u001b[0m\n\u001b[0m",
            "\u001b[0;31mTypeError\u001b[0m: can't multiply sequence by non-int of type 'str'"
          ]
        }
      ]
    },
    {
      "cell_type": "code",
      "source": [
        "# Multiplication of two string values Tricky question\n",
        "\n",
        "value = \"alice\"\n",
        "data = \"bob\"\n",
        "print(value *  data)"
      ],
      "metadata": {
        "colab": {
          "base_uri": "https://localhost:8080/",
          "height": 176
        },
        "id": "3L06gvTynwoJ",
        "outputId": "0598e772-3cb2-44c7-ed70-f338767a0a41"
      },
      "execution_count": null,
      "outputs": [
        {
          "output_type": "error",
          "ename": "TypeError",
          "evalue": "can't multiply sequence by non-int of type 'str'",
          "traceback": [
            "\u001b[0;31m---------------------------------------------------------------------------\u001b[0m",
            "\u001b[0;31mTypeError\u001b[0m                                 Traceback (most recent call last)",
            "\u001b[0;32m<ipython-input-70-feab24df1e91>\u001b[0m in \u001b[0;36m<cell line: 5>\u001b[0;34m()\u001b[0m\n\u001b[1;32m      3\u001b[0m \u001b[0mvalue\u001b[0m \u001b[0;34m=\u001b[0m \u001b[0;34m\"alice\"\u001b[0m\u001b[0;34m\u001b[0m\u001b[0;34m\u001b[0m\u001b[0m\n\u001b[1;32m      4\u001b[0m \u001b[0mdata\u001b[0m \u001b[0;34m=\u001b[0m \u001b[0;34m\"bob\"\u001b[0m\u001b[0;34m\u001b[0m\u001b[0;34m\u001b[0m\u001b[0m\n\u001b[0;32m----> 5\u001b[0;31m \u001b[0mprint\u001b[0m\u001b[0;34m(\u001b[0m\u001b[0mvalue\u001b[0m \u001b[0;34m*\u001b[0m  \u001b[0mdata\u001b[0m\u001b[0;34m)\u001b[0m\u001b[0;34m\u001b[0m\u001b[0;34m\u001b[0m\u001b[0m\n\u001b[0m",
            "\u001b[0;31mTypeError\u001b[0m: can't multiply sequence by non-int of type 'str'"
          ]
        }
      ]
    },
    {
      "cell_type": "code",
      "source": [
        "# Multiplication of two string values not possible\n",
        "\n",
        "var1 = \"alice\"\n",
        "var2 = \"10\"\n",
        "print(var1 * var2 )"
      ],
      "metadata": {
        "colab": {
          "base_uri": "https://localhost:8080/",
          "height": 176
        },
        "id": "fmNwRY_ynyNZ",
        "outputId": "8f777b9c-8bf1-4d12-acb0-ff0d9354ac83"
      },
      "execution_count": null,
      "outputs": [
        {
          "output_type": "error",
          "ename": "TypeError",
          "evalue": "can't multiply sequence by non-int of type 'str'",
          "traceback": [
            "\u001b[0;31m---------------------------------------------------------------------------\u001b[0m",
            "\u001b[0;31mTypeError\u001b[0m                                 Traceback (most recent call last)",
            "\u001b[0;32m<ipython-input-72-4c511c42bf37>\u001b[0m in \u001b[0;36m<cell line: 5>\u001b[0;34m()\u001b[0m\n\u001b[1;32m      3\u001b[0m \u001b[0mvar1\u001b[0m \u001b[0;34m=\u001b[0m \u001b[0;34m\"alice\"\u001b[0m\u001b[0;34m\u001b[0m\u001b[0;34m\u001b[0m\u001b[0m\n\u001b[1;32m      4\u001b[0m \u001b[0mvar2\u001b[0m \u001b[0;34m=\u001b[0m \u001b[0;34m\"10\"\u001b[0m\u001b[0;34m\u001b[0m\u001b[0;34m\u001b[0m\u001b[0m\n\u001b[0;32m----> 5\u001b[0;31m \u001b[0mprint\u001b[0m\u001b[0;34m(\u001b[0m\u001b[0mvar1\u001b[0m \u001b[0;34m*\u001b[0m \u001b[0mvar2\u001b[0m \u001b[0;34m)\u001b[0m\u001b[0;34m\u001b[0m\u001b[0;34m\u001b[0m\u001b[0m\n\u001b[0m",
            "\u001b[0;31mTypeError\u001b[0m: can't multiply sequence by non-int of type 'str'"
          ]
        }
      ]
    },
    {
      "cell_type": "code",
      "source": [],
      "metadata": {
        "id": "Zu94RzL2nz3H"
      },
      "execution_count": null,
      "outputs": []
    },
    {
      "cell_type": "code",
      "source": [
        "# Division of two string values not possible\n",
        "\n",
        "var1 = \"10\"\n",
        "var2 = \"10\"\n",
        "print(var1 / var2 )"
      ],
      "metadata": {
        "colab": {
          "base_uri": "https://localhost:8080/",
          "height": 176
        },
        "id": "oCkhex29n1PE",
        "outputId": "e2fc221a-cd7b-4f1f-a423-e4143361a476"
      },
      "execution_count": null,
      "outputs": [
        {
          "output_type": "error",
          "ename": "TypeError",
          "evalue": "unsupported operand type(s) for /: 'str' and 'str'",
          "traceback": [
            "\u001b[0;31m---------------------------------------------------------------------------\u001b[0m",
            "\u001b[0;31mTypeError\u001b[0m                                 Traceback (most recent call last)",
            "\u001b[0;32m<ipython-input-74-e8bad75101a0>\u001b[0m in \u001b[0;36m<cell line: 5>\u001b[0;34m()\u001b[0m\n\u001b[1;32m      3\u001b[0m \u001b[0mvar1\u001b[0m \u001b[0;34m=\u001b[0m \u001b[0;34m\"10\"\u001b[0m\u001b[0;34m\u001b[0m\u001b[0;34m\u001b[0m\u001b[0m\n\u001b[1;32m      4\u001b[0m \u001b[0mvar2\u001b[0m \u001b[0;34m=\u001b[0m \u001b[0;34m\"10\"\u001b[0m\u001b[0;34m\u001b[0m\u001b[0;34m\u001b[0m\u001b[0m\n\u001b[0;32m----> 5\u001b[0;31m \u001b[0mprint\u001b[0m\u001b[0;34m(\u001b[0m\u001b[0mvar1\u001b[0m \u001b[0;34m/\u001b[0m \u001b[0mvar2\u001b[0m \u001b[0;34m)\u001b[0m\u001b[0;34m\u001b[0m\u001b[0;34m\u001b[0m\u001b[0m\n\u001b[0m",
            "\u001b[0;31mTypeError\u001b[0m: unsupported operand type(s) for /: 'str' and 'str'"
          ]
        }
      ]
    },
    {
      "cell_type": "code",
      "source": [
        "# Division of two string values not possible\n",
        "\n",
        "var1 = \"alice\"\n",
        "var2 = \"ross\"\n",
        "print(var1 /  var2)"
      ],
      "metadata": {
        "colab": {
          "base_uri": "https://localhost:8080/",
          "height": 176
        },
        "id": "pPHEUM4cn1kz",
        "outputId": "3c8eaa50-a074-4988-cff4-f2f7a7417fdc"
      },
      "execution_count": null,
      "outputs": [
        {
          "output_type": "error",
          "ename": "TypeError",
          "evalue": "unsupported operand type(s) for /: 'str' and 'str'",
          "traceback": [
            "\u001b[0;31m---------------------------------------------------------------------------\u001b[0m",
            "\u001b[0;31mTypeError\u001b[0m                                 Traceback (most recent call last)",
            "\u001b[0;32m<ipython-input-75-c1e871e5b261>\u001b[0m in \u001b[0;36m<cell line: 5>\u001b[0;34m()\u001b[0m\n\u001b[1;32m      3\u001b[0m \u001b[0mvar1\u001b[0m \u001b[0;34m=\u001b[0m \u001b[0;34m\"alice\"\u001b[0m\u001b[0;34m\u001b[0m\u001b[0;34m\u001b[0m\u001b[0m\n\u001b[1;32m      4\u001b[0m \u001b[0mvar2\u001b[0m \u001b[0;34m=\u001b[0m \u001b[0;34m\"ross\"\u001b[0m\u001b[0;34m\u001b[0m\u001b[0;34m\u001b[0m\u001b[0m\n\u001b[0;32m----> 5\u001b[0;31m \u001b[0mprint\u001b[0m\u001b[0;34m(\u001b[0m\u001b[0mvar1\u001b[0m \u001b[0;34m/\u001b[0m  \u001b[0mvar2\u001b[0m\u001b[0;34m)\u001b[0m\u001b[0;34m\u001b[0m\u001b[0;34m\u001b[0m\u001b[0m\n\u001b[0m",
            "\u001b[0;31mTypeError\u001b[0m: unsupported operand type(s) for /: 'str' and 'str'"
          ]
        }
      ]
    },
    {
      "cell_type": "code",
      "source": [],
      "metadata": {
        "id": "EWiIw4rMn3Bc"
      },
      "execution_count": null,
      "outputs": []
    },
    {
      "cell_type": "code",
      "source": [
        "# Floor Division of two string values not possible\n",
        "\n",
        "var1 = \"10\"\n",
        "var2 = \"10\"\n",
        "print(var1 // var2 )"
      ],
      "metadata": {
        "colab": {
          "base_uri": "https://localhost:8080/",
          "height": 176
        },
        "id": "e0Zmo_JRn4TD",
        "outputId": "f8232070-b4cc-41da-e0d4-0b133196a499"
      },
      "execution_count": null,
      "outputs": [
        {
          "output_type": "error",
          "ename": "TypeError",
          "evalue": "unsupported operand type(s) for //: 'str' and 'str'",
          "traceback": [
            "\u001b[0;31m---------------------------------------------------------------------------\u001b[0m",
            "\u001b[0;31mTypeError\u001b[0m                                 Traceback (most recent call last)",
            "\u001b[0;32m<ipython-input-76-0d4888a51964>\u001b[0m in \u001b[0;36m<cell line: 5>\u001b[0;34m()\u001b[0m\n\u001b[1;32m      3\u001b[0m \u001b[0mvar1\u001b[0m \u001b[0;34m=\u001b[0m \u001b[0;34m\"10\"\u001b[0m\u001b[0;34m\u001b[0m\u001b[0;34m\u001b[0m\u001b[0m\n\u001b[1;32m      4\u001b[0m \u001b[0mvar2\u001b[0m \u001b[0;34m=\u001b[0m \u001b[0;34m\"10\"\u001b[0m\u001b[0;34m\u001b[0m\u001b[0;34m\u001b[0m\u001b[0m\n\u001b[0;32m----> 5\u001b[0;31m \u001b[0mprint\u001b[0m\u001b[0;34m(\u001b[0m\u001b[0mvar1\u001b[0m \u001b[0;34m//\u001b[0m \u001b[0mvar2\u001b[0m \u001b[0;34m)\u001b[0m\u001b[0;34m\u001b[0m\u001b[0;34m\u001b[0m\u001b[0m\n\u001b[0m",
            "\u001b[0;31mTypeError\u001b[0m: unsupported operand type(s) for //: 'str' and 'str'"
          ]
        }
      ]
    },
    {
      "cell_type": "code",
      "source": [],
      "metadata": {
        "id": "QFFHwUhmn42a"
      },
      "execution_count": null,
      "outputs": []
    },
    {
      "cell_type": "markdown",
      "source": [
        "## If one value is a string and the other is an integer, only multiplication is allowed."
      ],
      "metadata": {
        "id": "5pvC18B-n-gg"
      }
    },
    {
      "cell_type": "code",
      "source": [
        "# Only Multiplication of one integer value and one string value is possible\n",
        "\n",
        "var1 = 9\n",
        "var2 = \"10\"\n",
        "print(var1 * var2)"
      ],
      "metadata": {
        "colab": {
          "base_uri": "https://localhost:8080/"
        },
        "id": "c36JwBQ3oAVV",
        "outputId": "23acd28b-b6f5-4f69-dc01-1538e8b12a40"
      },
      "execution_count": null,
      "outputs": [
        {
          "output_type": "stream",
          "name": "stdout",
          "text": [
            "101010101010101010\n"
          ]
        }
      ]
    },
    {
      "cell_type": "code",
      "source": [
        "# Only Multiplication of one integer value and one string value is possible\n",
        "\n",
        "var1 = 9\n",
        "var2 = \"Ross\"\n",
        "print(var1 * var2)"
      ],
      "metadata": {
        "colab": {
          "base_uri": "https://localhost:8080/"
        },
        "id": "hQh5m-cfoA2S",
        "outputId": "a1310f1a-054a-49c3-f6ed-a7eaf6da695d"
      },
      "execution_count": null,
      "outputs": [
        {
          "output_type": "stream",
          "name": "stdout",
          "text": [
            "RossRossRossRossRossRossRossRossRoss\n"
          ]
        }
      ]
    },
    {
      "cell_type": "code",
      "source": [],
      "metadata": {
        "id": "ubnl0BogoCB-"
      },
      "execution_count": null,
      "outputs": []
    },
    {
      "cell_type": "code",
      "source": [
        "# Addition of one integer value and one string value is not possible\n",
        "\n",
        "cookie = 9\n",
        "knight = \"10\"\n",
        "print(cookie + knight)"
      ],
      "metadata": {
        "colab": {
          "base_uri": "https://localhost:8080/",
          "height": 176
        },
        "id": "TipHGS_KoDTu",
        "outputId": "335654bc-c9f9-4da7-bed9-30d1685ccdc3"
      },
      "execution_count": null,
      "outputs": [
        {
          "output_type": "error",
          "ename": "TypeError",
          "evalue": "unsupported operand type(s) for +: 'int' and 'str'",
          "traceback": [
            "\u001b[0;31m---------------------------------------------------------------------------\u001b[0m",
            "\u001b[0;31mTypeError\u001b[0m                                 Traceback (most recent call last)",
            "\u001b[0;32m<ipython-input-79-f4833813e00e>\u001b[0m in \u001b[0;36m<cell line: 5>\u001b[0;34m()\u001b[0m\n\u001b[1;32m      3\u001b[0m \u001b[0mcookie\u001b[0m \u001b[0;34m=\u001b[0m \u001b[0;36m9\u001b[0m\u001b[0;34m\u001b[0m\u001b[0;34m\u001b[0m\u001b[0m\n\u001b[1;32m      4\u001b[0m \u001b[0mknight\u001b[0m \u001b[0;34m=\u001b[0m \u001b[0;34m\"10\"\u001b[0m\u001b[0;34m\u001b[0m\u001b[0;34m\u001b[0m\u001b[0m\n\u001b[0;32m----> 5\u001b[0;31m \u001b[0mprint\u001b[0m\u001b[0;34m(\u001b[0m\u001b[0mcookie\u001b[0m \u001b[0;34m+\u001b[0m \u001b[0mknight\u001b[0m\u001b[0;34m)\u001b[0m\u001b[0;34m\u001b[0m\u001b[0;34m\u001b[0m\u001b[0m\n\u001b[0m",
            "\u001b[0;31mTypeError\u001b[0m: unsupported operand type(s) for +: 'int' and 'str'"
          ]
        }
      ]
    },
    {
      "cell_type": "code",
      "source": [
        "# Addition of one float value and one string value is not possible\n",
        "\n",
        "cookie = 9.0\n",
        "knight = \"10\"\n",
        "print(cookie + knight)"
      ],
      "metadata": {
        "colab": {
          "base_uri": "https://localhost:8080/",
          "height": 176
        },
        "id": "DZFUXXSvoD6X",
        "outputId": "c6684618-b36e-4209-a0c2-906903a71b9c"
      },
      "execution_count": null,
      "outputs": [
        {
          "output_type": "error",
          "ename": "TypeError",
          "evalue": "unsupported operand type(s) for +: 'float' and 'str'",
          "traceback": [
            "\u001b[0;31m---------------------------------------------------------------------------\u001b[0m",
            "\u001b[0;31mTypeError\u001b[0m                                 Traceback (most recent call last)",
            "\u001b[0;32m<ipython-input-80-51ea1fea75c6>\u001b[0m in \u001b[0;36m<cell line: 5>\u001b[0;34m()\u001b[0m\n\u001b[1;32m      3\u001b[0m \u001b[0mcookie\u001b[0m \u001b[0;34m=\u001b[0m \u001b[0;36m9.0\u001b[0m\u001b[0;34m\u001b[0m\u001b[0;34m\u001b[0m\u001b[0m\n\u001b[1;32m      4\u001b[0m \u001b[0mknight\u001b[0m \u001b[0;34m=\u001b[0m \u001b[0;34m\"10\"\u001b[0m\u001b[0;34m\u001b[0m\u001b[0;34m\u001b[0m\u001b[0m\n\u001b[0;32m----> 5\u001b[0;31m \u001b[0mprint\u001b[0m\u001b[0;34m(\u001b[0m\u001b[0mcookie\u001b[0m \u001b[0;34m+\u001b[0m \u001b[0mknight\u001b[0m\u001b[0;34m)\u001b[0m\u001b[0;34m\u001b[0m\u001b[0;34m\u001b[0m\u001b[0m\n\u001b[0m",
            "\u001b[0;31mTypeError\u001b[0m: unsupported operand type(s) for +: 'float' and 'str'"
          ]
        }
      ]
    },
    {
      "cell_type": "code",
      "source": [
        "# Subtraction of one integer value and one string value is not possible\n",
        "\n",
        "var1 = 9\n",
        "var2 = \"10\"\n",
        "print(var1 - var2)"
      ],
      "metadata": {
        "colab": {
          "base_uri": "https://localhost:8080/",
          "height": 176
        },
        "id": "8fRXgM2doFcm",
        "outputId": "97c21736-f154-4be9-f828-dc27d2888496"
      },
      "execution_count": null,
      "outputs": [
        {
          "output_type": "error",
          "ename": "TypeError",
          "evalue": "unsupported operand type(s) for -: 'int' and 'str'",
          "traceback": [
            "\u001b[0;31m---------------------------------------------------------------------------\u001b[0m",
            "\u001b[0;31mTypeError\u001b[0m                                 Traceback (most recent call last)",
            "\u001b[0;32m<ipython-input-81-ba27b80b1b7c>\u001b[0m in \u001b[0;36m<cell line: 5>\u001b[0;34m()\u001b[0m\n\u001b[1;32m      3\u001b[0m \u001b[0mvar1\u001b[0m \u001b[0;34m=\u001b[0m \u001b[0;36m9\u001b[0m\u001b[0;34m\u001b[0m\u001b[0;34m\u001b[0m\u001b[0m\n\u001b[1;32m      4\u001b[0m \u001b[0mvar2\u001b[0m \u001b[0;34m=\u001b[0m \u001b[0;34m\"10\"\u001b[0m\u001b[0;34m\u001b[0m\u001b[0;34m\u001b[0m\u001b[0m\n\u001b[0;32m----> 5\u001b[0;31m \u001b[0mprint\u001b[0m\u001b[0;34m(\u001b[0m\u001b[0mvar1\u001b[0m \u001b[0;34m-\u001b[0m \u001b[0mvar2\u001b[0m\u001b[0;34m)\u001b[0m\u001b[0;34m\u001b[0m\u001b[0;34m\u001b[0m\u001b[0m\n\u001b[0m",
            "\u001b[0;31mTypeError\u001b[0m: unsupported operand type(s) for -: 'int' and 'str'"
          ]
        }
      ]
    },
    {
      "cell_type": "code",
      "source": [
        "# Subtraction of one float value and one string value is not possible\n",
        "\n",
        "var1 = 9.6\n",
        "var2 = \"10\"\n",
        "print(var1 - var2)"
      ],
      "metadata": {
        "colab": {
          "base_uri": "https://localhost:8080/",
          "height": 176
        },
        "id": "F79HX7o7oHD9",
        "outputId": "454b7026-80d3-4d44-a0e3-d9c1ba7552ae"
      },
      "execution_count": null,
      "outputs": [
        {
          "output_type": "error",
          "ename": "TypeError",
          "evalue": "unsupported operand type(s) for -: 'float' and 'str'",
          "traceback": [
            "\u001b[0;31m---------------------------------------------------------------------------\u001b[0m",
            "\u001b[0;31mTypeError\u001b[0m                                 Traceback (most recent call last)",
            "\u001b[0;32m<ipython-input-82-c78bb70f1ba8>\u001b[0m in \u001b[0;36m<cell line: 5>\u001b[0;34m()\u001b[0m\n\u001b[1;32m      3\u001b[0m \u001b[0mvar1\u001b[0m \u001b[0;34m=\u001b[0m \u001b[0;36m9.6\u001b[0m\u001b[0;34m\u001b[0m\u001b[0;34m\u001b[0m\u001b[0m\n\u001b[1;32m      4\u001b[0m \u001b[0mvar2\u001b[0m \u001b[0;34m=\u001b[0m \u001b[0;34m\"10\"\u001b[0m\u001b[0;34m\u001b[0m\u001b[0;34m\u001b[0m\u001b[0m\n\u001b[0;32m----> 5\u001b[0;31m \u001b[0mprint\u001b[0m\u001b[0;34m(\u001b[0m\u001b[0mvar1\u001b[0m \u001b[0;34m-\u001b[0m \u001b[0mvar2\u001b[0m\u001b[0;34m)\u001b[0m\u001b[0;34m\u001b[0m\u001b[0;34m\u001b[0m\u001b[0m\n\u001b[0m",
            "\u001b[0;31mTypeError\u001b[0m: unsupported operand type(s) for -: 'float' and 'str'"
          ]
        }
      ]
    },
    {
      "cell_type": "code",
      "source": [],
      "metadata": {
        "id": "c4JD2XtRoIXQ"
      },
      "execution_count": null,
      "outputs": []
    },
    {
      "cell_type": "code",
      "source": [
        "# Multiplication of two string values not possible\n",
        "\n",
        "var1 = \"Alice\"\n",
        "var2 = \"Ross\"\n",
        "print(var1 * var2 )"
      ],
      "metadata": {
        "colab": {
          "base_uri": "https://localhost:8080/",
          "height": 176
        },
        "id": "iwDpO1-qoJm6",
        "outputId": "7d00d828-e008-483f-d884-2c2f313c85db"
      },
      "execution_count": null,
      "outputs": [
        {
          "output_type": "error",
          "ename": "TypeError",
          "evalue": "can't multiply sequence by non-int of type 'str'",
          "traceback": [
            "\u001b[0;31m---------------------------------------------------------------------------\u001b[0m",
            "\u001b[0;31mTypeError\u001b[0m                                 Traceback (most recent call last)",
            "\u001b[0;32m<ipython-input-84-59419a587f00>\u001b[0m in \u001b[0;36m<cell line: 5>\u001b[0;34m()\u001b[0m\n\u001b[1;32m      3\u001b[0m \u001b[0mvar1\u001b[0m \u001b[0;34m=\u001b[0m \u001b[0;34m\"Alice\"\u001b[0m\u001b[0;34m\u001b[0m\u001b[0;34m\u001b[0m\u001b[0m\n\u001b[1;32m      4\u001b[0m \u001b[0mvar2\u001b[0m \u001b[0;34m=\u001b[0m \u001b[0;34m\"Ross\"\u001b[0m\u001b[0;34m\u001b[0m\u001b[0;34m\u001b[0m\u001b[0m\n\u001b[0;32m----> 5\u001b[0;31m \u001b[0mprint\u001b[0m\u001b[0;34m(\u001b[0m\u001b[0mvar1\u001b[0m \u001b[0;34m*\u001b[0m \u001b[0mvar2\u001b[0m \u001b[0;34m)\u001b[0m\u001b[0;34m\u001b[0m\u001b[0;34m\u001b[0m\u001b[0m\n\u001b[0m",
            "\u001b[0;31mTypeError\u001b[0m: can't multiply sequence by non-int of type 'str'"
          ]
        }
      ]
    },
    {
      "cell_type": "code",
      "source": [],
      "metadata": {
        "id": "Aq_jz6fNoKAf"
      },
      "execution_count": null,
      "outputs": []
    },
    {
      "cell_type": "code",
      "source": [
        "# Division of one integer value and one string value is not possible\n",
        "\n",
        "var1 = 9\n",
        "var2 = \"10\"\n",
        "print(var1 / var2)"
      ],
      "metadata": {
        "colab": {
          "base_uri": "https://localhost:8080/",
          "height": 176
        },
        "id": "S6szBUaCoLp6",
        "outputId": "f8c9c3c3-5918-430d-f685-3b704621e767"
      },
      "execution_count": null,
      "outputs": [
        {
          "output_type": "error",
          "ename": "TypeError",
          "evalue": "unsupported operand type(s) for /: 'int' and 'str'",
          "traceback": [
            "\u001b[0;31m---------------------------------------------------------------------------\u001b[0m",
            "\u001b[0;31mTypeError\u001b[0m                                 Traceback (most recent call last)",
            "\u001b[0;32m<ipython-input-85-ca937a1771f7>\u001b[0m in \u001b[0;36m<cell line: 5>\u001b[0;34m()\u001b[0m\n\u001b[1;32m      3\u001b[0m \u001b[0mvar1\u001b[0m \u001b[0;34m=\u001b[0m \u001b[0;36m9\u001b[0m\u001b[0;34m\u001b[0m\u001b[0;34m\u001b[0m\u001b[0m\n\u001b[1;32m      4\u001b[0m \u001b[0mvar2\u001b[0m \u001b[0;34m=\u001b[0m \u001b[0;34m\"10\"\u001b[0m\u001b[0;34m\u001b[0m\u001b[0;34m\u001b[0m\u001b[0m\n\u001b[0;32m----> 5\u001b[0;31m \u001b[0mprint\u001b[0m\u001b[0;34m(\u001b[0m\u001b[0mvar1\u001b[0m \u001b[0;34m/\u001b[0m \u001b[0mvar2\u001b[0m\u001b[0;34m)\u001b[0m\u001b[0;34m\u001b[0m\u001b[0;34m\u001b[0m\u001b[0m\n\u001b[0m",
            "\u001b[0;31mTypeError\u001b[0m: unsupported operand type(s) for /: 'int' and 'str'"
          ]
        }
      ]
    },
    {
      "cell_type": "code",
      "source": [
        "# Division of one float value and one string value is not possible\n",
        "\n",
        "var1 = 9.6\n",
        "var2 = \"10\"\n",
        "print(var1 / var2)"
      ],
      "metadata": {
        "colab": {
          "base_uri": "https://localhost:8080/",
          "height": 176
        },
        "id": "9hV-9LeFoMBZ",
        "outputId": "2c1c9885-81a7-408d-ace2-aab35b63d705"
      },
      "execution_count": null,
      "outputs": [
        {
          "output_type": "error",
          "ename": "TypeError",
          "evalue": "unsupported operand type(s) for /: 'float' and 'str'",
          "traceback": [
            "\u001b[0;31m---------------------------------------------------------------------------\u001b[0m",
            "\u001b[0;31mTypeError\u001b[0m                                 Traceback (most recent call last)",
            "\u001b[0;32m<ipython-input-86-be47632e4fde>\u001b[0m in \u001b[0;36m<cell line: 5>\u001b[0;34m()\u001b[0m\n\u001b[1;32m      3\u001b[0m \u001b[0mvar1\u001b[0m \u001b[0;34m=\u001b[0m \u001b[0;36m9.6\u001b[0m\u001b[0;34m\u001b[0m\u001b[0;34m\u001b[0m\u001b[0m\n\u001b[1;32m      4\u001b[0m \u001b[0mvar2\u001b[0m \u001b[0;34m=\u001b[0m \u001b[0;34m\"10\"\u001b[0m\u001b[0;34m\u001b[0m\u001b[0;34m\u001b[0m\u001b[0m\n\u001b[0;32m----> 5\u001b[0;31m \u001b[0mprint\u001b[0m\u001b[0;34m(\u001b[0m\u001b[0mvar1\u001b[0m \u001b[0;34m/\u001b[0m \u001b[0mvar2\u001b[0m\u001b[0;34m)\u001b[0m\u001b[0;34m\u001b[0m\u001b[0;34m\u001b[0m\u001b[0m\n\u001b[0m",
            "\u001b[0;31mTypeError\u001b[0m: unsupported operand type(s) for /: 'float' and 'str'"
          ]
        }
      ]
    },
    {
      "cell_type": "code",
      "source": [],
      "metadata": {
        "id": "tUSgciOFoOLk"
      },
      "execution_count": null,
      "outputs": []
    },
    {
      "cell_type": "markdown",
      "source": [
        "## If one value is a float and the other is an integer, addition, multiplication, subtraction, and division are allowed."
      ],
      "metadata": {
        "id": "jIMNUeRboPqy"
      }
    },
    {
      "cell_type": "code",
      "source": [
        "# Addition of one integer value and one integer value is possible\n",
        "\n",
        "cookie = 9\n",
        "ross = 10.2\n",
        "print(cookie + ross)"
      ],
      "metadata": {
        "colab": {
          "base_uri": "https://localhost:8080/"
        },
        "id": "86TQDFQIoRvs",
        "outputId": "74fade26-adec-473e-d840-c377931bf339"
      },
      "execution_count": null,
      "outputs": [
        {
          "output_type": "stream",
          "name": "stdout",
          "text": [
            "19.2\n"
          ]
        }
      ]
    },
    {
      "cell_type": "code",
      "source": [
        "# Subtraction of one integer value and one integer value is possible\n",
        "\n",
        "cookie = 9\n",
        "bob = 1.2\n",
        "print(cookie - bob)"
      ],
      "metadata": {
        "colab": {
          "base_uri": "https://localhost:8080/"
        },
        "id": "j6N1pDyOoSJD",
        "outputId": "63284760-a06a-4746-d690-14afcd04d92e"
      },
      "execution_count": null,
      "outputs": [
        {
          "output_type": "stream",
          "name": "stdout",
          "text": [
            "7.8\n"
          ]
        }
      ]
    },
    {
      "cell_type": "code",
      "source": [
        "# Multiplication of one integer value and one integer value is possible\n",
        "\n",
        "var1 = 9\n",
        "var2 = 1.2\n",
        "print(var1 * var2)"
      ],
      "metadata": {
        "colab": {
          "base_uri": "https://localhost:8080/"
        },
        "id": "9m0PMnQxoTte",
        "outputId": "da1c4bf1-61dd-4dba-9f39-98391b6e6763"
      },
      "execution_count": null,
      "outputs": [
        {
          "output_type": "stream",
          "name": "stdout",
          "text": [
            "10.799999999999999\n"
          ]
        }
      ]
    },
    {
      "cell_type": "code",
      "source": [
        "# Division of one integer value and one integer value is possible\n",
        "\n",
        "var1 = 9\n",
        "var2 = 10.2\n",
        "print(var1 / var2)"
      ],
      "metadata": {
        "colab": {
          "base_uri": "https://localhost:8080/"
        },
        "id": "6gEbpAN4oVUe",
        "outputId": "fdde9baa-ca52-4731-a962-2578008af771"
      },
      "execution_count": null,
      "outputs": [
        {
          "output_type": "stream",
          "name": "stdout",
          "text": [
            "0.8823529411764707\n"
          ]
        }
      ]
    },
    {
      "cell_type": "code",
      "source": [
        "# Floored division of one integer value and one integer value is possible\n",
        "\n",
        "var1 = 90\n",
        "var2 = 2.0\n",
        "print(var1 // var2)"
      ],
      "metadata": {
        "colab": {
          "base_uri": "https://localhost:8080/"
        },
        "id": "3ztp-HxuoWrm",
        "outputId": "4f6a0037-b6bb-4d2a-8282-733548044f94"
      },
      "execution_count": null,
      "outputs": [
        {
          "output_type": "stream",
          "name": "stdout",
          "text": [
            "45.0\n"
          ]
        }
      ]
    },
    {
      "cell_type": "code",
      "source": [],
      "metadata": {
        "id": "woOBsoAQoYMQ"
      },
      "execution_count": null,
      "outputs": []
    },
    {
      "cell_type": "markdown",
      "source": [
        "## If one value is a float and the other is a string, no operations are allowed"
      ],
      "metadata": {
        "id": "jm97jPksoZro"
      }
    },
    {
      "cell_type": "code",
      "source": [
        "# Only Multiplication of one float value and one string value is possible\n",
        "\n",
        "var1 = 9.5\n",
        "var2 = \"10\"\n",
        "print(var1 * var2)"
      ],
      "metadata": {
        "colab": {
          "base_uri": "https://localhost:8080/",
          "height": 176
        },
        "id": "KjkBDYb0obGh",
        "outputId": "fb47a760-5460-4c98-ca05-505877f6d021"
      },
      "execution_count": null,
      "outputs": [
        {
          "output_type": "error",
          "ename": "TypeError",
          "evalue": "can't multiply sequence by non-int of type 'float'",
          "traceback": [
            "\u001b[0;31m---------------------------------------------------------------------------\u001b[0m",
            "\u001b[0;31mTypeError\u001b[0m                                 Traceback (most recent call last)",
            "\u001b[0;32m<ipython-input-93-089862c3066f>\u001b[0m in \u001b[0;36m<cell line: 5>\u001b[0;34m()\u001b[0m\n\u001b[1;32m      3\u001b[0m \u001b[0mvar1\u001b[0m \u001b[0;34m=\u001b[0m \u001b[0;36m9.5\u001b[0m\u001b[0;34m\u001b[0m\u001b[0;34m\u001b[0m\u001b[0m\n\u001b[1;32m      4\u001b[0m \u001b[0mvar2\u001b[0m \u001b[0;34m=\u001b[0m \u001b[0;34m\"10\"\u001b[0m\u001b[0;34m\u001b[0m\u001b[0;34m\u001b[0m\u001b[0m\n\u001b[0;32m----> 5\u001b[0;31m \u001b[0mprint\u001b[0m\u001b[0;34m(\u001b[0m\u001b[0mvar1\u001b[0m \u001b[0;34m*\u001b[0m \u001b[0mvar2\u001b[0m\u001b[0;34m)\u001b[0m\u001b[0;34m\u001b[0m\u001b[0;34m\u001b[0m\u001b[0m\n\u001b[0m",
            "\u001b[0;31mTypeError\u001b[0m: can't multiply sequence by non-int of type 'float'"
          ]
        }
      ]
    },
    {
      "cell_type": "code",
      "source": [],
      "metadata": {
        "id": "tGiXtMFcobkB"
      },
      "execution_count": null,
      "outputs": []
    },
    {
      "cell_type": "markdown",
      "source": [
        "## Tricky Questions - 👇"
      ],
      "metadata": {
        "id": "g5ABH-hiodOQ"
      }
    },
    {
      "cell_type": "code",
      "source": [
        "# Multiplication of one int value with str value\n",
        "\n",
        "Num = 5\n",
        "print(str(Num) * 5)"
      ],
      "metadata": {
        "colab": {
          "base_uri": "https://localhost:8080/"
        },
        "id": "25lli9VJoegI",
        "outputId": "b2a43a28-a066-4866-9c30-a99e417f863b"
      },
      "execution_count": null,
      "outputs": [
        {
          "output_type": "stream",
          "name": "stdout",
          "text": [
            "55555\n"
          ]
        }
      ]
    },
    {
      "cell_type": "code",
      "source": [
        "num = int(input())\n",
        "print((str(num) + \" \") * num)"
      ],
      "metadata": {
        "colab": {
          "base_uri": "https://localhost:8080/"
        },
        "id": "4A8RENq6oe_A",
        "outputId": "67e7ada8-ba6f-4a00-8a7c-172337a5e5f5"
      },
      "execution_count": null,
      "outputs": [
        {
          "output_type": "stream",
          "name": "stdout",
          "text": [
            "5\n",
            "5 5 5 5 5 \n"
          ]
        }
      ]
    },
    {
      "cell_type": "code",
      "source": [
        "num = int(input())\n",
        "print((str(num) + \"\\n\") * num)"
      ],
      "metadata": {
        "colab": {
          "base_uri": "https://localhost:8080/"
        },
        "id": "xqm6oomcoggU",
        "outputId": "a14944dd-07f0-4b88-a765-b0d0f87e6a07"
      },
      "execution_count": null,
      "outputs": [
        {
          "output_type": "stream",
          "name": "stdout",
          "text": [
            "4\n",
            "4\n",
            "4\n",
            "4\n",
            "4\n",
            "\n"
          ]
        }
      ]
    },
    {
      "cell_type": "code",
      "source": [
        "num = int(input())\n",
        "print((str(num) + \",\") * num)"
      ],
      "metadata": {
        "colab": {
          "base_uri": "https://localhost:8080/"
        },
        "id": "XWg8V-VxojV9",
        "outputId": "3e1edaf2-4e3e-46ed-d786-e76241d4191a"
      },
      "execution_count": null,
      "outputs": [
        {
          "output_type": "stream",
          "name": "stdout",
          "text": [
            "5\n",
            "5,5,5,5,5,\n"
          ]
        }
      ]
    },
    {
      "cell_type": "code",
      "source": [
        "# Tricky Question - Remove the comma (,) from last\n",
        "\n",
        "Num = int(input())\n",
        "print((str(Num) + \",\") * (Num - 1) + str(Num))"
      ],
      "metadata": {
        "colab": {
          "base_uri": "https://localhost:8080/"
        },
        "id": "poTipUqLol8h",
        "outputId": "e4d9c0bb-ba20-4dd3-8436-31b1e3e44f35"
      },
      "execution_count": null,
      "outputs": [
        {
          "output_type": "stream",
          "name": "stdout",
          "text": [
            "5\n",
            "5,5,5,5,5\n"
          ]
        }
      ]
    },
    {
      "cell_type": "code",
      "source": [],
      "metadata": {
        "id": "ytlVKiweooEq"
      },
      "execution_count": null,
      "outputs": []
    }
  ]
}