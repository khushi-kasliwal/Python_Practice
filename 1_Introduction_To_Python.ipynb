{
  "nbformat": 4,
  "nbformat_minor": 0,
  "metadata": {
    "colab": {
      "provenance": []
    },
    "kernelspec": {
      "name": "python3",
      "display_name": "Python 3"
    },
    "language_info": {
      "name": "python"
    }
  },
  "cells": [
    {
      "cell_type": "code",
      "source": [],
      "metadata": {
        "id": "SOmlBWm9X_4s"
      },
      "execution_count": null,
      "outputs": []
    },
    {
      "cell_type": "code",
      "source": [],
      "metadata": {
        "id": "VD3iR-gXYBAx"
      },
      "execution_count": null,
      "outputs": []
    },
    {
      "cell_type": "markdown",
      "source": [
        "# What do we need language ?\n",
        "Language is one of the most important parts of any culture. It is the way by which people communicate with one another, build relationships, and create a sense of community"
      ],
      "metadata": {
        "id": "QItQhW4Yfupl"
      }
    },
    {
      "cell_type": "code",
      "source": [],
      "metadata": {
        "id": "dfj2PVdJYBx7"
      },
      "execution_count": null,
      "outputs": []
    },
    {
      "cell_type": "markdown",
      "source": [
        "#What is a Typed language ?\n",
        "Typed languages can be classified into two categories -\n",
        "\n",
        "1) Statically typed languages\n",
        "\n",
        "2) Dynamically typed languages"
      ],
      "metadata": {
        "id": "btzDg1-4fzw8"
      }
    },
    {
      "cell_type": "code",
      "source": [],
      "metadata": {
        "id": "WfRBH47jYCio"
      },
      "execution_count": null,
      "outputs": []
    },
    {
      "cell_type": "markdown",
      "source": [
        "#1. Statically typed languages -\n",
        "Statically typed languages are the languages like C, C++, Java, etc, In this type of language the **data type** of a **variable is known** at the **compile time** which means the programmer has to **specify** the **data type** of a variable at the **time** of its **declaration**. We have to pre-define the return type of function as well as the type of variable it is taking or accepting for further evaluations"
      ],
      "metadata": {
        "id": "T8m0eVI1f1LT"
      }
    },
    {
      "cell_type": "code",
      "execution_count": null,
      "metadata": {
        "id": "aXS5IbmFXmMA"
      },
      "outputs": [],
      "source": [
        "# str tom = \"Data\"\n",
        "# int jerry = 20\n",
        "# float alice = 32.0"
      ]
    },
    {
      "cell_type": "code",
      "source": [],
      "metadata": {
        "id": "DoTnYCI_YDrp"
      },
      "execution_count": null,
      "outputs": []
    },
    {
      "cell_type": "markdown",
      "source": [
        "#2. Dynamically typed languages -\n",
        "These are the languages that **do not require** any **pre-defined data type** for any variable as it is **interpreted** at **runtime** by the machine itself. In these languages, interpreters assign the data type to a variable at runtime depending on its value. We don’t even need to specify the type of variable that a function is returning or accepting in these languages. JavaScript, Python, Ruby, Perl, etc are examples of dynamically typed languages"
      ],
      "metadata": {
        "id": "YBAPzNlGf-PQ"
      }
    },
    {
      "cell_type": "code",
      "source": [
        "analyst = 52.0"
      ],
      "metadata": {
        "id": "0xpkpJWpf8C0"
      },
      "execution_count": null,
      "outputs": []
    },
    {
      "cell_type": "code",
      "source": [
        "cookie = 10"
      ],
      "metadata": {
        "id": "dM_CpPLo0cyA"
      },
      "execution_count": null,
      "outputs": []
    },
    {
      "cell_type": "code",
      "source": [
        "knight = \"data king\""
      ],
      "metadata": {
        "id": "JiqR90r-gCju"
      },
      "execution_count": null,
      "outputs": []
    },
    {
      "cell_type": "code",
      "source": [],
      "metadata": {
        "id": "L4IGuPvpgG8U"
      },
      "execution_count": null,
      "outputs": []
    },
    {
      "cell_type": "markdown",
      "source": [
        "#What is Python?\n",
        "Python is a high-level, general-purpose, and very popular programming language. Python programming language (latest Python 3.12.4) is being used in web development, and Machine Learning applications, along with all cutting-edge technology in Software Industry. Python language is being used by almost all tech-giant companies like – Google, Amazon, Facebook, Instagram, Dropbox, Uber… etc."
      ],
      "metadata": {
        "id": "eRTi0rkJgGax"
      }
    },
    {
      "cell_type": "code",
      "source": [],
      "metadata": {
        "id": "4oQlJsBAYF9x"
      },
      "execution_count": null,
      "outputs": []
    },
    {
      "cell_type": "code",
      "source": [
        "# Python + C = Cython"
      ],
      "metadata": {
        "id": "1CNbgmi6gEYu"
      },
      "execution_count": null,
      "outputs": []
    },
    {
      "cell_type": "code",
      "source": [],
      "metadata": {
        "id": "UpH6PgB9YG19"
      },
      "execution_count": null,
      "outputs": []
    },
    {
      "cell_type": "markdown",
      "source": [
        "#Python Feature\n",
        "Simple and Easy to Learn\n",
        "\n",
        "Interpreted\n",
        "\n",
        "High-Level\n",
        "\n",
        "Dynamic Typing\n",
        "\n",
        "Strong Typing - Case sensitive\n",
        "\n",
        "Extensive Standard Library\n",
        "\n",
        "Cross-Platform - Type of applications/software/program that works on various operating systems or devices.\n",
        "\n",
        "Community and Ecosystem :\n",
        "\n",
        "* Community - Python community is large,active and supportive & provides forums,tutorials & documentation, making it easier for developers to learn & use python.\n",
        "\n",
        "* Ecosystem - It is network of interconnected libraries,framework & applications is a technology with the latest features and capabilities.\n",
        "\n",
        "Versatile - To adjust in new conditions"
      ],
      "metadata": {
        "id": "6k-d9sHEgKnT"
      }
    },
    {
      "cell_type": "code",
      "source": [],
      "metadata": {
        "id": "22bYOxyJgKNU"
      },
      "execution_count": null,
      "outputs": []
    },
    {
      "cell_type": "markdown",
      "source": [
        " # 1.INTRODUCTION TO PYTHON"
      ],
      "metadata": {
        "id": "DNB8kV1NgRUs"
      }
    },
    {
      "cell_type": "markdown",
      "source": [
        "1) Python is server side language in web development.\n",
        "\n",
        "2) print() has capability to accept special information.\n",
        "When you want to change the line then empty print function is used [print()].\n",
        "\n",
        "3) Comment start with a '#' . Python ignores them.\n",
        "\n",
        "4) Python is a case sensitive programming language.\n",
        "\n",
        "5) Python is Dynamic Typed language and Interpreter Language(line by line working).\n"
      ],
      "metadata": {
        "id": "HCTGwnDLgQWd"
      }
    },
    {
      "cell_type": "code",
      "source": [],
      "metadata": {
        "id": "-AaNkOrUgKAV"
      },
      "execution_count": null,
      "outputs": []
    },
    {
      "cell_type": "code",
      "source": [
        "# Printing something on screen\n",
        "\n",
        "print(\"Python is amazing programming language !\")"
      ],
      "metadata": {
        "colab": {
          "base_uri": "https://localhost:8080/"
        },
        "id": "fAPW98tagWX0",
        "outputId": "c89e5bec-536f-4951-8272-2fc6eab5debe"
      },
      "execution_count": null,
      "outputs": [
        {
          "output_type": "stream",
          "name": "stdout",
          "text": [
            "Python is amazing programming language !\n"
          ]
        }
      ]
    },
    {
      "cell_type": "code",
      "source": [
        "# Double Quote\n",
        "\n",
        "print(\"Hello Women In Data\")"
      ],
      "metadata": {
        "colab": {
          "base_uri": "https://localhost:8080/"
        },
        "id": "aKZFX1IdgX5h",
        "outputId": "b4db47ff-459a-4cd6-88c7-8c274b707759"
      },
      "execution_count": null,
      "outputs": [
        {
          "output_type": "stream",
          "name": "stdout",
          "text": [
            "Hello Women In Data\n"
          ]
        }
      ]
    },
    {
      "cell_type": "code",
      "source": [
        "# Single Quote\n",
        "\n",
        "print('Hello Logic Queens !')"
      ],
      "metadata": {
        "colab": {
          "base_uri": "https://localhost:8080/"
        },
        "id": "16kUeMyngZGh",
        "outputId": "573ad15f-bc71-440f-f8bd-62d9078fdce3"
      },
      "execution_count": null,
      "outputs": [
        {
          "output_type": "stream",
          "name": "stdout",
          "text": [
            "Hello Logic Queens !\n"
          ]
        }
      ]
    },
    {
      "cell_type": "code",
      "source": [
        "# Double quote and single quote can not be used simultaneously\n",
        "\n",
        "print(\"Hello World !')"
      ],
      "metadata": {
        "colab": {
          "base_uri": "https://localhost:8080/",
          "height": 106
        },
        "id": "pDMywW1IgaZi",
        "outputId": "60146dd3-217c-4169-b635-eb185cf60e99"
      },
      "execution_count": null,
      "outputs": [
        {
          "output_type": "error",
          "ename": "SyntaxError",
          "evalue": "unterminated string literal (detected at line 3) (<ipython-input-6-615a37d83a66>, line 3)",
          "traceback": [
            "\u001b[0;36m  File \u001b[0;32m\"<ipython-input-6-615a37d83a66>\"\u001b[0;36m, line \u001b[0;32m3\u001b[0m\n\u001b[0;31m    print(\"Hello World !')\u001b[0m\n\u001b[0m          ^\u001b[0m\n\u001b[0;31mSyntaxError\u001b[0m\u001b[0;31m:\u001b[0m unterminated string literal (detected at line 3)\n"
          ]
        }
      ]
    },
    {
      "cell_type": "code",
      "source": [
        "# Docx string (Triple quotes)\n",
        "\n",
        "print('''Hello Women In Data''')"
      ],
      "metadata": {
        "colab": {
          "base_uri": "https://localhost:8080/"
        },
        "id": "X_cSqCH5gczc",
        "outputId": "3626e1fb-d611-44c7-9004-fc905a8178cb"
      },
      "execution_count": null,
      "outputs": [
        {
          "output_type": "stream",
          "name": "stdout",
          "text": [
            "Hello Women In Data\n"
          ]
        }
      ]
    },
    {
      "cell_type": "code",
      "source": [
        "#Python is case sensitive language and here error is beacuse of capital P.\n",
        "\n",
        "Print(\"Python is case sensitive language !\")"
      ],
      "metadata": {
        "colab": {
          "base_uri": "https://localhost:8080/",
          "height": 176
        },
        "id": "YxrxU0JfgeGg",
        "outputId": "f131ef0d-0665-4e32-c198-d0339646902f"
      },
      "execution_count": null,
      "outputs": [
        {
          "output_type": "error",
          "ename": "NameError",
          "evalue": "name 'Print' is not defined",
          "traceback": [
            "\u001b[0;31m---------------------------------------------------------------------------\u001b[0m",
            "\u001b[0;31mNameError\u001b[0m                                 Traceback (most recent call last)",
            "\u001b[0;32m<ipython-input-8-e7cb28666c90>\u001b[0m in \u001b[0;36m<cell line: 3>\u001b[0;34m()\u001b[0m\n\u001b[1;32m      1\u001b[0m \u001b[0;31m#Python is case sensitive language and here error is beacuse of capital P.\u001b[0m\u001b[0;34m\u001b[0m\u001b[0;34m\u001b[0m\u001b[0m\n\u001b[1;32m      2\u001b[0m \u001b[0;34m\u001b[0m\u001b[0m\n\u001b[0;32m----> 3\u001b[0;31m \u001b[0mPrint\u001b[0m\u001b[0;34m(\u001b[0m\u001b[0;34m\"Python is case sensitive language !\"\u001b[0m\u001b[0;34m)\u001b[0m\u001b[0;34m\u001b[0m\u001b[0;34m\u001b[0m\u001b[0m\n\u001b[0m",
            "\u001b[0;31mNameError\u001b[0m: name 'Print' is not defined"
          ]
        }
      ]
    },
    {
      "cell_type": "code",
      "source": [
        "#Python is case sensitive language and here error is beacuse of capital PRINT.\n",
        "\n",
        "PRINT(\"Python is a case sensitive language !\")"
      ],
      "metadata": {
        "colab": {
          "base_uri": "https://localhost:8080/",
          "height": 176
        },
        "id": "nBJZyMbMggEQ",
        "outputId": "4cd28d42-5be0-45ed-d9e7-c94d04824c80"
      },
      "execution_count": null,
      "outputs": [
        {
          "output_type": "error",
          "ename": "NameError",
          "evalue": "name 'PRINT' is not defined",
          "traceback": [
            "\u001b[0;31m---------------------------------------------------------------------------\u001b[0m",
            "\u001b[0;31mNameError\u001b[0m                                 Traceback (most recent call last)",
            "\u001b[0;32m<ipython-input-9-d83187c95d95>\u001b[0m in \u001b[0;36m<cell line: 3>\u001b[0;34m()\u001b[0m\n\u001b[1;32m      1\u001b[0m \u001b[0;31m#Python is case sensitive language and here error is beacuse of capital PRINT.\u001b[0m\u001b[0;34m\u001b[0m\u001b[0;34m\u001b[0m\u001b[0m\n\u001b[1;32m      2\u001b[0m \u001b[0;34m\u001b[0m\u001b[0m\n\u001b[0;32m----> 3\u001b[0;31m \u001b[0mPRINT\u001b[0m\u001b[0;34m(\u001b[0m\u001b[0;34m\"Python is a case sensitive language !\"\u001b[0m\u001b[0;34m)\u001b[0m\u001b[0;34m\u001b[0m\u001b[0;34m\u001b[0m\u001b[0m\n\u001b[0m",
            "\u001b[0;31mNameError\u001b[0m: name 'PRINT' is not defined"
          ]
        }
      ]
    },
    {
      "cell_type": "code",
      "source": [],
      "metadata": {
        "id": "VLSuqufQghou"
      },
      "execution_count": null,
      "outputs": []
    },
    {
      "cell_type": "markdown",
      "source": [
        "In a Jupiter Notebook or Google Colab Cell,the entire cell would fail to execute due to syntax error on the first line.\n",
        "As a result, the first line causes the cell to fail, and neither the second nor third line will be executed.\n",
        "(You should only see the error message).\n",
        "\n",
        "In a Python Script, the script would stop execution at the first line due to the syntax error.\n",
        "Therefore,neither second nor third line would be excuted.(The error message would be displayed.)"
      ],
      "metadata": {
        "id": "DyQYLbiVgj6p"
      }
    },
    {
      "cell_type": "code",
      "source": [
        "print('Hello Alice\")\n",
        "print()\n",
        "print(\"Hello Bob\")"
      ],
      "metadata": {
        "colab": {
          "base_uri": "https://localhost:8080/",
          "height": 106
        },
        "id": "D-oCb5jrgmAG",
        "outputId": "1e7258f8-d18a-48fe-a614-a0f596a85162"
      },
      "execution_count": null,
      "outputs": [
        {
          "output_type": "error",
          "ename": "SyntaxError",
          "evalue": "unterminated string literal (detected at line 1) (<ipython-input-30-dbe02316334f>, line 1)",
          "traceback": [
            "\u001b[0;36m  File \u001b[0;32m\"<ipython-input-30-dbe02316334f>\"\u001b[0;36m, line \u001b[0;32m1\u001b[0m\n\u001b[0;31m    print('Hello Alice\")\u001b[0m\n\u001b[0m          ^\u001b[0m\n\u001b[0;31mSyntaxError\u001b[0m\u001b[0;31m:\u001b[0m unterminated string literal (detected at line 1)\n"
          ]
        }
      ]
    },
    {
      "cell_type": "code",
      "source": [],
      "metadata": {
        "id": "Lw4iYz88gmgg"
      },
      "execution_count": null,
      "outputs": []
    },
    {
      "cell_type": "markdown",
      "source": [
        "In environments like Jupiter Notebook or Google Colab Cell,the first and second line will\n",
        "not executed because the third line contains a syntax error,causing the entire cell to fail.\n",
        "\n",
        "\n",
        "In a Typical Script, the first and second lines would execute before the error stops the execution.\n",
        "In this case,\"Hello Alice\" and empty line would be printed before the error occurs."
      ],
      "metadata": {
        "id": "f_Zd5ewTgpmL"
      }
    },
    {
      "cell_type": "code",
      "source": [
        "print(\"Hello Alice\")\n",
        "print()\n",
        "print('Hello Bob\")"
      ],
      "metadata": {
        "colab": {
          "base_uri": "https://localhost:8080/",
          "height": 106
        },
        "id": "lCny0SWLgqfv",
        "outputId": "ee57db5d-f421-402a-8ac3-287ff69ceb5f"
      },
      "execution_count": null,
      "outputs": [
        {
          "output_type": "error",
          "ename": "SyntaxError",
          "evalue": "unterminated string literal (detected at line 3) (<ipython-input-31-aca12b16ad02>, line 3)",
          "traceback": [
            "\u001b[0;36m  File \u001b[0;32m\"<ipython-input-31-aca12b16ad02>\"\u001b[0;36m, line \u001b[0;32m3\u001b[0m\n\u001b[0;31m    print('Hello Bob\")\u001b[0m\n\u001b[0m          ^\u001b[0m\n\u001b[0;31mSyntaxError\u001b[0m\u001b[0;31m:\u001b[0m unterminated string literal (detected at line 3)\n"
          ]
        }
      ]
    },
    {
      "cell_type": "code",
      "source": [],
      "metadata": {
        "id": "wqf5U6B_gsOh"
      },
      "execution_count": null,
      "outputs": []
    },
    {
      "cell_type": "code",
      "source": [
        "print(\"Hello Data Analyst ! Welcome to Python language\")"
      ],
      "metadata": {
        "colab": {
          "base_uri": "https://localhost:8080/"
        },
        "id": "jMoEyIx-gtxW",
        "outputId": "9f1e0b94-3284-4554-ed17-9633c226703b"
      },
      "execution_count": null,
      "outputs": [
        {
          "output_type": "stream",
          "name": "stdout",
          "text": [
            "Hello Data Analyst ! Welcome to Python language\n"
          ]
        }
      ]
    },
    {
      "cell_type": "code",
      "source": [
        "print(\"Hello Queens !           Welcome to the Python language\")"
      ],
      "metadata": {
        "colab": {
          "base_uri": "https://localhost:8080/"
        },
        "id": "azCxOg7yguJA",
        "outputId": "cbad5893-ca76-4eac-8d57-bf1d23ee7e65"
      },
      "execution_count": null,
      "outputs": [
        {
          "output_type": "stream",
          "name": "stdout",
          "text": [
            "Hello Queens !           Welcome to the Python language\n"
          ]
        }
      ]
    },
    {
      "cell_type": "code",
      "source": [
        "# work line by line so there is no affect of space between two print() statements.\n",
        "\n",
        "print(\"Hello\")\n",
        "\n",
        "print(\"World !\")"
      ],
      "metadata": {
        "colab": {
          "base_uri": "https://localhost:8080/"
        },
        "id": "cayQHr2EgvmL",
        "outputId": "e0b64780-0cc9-4f09-c7ae-0ad1b51f6ec7"
      },
      "execution_count": null,
      "outputs": [
        {
          "output_type": "stream",
          "name": "stdout",
          "text": [
            "Hello\n",
            "World !\n"
          ]
        }
      ]
    },
    {
      "cell_type": "code",
      "source": [
        "# work line by line so there is no affect of space between quotes.\n",
        "\n",
        "print(\"Hello Kings !\"\n",
        "\n",
        "\n",
        "\n",
        "\"Welcome to the python language.\")"
      ],
      "metadata": {
        "colab": {
          "base_uri": "https://localhost:8080/"
        },
        "id": "LM58EuEMgxIa",
        "outputId": "14cde15d-b52c-40ef-84cd-5990ebecec81"
      },
      "execution_count": null,
      "outputs": [
        {
          "output_type": "stream",
          "name": "stdout",
          "text": [
            "Hello Kings !Welcome to the python language.\n"
          ]
        }
      ]
    },
    {
      "cell_type": "code",
      "source": [
        "# work line by line interpreter language. Here we will used triple quote (docxstring) then it will work.\n",
        "\n",
        "print(\"Hello World !\n",
        "Welcome to the Python\")\n",
        "\n"
      ],
      "metadata": {
        "colab": {
          "base_uri": "https://localhost:8080/",
          "height": 106
        },
        "id": "U8AIShgVgzUz",
        "outputId": "074525b2-bc5c-4cdd-b959-e9d68623ebe2"
      },
      "execution_count": null,
      "outputs": [
        {
          "output_type": "error",
          "ename": "SyntaxError",
          "evalue": "unterminated string literal (detected at line 3) (<ipython-input-14-8b380ec7d910>, line 3)",
          "traceback": [
            "\u001b[0;36m  File \u001b[0;32m\"<ipython-input-14-8b380ec7d910>\"\u001b[0;36m, line \u001b[0;32m3\u001b[0m\n\u001b[0;31m    print(\"Hello World !\u001b[0m\n\u001b[0m          ^\u001b[0m\n\u001b[0;31mSyntaxError\u001b[0m\u001b[0;31m:\u001b[0m unterminated string literal (detected at line 3)\n"
          ]
        }
      ]
    },
    {
      "cell_type": "code",
      "source": [
        "#empty print() function\n",
        "\n",
        "print(\"Hello\")\n",
        "print()\n",
        "print(\"World !\")"
      ],
      "metadata": {
        "colab": {
          "base_uri": "https://localhost:8080/"
        },
        "id": "cBc3WLF7g1Fk",
        "outputId": "4e808349-0ef5-4727-f91c-39f42926d9bd"
      },
      "execution_count": null,
      "outputs": [
        {
          "output_type": "stream",
          "name": "stdout",
          "text": [
            "Hello\n",
            "\n",
            "World !\n"
          ]
        }
      ]
    },
    {
      "cell_type": "code",
      "source": [
        "print(\"Hello\")\n",
        "print()\n",
        "print()\n",
        "print(\"World !\")"
      ],
      "metadata": {
        "colab": {
          "base_uri": "https://localhost:8080/"
        },
        "id": "MdQS-Dheg2N3",
        "outputId": "eec5422a-253c-4f62-9724-7b1e668f5075"
      },
      "execution_count": null,
      "outputs": [
        {
          "output_type": "stream",
          "name": "stdout",
          "text": [
            "Hello\n",
            "\n",
            "\n",
            "World !\n"
          ]
        }
      ]
    },
    {
      "cell_type": "code",
      "source": [
        "print(\"Queen\")\n",
        "print(\"King\")\n",
        "print(\"Students\")\n",
        "print(\"Teachers\")\n",
        "print(\"Women In Data\")"
      ],
      "metadata": {
        "colab": {
          "base_uri": "https://localhost:8080/"
        },
        "id": "har5oqE2g4Js",
        "outputId": "291d0c42-5d21-42f8-a4f2-a9a822be9c11"
      },
      "execution_count": null,
      "outputs": [
        {
          "output_type": "stream",
          "name": "stdout",
          "text": [
            "Queen\n",
            "King\n",
            "Students\n",
            "Teachers\n",
            "Women In Data\n"
          ]
        }
      ]
    },
    {
      "cell_type": "code",
      "source": [
        "print(\"Queen\",\"King\",1,2)\n",
        "print()\n",
        "print(\"Students\",40)\n",
        "print()\n",
        "print(\"Teachers\")\n",
        "print(\"Women In Data\")"
      ],
      "metadata": {
        "colab": {
          "base_uri": "https://localhost:8080/"
        },
        "id": "weZ0z24tg5yQ",
        "outputId": "e19d77fd-5fc8-4b19-927b-2e3e2ccaf908"
      },
      "execution_count": null,
      "outputs": [
        {
          "output_type": "stream",
          "name": "stdout",
          "text": [
            "Queen King 1 2\n",
            "\n",
            "Students 40\n",
            "\n",
            "Teachers\n",
            "Women In Data\n"
          ]
        }
      ]
    },
    {
      "cell_type": "code",
      "source": [
        "# posssible to write multiple print() function in one line using ',' - comma but output give in new line\n",
        "\n",
        "print(\"Data Analyst\") , print(\"cbshcbsjcv\"), print(131545)\n",
        "print(\"Women\")\n",
        "print(\"Queens\")\n",
        "print(\"Kings\")\n",
        "print(\"Women In Data\")"
      ],
      "metadata": {
        "colab": {
          "base_uri": "https://localhost:8080/"
        },
        "id": "rZjDqyUMg7dx",
        "outputId": "8b024781-c11a-4d3a-df63-aefdc827510b"
      },
      "execution_count": null,
      "outputs": [
        {
          "output_type": "stream",
          "name": "stdout",
          "text": [
            "Data Analyst\n",
            "cbshcbsjcv\n",
            "131545\n",
            "Women\n",
            "Queens\n",
            "Kings\n",
            "Women In Data\n"
          ]
        }
      ]
    },
    {
      "cell_type": "code",
      "source": [
        "print(\"Data\",\"Science\")                 # comma (,) - consider as a space in print() function.\n",
        "print(\"Alice\")\n",
        "print(\"Bob\")\n",
        "print(\"Women In Data\")"
      ],
      "metadata": {
        "colab": {
          "base_uri": "https://localhost:8080/"
        },
        "id": "imQMnZE0g89_",
        "outputId": "729850fc-71a3-4e87-ebe6-9cacd7b3f569"
      },
      "execution_count": null,
      "outputs": [
        {
          "output_type": "stream",
          "name": "stdout",
          "text": [
            "Data Science\n",
            "Alice\n",
            "Bob\n",
            "Women In Data\n"
          ]
        }
      ]
    },
    {
      "cell_type": "code",
      "source": [
        "print(\"Ladies\",\"Gentlemen\")\n",
        "print()                                 # empty print() function taking for new line.\n",
        "print(\"Alice\")\n",
        "print()\n",
        "print(\"Bob\")\n",
        "print(\"Women In Data\")"
      ],
      "metadata": {
        "colab": {
          "base_uri": "https://localhost:8080/"
        },
        "id": "I-gsNkuZg-rX",
        "outputId": "4ba6f28d-4596-401f-ea33-70a640f3ddf6"
      },
      "execution_count": null,
      "outputs": [
        {
          "output_type": "stream",
          "name": "stdout",
          "text": [
            "Ladies Gentlemen\n",
            "\n",
            "Alice\n",
            "\n",
            "Bob\n",
            "Women In Data\n"
          ]
        }
      ]
    },
    {
      "cell_type": "code",
      "source": [
        "print(\"he\\nllo\\n\",\"w\\norld\")"
      ],
      "metadata": {
        "colab": {
          "base_uri": "https://localhost:8080/"
        },
        "id": "I3xWoXA1hAWz",
        "outputId": "92463e10-230a-4cbe-83e0-622f520f12d0"
      },
      "execution_count": null,
      "outputs": [
        {
          "output_type": "stream",
          "name": "stdout",
          "text": [
            "he\n",
            "llo\n",
            " w\n",
            "orld\n"
          ]
        }
      ]
    },
    {
      "cell_type": "code",
      "source": [
        "print(\"10+5\")"
      ],
      "metadata": {
        "colab": {
          "base_uri": "https://localhost:8080/"
        },
        "id": "GsTtkAR_hCPI",
        "outputId": "b4cfce29-8fc4-425c-e6d2-8f30a1e9dbb7"
      },
      "execution_count": null,
      "outputs": [
        {
          "output_type": "stream",
          "name": "stdout",
          "text": [
            "10+5\n"
          ]
        }
      ]
    },
    {
      "cell_type": "code",
      "source": [],
      "metadata": {
        "id": "Ou450sSzhD1A"
      },
      "execution_count": null,
      "outputs": []
    },
    {
      "cell_type": "markdown",
      "source": [
        "**If you want to add, subtract, multiply, divide the numbers you don't write as a string...**"
      ],
      "metadata": {
        "id": "w1b10lb7hFTj"
      }
    },
    {
      "cell_type": "code",
      "source": [],
      "metadata": {
        "id": "xP8opFufYiPh"
      },
      "execution_count": null,
      "outputs": []
    },
    {
      "cell_type": "code",
      "source": [
        "print(10 + 5)"
      ],
      "metadata": {
        "colab": {
          "base_uri": "https://localhost:8080/"
        },
        "id": "MJJPqG5MhF-4",
        "outputId": "a3dd54de-66d6-4821-8e03-389f5770f766"
      },
      "execution_count": null,
      "outputs": [
        {
          "output_type": "stream",
          "name": "stdout",
          "text": [
            "15\n"
          ]
        }
      ]
    },
    {
      "cell_type": "code",
      "source": [
        "print(10 - 5)"
      ],
      "metadata": {
        "colab": {
          "base_uri": "https://localhost:8080/"
        },
        "id": "W7qu9V5shH9W",
        "outputId": "f2fb2e67-0e88-4b53-8dd5-dbc2b7c3659b"
      },
      "execution_count": null,
      "outputs": [
        {
          "output_type": "stream",
          "name": "stdout",
          "text": [
            "5\n"
          ]
        }
      ]
    },
    {
      "cell_type": "code",
      "source": [
        "print(-45 + 2)"
      ],
      "metadata": {
        "colab": {
          "base_uri": "https://localhost:8080/"
        },
        "id": "WKuRZLTxhLLs",
        "outputId": "3c1b7328-943d-4bef-a3dd-f66ee5c4f237"
      },
      "execution_count": null,
      "outputs": [
        {
          "output_type": "stream",
          "name": "stdout",
          "text": [
            "-43\n"
          ]
        }
      ]
    },
    {
      "cell_type": "code",
      "source": [
        "print(10 * 5)"
      ],
      "metadata": {
        "colab": {
          "base_uri": "https://localhost:8080/"
        },
        "id": "cGQMYykhhN1b",
        "outputId": "64a3cc37-9781-401c-baa2-0b6af4948073"
      },
      "execution_count": null,
      "outputs": [
        {
          "output_type": "stream",
          "name": "stdout",
          "text": [
            "50\n"
          ]
        }
      ]
    },
    {
      "cell_type": "code",
      "source": [
        "# Here answer is 2.0 instead of 2 because float division give more precise answer.\n",
        "\n",
        "print(10 / 5)                                # special : Result is always in float"
      ],
      "metadata": {
        "colab": {
          "base_uri": "https://localhost:8080/"
        },
        "id": "h_414JKfhQQ3",
        "outputId": "254e56df-2835-45fb-e6ee-4d9c01143c50"
      },
      "execution_count": null,
      "outputs": [
        {
          "output_type": "stream",
          "name": "stdout",
          "text": [
            "2.0\n"
          ]
        }
      ]
    },
    {
      "cell_type": "code",
      "source": [
        "# 10/5 answer is 2 but it gives 2.0 (both are int type value)\n",
        "# float division operator print 2.0 and (10//5) will give 2\n",
        "\n",
        "print(10 / 6)\n",
        "\n",
        "# \"//\"\" Floor Operator\n",
        "# \"/\" uniformly works as a float division operator.So, it always returns float type : 10/6 returns 1.66666667 instead of 1 & 6/3 returns 2.0 instead of 2.\n",
        "\n",
        "print()\n",
        "print(10 // 6)\n"
      ],
      "metadata": {
        "colab": {
          "base_uri": "https://localhost:8080/"
        },
        "id": "erDk-iE1hRvS",
        "outputId": "cb839fc5-d550-40ab-a6e7-b9b67052a63b"
      },
      "execution_count": null,
      "outputs": [
        {
          "output_type": "stream",
          "name": "stdout",
          "text": [
            "1.6666666666666667\n",
            "\n",
            "1\n"
          ]
        }
      ]
    },
    {
      "cell_type": "code",
      "source": [
        "# operator will work\n",
        "\n",
        "print(10\n",
        "      +\n",
        "      5)"
      ],
      "metadata": {
        "colab": {
          "base_uri": "https://localhost:8080/"
        },
        "id": "vAfyRW1fhTKI",
        "outputId": "714ed8b4-dc31-4cb3-ef76-ecad84192272"
      },
      "execution_count": null,
      "outputs": [
        {
          "output_type": "stream",
          "name": "stdout",
          "text": [
            "15\n"
          ]
        }
      ]
    },
    {
      "cell_type": "code",
      "source": [
        "print(10           -           10)"
      ],
      "metadata": {
        "colab": {
          "base_uri": "https://localhost:8080/"
        },
        "id": "Z9cY3ldYhVMW",
        "outputId": "66dbad14-c4f1-4f68-c53b-b45ac876a859"
      },
      "execution_count": null,
      "outputs": [
        {
          "output_type": "stream",
          "name": "stdout",
          "text": [
            "0\n"
          ]
        }
      ]
    },
    {
      "cell_type": "code",
      "source": [],
      "metadata": {
        "id": "woO0ckiPhWnt"
      },
      "execution_count": null,
      "outputs": []
    },
    {
      "cell_type": "code",
      "source": [],
      "metadata": {
        "id": "jtOu331BhX45"
      },
      "execution_count": null,
      "outputs": []
    },
    {
      "cell_type": "code",
      "source": [
        "#Defining a variable\n",
        "\n",
        "x = 5"
      ],
      "metadata": {
        "id": "9ggaFbRihYIt"
      },
      "execution_count": null,
      "outputs": []
    },
    {
      "cell_type": "code",
      "source": [
        "print(x)"
      ],
      "metadata": {
        "colab": {
          "base_uri": "https://localhost:8080/"
        },
        "id": "XLc6RXC6hYko",
        "outputId": "bef91c38-3320-49f6-fda2-328d9f6fde2f"
      },
      "execution_count": null,
      "outputs": [
        {
          "output_type": "stream",
          "name": "stdout",
          "text": [
            "5\n"
          ]
        }
      ]
    },
    {
      "cell_type": "code",
      "source": [
        "#Take a variable and print with the help of it.\n",
        "\n",
        "var = input()"
      ],
      "metadata": {
        "colab": {
          "base_uri": "https://localhost:8080/"
        },
        "id": "1cIzBvtRhaXa",
        "outputId": "ad5808d2-4ba8-42f3-99c2-10dd13e4c09e"
      },
      "execution_count": null,
      "outputs": [
        {
          "name": "stdout",
          "output_type": "stream",
          "text": [
            "12\n"
          ]
        }
      ]
    },
    {
      "cell_type": "code",
      "source": [
        "# example for indenditation\n",
        "\n",
        "for i in range(1,11,1):\n",
        "  print(i,end=\" \")"
      ],
      "metadata": {
        "id": "tR2PYks9hcA7",
        "collapsed": true
      },
      "execution_count": null,
      "outputs": []
    },
    {
      "cell_type": "code",
      "source": [],
      "metadata": {
        "id": "QFMxpL4VhfGF"
      },
      "execution_count": null,
      "outputs": []
    },
    {
      "cell_type": "markdown",
      "source": [
        "#HomeWork Questions"
      ],
      "metadata": {
        "id": "dX9EMQjahgnA"
      }
    },
    {
      "cell_type": "code",
      "source": [
        "'''\n",
        "Print the following text in the output:\n",
        "\n",
        "Hello\n",
        "\n",
        "World !\n",
        "Note: There is a empty line you need print between Hello and World !\n",
        "\n",
        "'''\n",
        "\n",
        "print(\"Hello\")\n",
        "print()\n",
        "print(\"World !\")                          # 1 way\n",
        "\n",
        "print(\"--------\")\n",
        "print(\"Hello\\n\\nWorld!\")                  # 2 way - not getting any space"
      ],
      "metadata": {
        "colab": {
          "base_uri": "https://localhost:8080/"
        },
        "id": "6JQ3sTQohhv5",
        "outputId": "2f17c735-14d5-401b-c08f-aa77cef9ab15"
      },
      "execution_count": null,
      "outputs": [
        {
          "output_type": "stream",
          "name": "stdout",
          "text": [
            "Hello\n",
            "\n",
            "World !\n",
            "--------\n",
            "Hello\n",
            "\n",
            "World!\n"
          ]
        }
      ]
    },
    {
      "cell_type": "code",
      "source": [
        "\n",
        "'''\n",
        "\n",
        "Print the following text:\n",
        "\n",
        "Hello 40\n",
        "50 World !\n",
        "\n",
        "'''\n",
        "\n",
        "print(\"Hello 40\")\n",
        "print(\"50 World !\")                      # 1 way\n",
        "\n",
        "print(\"----------\")\n",
        "print(\"Hello 40\",\"\\n50 World !\")         # 2 way take space after Hello 40 because of (,)\n",
        "\n",
        "print(\"-----------\")\n",
        "print(\"Hello 40\\n50 World !\")            # 3 way not getting any space"
      ],
      "metadata": {
        "colab": {
          "base_uri": "https://localhost:8080/"
        },
        "id": "wV7ny9uThj5j",
        "outputId": "a6303087-f20b-420e-b8df-9f23208c986b"
      },
      "execution_count": null,
      "outputs": [
        {
          "output_type": "stream",
          "name": "stdout",
          "text": [
            "Hello 40\n",
            "50 World !\n",
            "----------\n",
            "Hello 40 \n",
            "50 World !\n",
            "-----------\n",
            "Hello 40\n",
            "50 World !\n"
          ]
        }
      ]
    },
    {
      "cell_type": "code",
      "source": [
        "'''\n",
        "\n",
        "Print the text\n",
        "\n",
        "Hello\n",
        "World !\n",
        "\n",
        "'''\n",
        "\n",
        "print(\"Hello\")\n",
        "print(\"World !\")                      # 1 way\n",
        "\n",
        "print(\"--------\")\n",
        "print(\"Hello\",\"\\nWorld !\")            # 2 way : it gives correct output same as in question . but it takes space after hello\n",
        "\n",
        "print(\"---------\")\n",
        "print(\"Hello\\nWorld !\")               # 3 way not getting any space"
      ],
      "metadata": {
        "colab": {
          "base_uri": "https://localhost:8080/"
        },
        "id": "zA9yI32RhmOu",
        "outputId": "7b59d27d-908a-4a77-be2c-c7e305410d7a"
      },
      "execution_count": null,
      "outputs": [
        {
          "output_type": "stream",
          "name": "stdout",
          "text": [
            "Hello\n",
            "World !\n",
            "--------\n",
            "Hello \n",
            "World !\n",
            "---------\n",
            "Hello\n",
            "World !\n"
          ]
        }
      ]
    },
    {
      "cell_type": "code",
      "source": [
        "print(\"Data\\n\",\"Science\")                   # there is space between second line and then print Kasliwal\n",
        "print()\n",
        "print(\"Data\",\"\\nScience\")                   # there is space after the Khushi due to (,)\n",
        "print()\n",
        "print(\"Data\\nScience\")                      # there is no space containing between output"
      ],
      "metadata": {
        "colab": {
          "base_uri": "https://localhost:8080/"
        },
        "id": "vQeqI6mChpNg",
        "outputId": "2a932c8a-6697-4ddc-c973-cfd8c9f4eb5c"
      },
      "execution_count": null,
      "outputs": [
        {
          "output_type": "stream",
          "name": "stdout",
          "text": [
            "Data\n",
            " Science\n",
            "\n",
            "Data \n",
            "Science\n",
            "\n",
            "Data\n",
            "Science\n"
          ]
        }
      ]
    },
    {
      "cell_type": "code",
      "source": [
        " # Print \"Hello World !\" in the output.\n",
        "\n",
        " print(\"Hello World !\")\n",
        " print(\"-----------------\")\n",
        " print(\"\\\"Hello World !\\\"\")            # print in double quote"
      ],
      "metadata": {
        "colab": {
          "base_uri": "https://localhost:8080/"
        },
        "id": "N6eCVrbOhq1H",
        "outputId": "c28bb444-ce0d-4233-e85a-20b73e78c7d0"
      },
      "execution_count": null,
      "outputs": [
        {
          "output_type": "stream",
          "name": "stdout",
          "text": [
            "Hello World !\n",
            "-----------------\n",
            "\"Hello World !\"\n"
          ]
        }
      ]
    },
    {
      "cell_type": "code",
      "source": [],
      "metadata": {
        "id": "F5JEJyBVYsDL"
      },
      "execution_count": null,
      "outputs": []
    },
    {
      "cell_type": "markdown",
      "source": [
        "###**Tricky One -**"
      ],
      "metadata": {
        "id": "gnP6epUEhuY8"
      }
    },
    {
      "cell_type": "code",
      "source": [],
      "metadata": {
        "id": "6WvPnwlwYrX2"
      },
      "execution_count": null,
      "outputs": []
    },
    {
      "cell_type": "code",
      "source": [
        "# Print won't in the output.\n",
        "\n",
        "print(\"won\"+\"'\"+\"t\")            # Using concat\n",
        "\n",
        "print('won\\'t')                 # Using (\\ - backward slash)\n",
        "\n",
        "print('won'\"'\"'t')              # Only used quotes."
      ],
      "metadata": {
        "colab": {
          "base_uri": "https://localhost:8080/"
        },
        "id": "efiDs1mJhsWk",
        "outputId": "73b9a83a-c739-4ab5-9904-318ba701e555"
      },
      "execution_count": null,
      "outputs": [
        {
          "output_type": "stream",
          "name": "stdout",
          "text": [
            "won't\n",
            "won't\n",
            "won't\n"
          ]
        }
      ]
    },
    {
      "cell_type": "code",
      "source": [
        "'''\n",
        "\n",
        "Print the text:\n",
        "\n",
        "Data\n",
        "--\n",
        "--\n",
        "Analyst\n",
        "\n",
        "'''\n",
        "\n",
        "print(\"Data\")\n",
        "print()\n",
        "print()\n",
        "print(\"Analyst\")                               # 1 way\n",
        "\n",
        "print(\"---------\")\n",
        "print(\"Data\",\"\\n\\n\\nAnalyst\")                  # 2 way : take space after Data\n",
        "\n",
        "print(\"---------\")\n",
        "print(\"Data\\n\\n\\nAnalyst\")                     # 3 way"
      ],
      "metadata": {
        "colab": {
          "base_uri": "https://localhost:8080/"
        },
        "id": "XKEIOwB8hwoE",
        "outputId": "04520013-5fb1-418f-8594-4ad59d7ca8a7"
      },
      "execution_count": null,
      "outputs": [
        {
          "output_type": "stream",
          "name": "stdout",
          "text": [
            "Data\n",
            "\n",
            "\n",
            "Analyst\n",
            "---------\n",
            "Data \n",
            "\n",
            "\n",
            "Analyst\n",
            "---------\n",
            "Data\n",
            "\n",
            "\n",
            "Analyst\n"
          ]
        }
      ]
    },
    {
      "cell_type": "code",
      "source": [
        "'''\n",
        "Print the below statement as it is\n",
        "\n",
        "AI can replace the Humans\n",
        "  by it's techniques\n",
        "'''\n",
        "\n",
        "print(\"AI can replace the Humans\")\n",
        "print(\" by it's techniques\")                                                 # 1 way\n",
        "\n",
        "print(\"----------------------------------------------\")\n",
        "print(\"AI can replace the Humans\\n\",\"by it's techniques\")                    # 2 way\n",
        "\n",
        "print(\"----------------------------------------------\")\n",
        "print(\"AI can replace the Humans\\n by it's techniques\")                      # 3 way"
      ],
      "metadata": {
        "colab": {
          "base_uri": "https://localhost:8080/"
        },
        "id": "hj5fnrhkhyKO",
        "outputId": "7ff572cc-c354-41fe-a773-a89d059c4611"
      },
      "execution_count": null,
      "outputs": [
        {
          "output_type": "stream",
          "name": "stdout",
          "text": [
            "AI can replace the Humans\n",
            " by it's techniques\n",
            "----------------------------------------------\n",
            "AI can replace the Humans\n",
            " by it's techniques\n",
            "----------------------------------------------\n",
            "AI can replace the Humans\n",
            " by it's techniques\n"
          ]
        }
      ]
    },
    {
      "cell_type": "code",
      "source": [],
      "metadata": {
        "id": "elnEkQvah0JM"
      },
      "execution_count": null,
      "outputs": []
    },
    {
      "cell_type": "code",
      "source": [],
      "metadata": {
        "id": "BYm4lGe4h2cR"
      },
      "execution_count": null,
      "outputs": []
    },
    {
      "cell_type": "markdown",
      "source": [
        "#Curious Questions"
      ],
      "metadata": {
        "id": "0a5TdQGsh21y"
      }
    },
    {
      "cell_type": "code",
      "source": [],
      "metadata": {
        "id": "MHSsU_KpYwl2"
      },
      "execution_count": null,
      "outputs": []
    },
    {
      "cell_type": "code",
      "source": [
        "'''\n",
        "\n",
        "Your task is to print the pattern given below.\n",
        "\n",
        "*\n",
        "**\n",
        "***\n",
        "****\n",
        "*****\n",
        "******\n",
        "\n",
        "The output is in the same format as shown in the problem description.\n",
        "\n",
        "'''\n",
        "\n",
        "print(\"*\")\n",
        "print(\"**\")\n",
        "print(\"***\")\n",
        "print(\"****\")\n",
        "print(\"*****\")\n",
        "print(\"******\")                                                 # 1 way\n",
        "print(\"------------\")\n",
        "\n",
        "print(\"*\",\"\\n**\",\"\\n***\",\"\\n****\",\"\\n*****\",\"\\n******\")         # 2 way - It will take space\n",
        "\n",
        "print(\"-------------\")\n",
        "print(\"*\\n**\\n***\\n****\\n*****\\n******\")                        # 3 way - (some compilers don't want to space in the output)"
      ],
      "metadata": {
        "colab": {
          "base_uri": "https://localhost:8080/"
        },
        "id": "-oK192NXh3o_",
        "outputId": "a45bf0b1-aa32-45fb-d3b0-227561ef4d23"
      },
      "execution_count": null,
      "outputs": [
        {
          "output_type": "stream",
          "name": "stdout",
          "text": [
            "*\n",
            "**\n",
            "***\n",
            "****\n",
            "*****\n",
            "******\n",
            "------------\n",
            "* \n",
            "** \n",
            "*** \n",
            "**** \n",
            "***** \n",
            "******\n",
            "-------------\n",
            "*\n",
            "**\n",
            "***\n",
            "****\n",
            "*****\n",
            "******\n"
          ]
        }
      ]
    },
    {
      "cell_type": "code",
      "source": [
        "'''\n",
        "\n",
        "Problem Description -\n",
        "\n",
        "Take two strings \"str1\" and \"str2\" as input. Then your task is to concatenate the two strings and print the resultant\n",
        "concatenated string.\n",
        "Input Format\n",
        "\n",
        "Two strings namely, str1 and str2\n",
        "Output Format\n",
        "\n",
        "str1 and str2 joined together\n",
        "\n",
        "Sample Input -\n",
        "\n",
        "str1 = Scaler\n",
        "str2 = Academy\n",
        "\n",
        "Output - ScalerAcademy\n",
        "\n",
        "'''\n",
        "\n",
        "str1 = input()\n",
        "str2 = input()\n",
        "\n",
        "print(str1 + str2)              # it works as join two string without any space in between\n",
        "print('-----------------')\n",
        "print(str1 , str2)              # (,) - comma will take space in between str1 and str2"
      ],
      "metadata": {
        "colab": {
          "base_uri": "https://localhost:8080/"
        },
        "id": "fa38B5Jeh5eE",
        "outputId": "be49593d-40f6-4b94-92d7-109837cc7eba"
      },
      "execution_count": null,
      "outputs": [
        {
          "output_type": "stream",
          "name": "stdout",
          "text": [
            "Scaler\n",
            "Academy\n",
            "ScalerAcademy\n",
            "-----------------\n",
            "Scaler Academy\n"
          ]
        }
      ]
    },
    {
      "cell_type": "code",
      "source": [
        "'''\n",
        "\n",
        "Print first 5 odd numbers i.e. 1, 3, 5, 7, 9.\n",
        "\n",
        "Print first five odd numbers separated by space.\n",
        "\n",
        "'''\n",
        "print(\"1\",\"3\",\"5\",\"7\",\"9\")        # 1 way\n",
        "print(\"-----------\")\n",
        "print(1,2,3,4,5)                  # 2 way"
      ],
      "metadata": {
        "colab": {
          "base_uri": "https://localhost:8080/"
        },
        "id": "F0F44v6Hh8ES",
        "outputId": "823993aa-9f03-4a11-f305-1350be1bc701"
      },
      "execution_count": null,
      "outputs": [
        {
          "output_type": "stream",
          "name": "stdout",
          "text": [
            "1 3 5 7 9\n",
            "-----------\n",
            "1 2 3 4 5\n"
          ]
        }
      ]
    },
    {
      "cell_type": "code",
      "source": [
        "'''\n",
        "\n",
        "Perform the following operations on 6 and 3 and print their respective outputs in different lines.\n",
        "1. Addition\n",
        "2. Subtraction\n",
        "3. Multiplication\n",
        "4. Division\n",
        "\n",
        "Print the output of 6+3, 6-3, 6*3, 6/3 in separate lines\n",
        "\n",
        "'''\n",
        "\n",
        "print(6+3)\n",
        "print(6-3)\n",
        "print(6*3)\n",
        "print(6/3)                                    # 1 way\n",
        "\n",
        "print(\"---------\")\n",
        "print(6+3),print(6-3),print(6*3),print(6/3)   # 2 way - multiple print() statements are work in one line\n",
        "\n",
        "print(\"---------\")\n",
        "print(6+3,\"\\n\",6-3,\"\\n\",6*3,\"\\n\",6/3)         # 3 way - it will space after the every result and then print the result."
      ],
      "metadata": {
        "colab": {
          "base_uri": "https://localhost:8080/"
        },
        "id": "fypLtYepiBNL",
        "outputId": "f84ad696-904c-49d7-9010-4571543cdb75"
      },
      "execution_count": null,
      "outputs": [
        {
          "output_type": "stream",
          "name": "stdout",
          "text": [
            "9\n",
            "3\n",
            "18\n",
            "2.0\n",
            "---------\n",
            "9\n",
            "3\n",
            "18\n",
            "2.0\n",
            "---------\n",
            "9 \n",
            " 3 \n",
            " 18 \n",
            " 2.0\n"
          ]
        }
      ]
    },
    {
      "cell_type": "code",
      "source": [
        "'''\n",
        "\n",
        "Problem Description\n",
        "Print first 5 even numbers i.e. 0, 2, 4, 6, 8.\n",
        "\n",
        "\n",
        "Output Format\n",
        "Print first five even numbers separated by space.\n",
        "\n",
        "'''\n",
        "print(\"0\",\"2\",\"4\",\"6\",\"8\")              # 1 way\n",
        "print(\"-----------\")\n",
        "print(0,2,4,6,8)                        # 2 way"
      ],
      "metadata": {
        "colab": {
          "base_uri": "https://localhost:8080/"
        },
        "id": "YP4OvWBsiC54",
        "outputId": "7d7d9214-09cf-4eaa-802b-fee47f4f034d"
      },
      "execution_count": null,
      "outputs": [
        {
          "output_type": "stream",
          "name": "stdout",
          "text": [
            "0 2 4 6 8\n",
            "-----------\n",
            "0 2 4 6 8\n"
          ]
        }
      ]
    },
    {
      "cell_type": "code",
      "source": [
        "'''\n",
        "\n",
        "Write a program to print the pattern given below:\n",
        "\n",
        "   *\n",
        "  ***\n",
        " *****\n",
        "*******\n",
        "\n",
        "The output format should be same as the problem description.\n",
        "\n",
        "'''\n",
        "\n",
        "print(\"   *   \")\n",
        "print(\"  ***  \")\n",
        "print(\" ***** \")\n",
        "print(\"*******\")                                            # 1 way\n",
        "\n",
        "\n",
        "print(\"--------------\")\n",
        "print(\"   *\",\"\\n  ***\",\"\\n *****\",\"\\n*******\")              # 2 way : when you write \\n before string then it will give output in new line without any space\n",
        "\n",
        "print(\"--------------\")\n",
        "print(\"   *\\n  ***\\n *****\\n*******\")                       # 3 way : In this didn't use of comma(,)"
      ],
      "metadata": {
        "colab": {
          "base_uri": "https://localhost:8080/"
        },
        "id": "hF_ZbL8piEyn",
        "outputId": "ebef326c-0a52-4ac9-bf56-95716e4fa2a4"
      },
      "execution_count": null,
      "outputs": [
        {
          "output_type": "stream",
          "name": "stdout",
          "text": [
            "   *   \n",
            "  ***  \n",
            " ***** \n",
            "*******\n",
            "--------------\n",
            "   * \n",
            "  *** \n",
            " ***** \n",
            "*******\n",
            "--------------\n",
            "   *\n",
            "  ***\n",
            " *****\n",
            "*******\n"
          ]
        }
      ]
    },
    {
      "cell_type": "code",
      "source": [
        "'''\n",
        "\n",
        "*\n",
        "**\n",
        "\n",
        "'''\n",
        "\n",
        "print(\"*\")\n",
        "print(\"**\")                                 # 1 way\n",
        "\n",
        "print(\"-------\")\n",
        "print(\"*\",\"\\n**\")                           # 2 way\n",
        "\n",
        "\n",
        "print(\"-------\")\n",
        "print(\"*\\n**\")                              # 4 way\n",
        "\n",
        "print(\"------\")\n",
        "print(\"*\"),print(\"**\")"
      ],
      "metadata": {
        "colab": {
          "base_uri": "https://localhost:8080/"
        },
        "id": "gOC8HNk1iIPL",
        "outputId": "b470e232-f5b4-4581-e703-37fe04bd7c51"
      },
      "execution_count": null,
      "outputs": [
        {
          "output_type": "stream",
          "name": "stdout",
          "text": [
            "*\n",
            "**\n",
            "-------\n",
            "* \n",
            "**\n",
            "-------\n",
            "*\n",
            "**\n",
            "------\n",
            "*\n",
            "**\n"
          ]
        },
        {
          "output_type": "execute_result",
          "data": {
            "text/plain": [
              "(None, None)"
            ]
          },
          "metadata": {},
          "execution_count": 50
        }
      ]
    },
    {
      "cell_type": "code",
      "source": [
        "'''\n",
        "\n",
        "*\n",
        " **\n",
        "\n",
        "'''\n",
        "print(\"*\")\n",
        "print(\" **\")                # 1 way\n",
        "\n",
        "print(\"-------\")\n",
        "print(\"*\\n\",\"**\")           # 2 way\n",
        "\n",
        "print(\"-------\")\n",
        "print(\"*\"),print(\" **\")     # 3 way\n",
        "\n",
        "print(\"------\")\n",
        "print(\"*\\n **\")             # 4 way"
      ],
      "metadata": {
        "colab": {
          "base_uri": "https://localhost:8080/"
        },
        "id": "859R2HQ_iKVZ",
        "outputId": "6834082b-6cbb-46f3-d18b-161112377f19"
      },
      "execution_count": null,
      "outputs": [
        {
          "output_type": "stream",
          "name": "stdout",
          "text": [
            "*\n",
            " **\n",
            "-------\n",
            "*\n",
            " **\n",
            "-------\n",
            "*\n",
            " **\n",
            "------\n",
            "*\n",
            " **\n"
          ]
        }
      ]
    },
    {
      "cell_type": "code",
      "source": [
        "# why it displays two line\n",
        "\n",
        "print(\"\\n\")\n",
        "\n",
        "print(\"------\")\n",
        "print(\"a\\nb\")"
      ],
      "metadata": {
        "colab": {
          "base_uri": "https://localhost:8080/"
        },
        "id": "VhWJl8CFiM5L",
        "outputId": "755a5e38-8da0-47b0-f670-407ee8157c41"
      },
      "execution_count": null,
      "outputs": [
        {
          "output_type": "stream",
          "name": "stdout",
          "text": [
            "\n",
            "\n",
            "------\n",
            "a\n",
            "b\n"
          ]
        }
      ]
    },
    {
      "cell_type": "code",
      "source": [],
      "metadata": {
        "id": "RZs3R5wJiQAT"
      },
      "execution_count": null,
      "outputs": []
    },
    {
      "cell_type": "markdown",
      "source": [
        "#Tricky Question -"
      ],
      "metadata": {
        "id": "jMZSLJ-EiSAG"
      }
    },
    {
      "cell_type": "code",
      "source": [],
      "metadata": {
        "id": "PiFua39LY01Y"
      },
      "execution_count": null,
      "outputs": []
    },
    {
      "cell_type": "code",
      "source": [
        "#Hello Ross Taylor! You just delved into python.\n",
        "\n",
        "# Here is only two inputs are given Ross and Taylor\n",
        "\n",
        "str1 = input()\n",
        "str2 = input()\n",
        "\n",
        "print(f\"Hello {str1} {str2}! You just delved into python.\")\n",
        "# formatted string.....\n",
        "\n",
        "print(\"Hello\",str1,str2+'!',\"You just delved into python.\")\n",
        "# concatenated the string......."
      ],
      "metadata": {
        "colab": {
          "base_uri": "https://localhost:8080/"
        },
        "id": "HwrX2nVsiS4y",
        "outputId": "4a3de3b4-79ab-49e1-b7a7-f142c1b274ea"
      },
      "execution_count": null,
      "outputs": [
        {
          "output_type": "stream",
          "name": "stdout",
          "text": [
            "Ross\n",
            "Taylor\n",
            "Hello Ross Taylor! You just delved into python.\n",
            "Hello Ross Taylor! You just delved into python.\n"
          ]
        }
      ]
    },
    {
      "cell_type": "code",
      "source": [],
      "metadata": {
        "id": "M8WsF1pMiUN4"
      },
      "execution_count": null,
      "outputs": []
    },
    {
      "cell_type": "code",
      "source": [],
      "metadata": {
        "id": "0b1ELbyKiZvn"
      },
      "execution_count": null,
      "outputs": []
    },
    {
      "cell_type": "code",
      "source": [
        "help(print)"
      ],
      "metadata": {
        "colab": {
          "base_uri": "https://localhost:8080/"
        },
        "id": "vBIcs15FiaDo",
        "outputId": "48be7557-d4d4-4677-984b-fd73a056d474"
      },
      "execution_count": null,
      "outputs": [
        {
          "output_type": "stream",
          "name": "stdout",
          "text": [
            "Help on built-in function print in module builtins:\n",
            "\n",
            "print(...)\n",
            "    print(value, ..., sep=' ', end='\\n', file=sys.stdout, flush=False)\n",
            "    \n",
            "    Prints the values to a stream, or to sys.stdout by default.\n",
            "    Optional keyword arguments:\n",
            "    file:  a file-like object (stream); defaults to the current sys.stdout.\n",
            "    sep:   string inserted between values, default a space.\n",
            "    end:   string appended after the last value, default a newline.\n",
            "    flush: whether to forcibly flush the stream.\n",
            "\n"
          ]
        }
      ]
    },
    {
      "cell_type": "code",
      "source": [
        "help(input)"
      ],
      "metadata": {
        "colab": {
          "base_uri": "https://localhost:8080/"
        },
        "id": "JRljW9qVianx",
        "outputId": "ba953726-1a99-40f4-d032-96d7bb9be85d"
      },
      "execution_count": null,
      "outputs": [
        {
          "output_type": "stream",
          "name": "stdout",
          "text": [
            "Help on method raw_input in module ipykernel.kernelbase:\n",
            "\n",
            "raw_input(prompt='') method of google.colab._kernel.Kernel instance\n",
            "    Forward raw_input to frontends\n",
            "    \n",
            "    Raises\n",
            "    ------\n",
            "    StdinNotImplementedError if active frontend doesn't support stdin.\n",
            "\n"
          ]
        }
      ]
    },
    {
      "cell_type": "code",
      "source": [
        "help(map)"
      ],
      "metadata": {
        "colab": {
          "base_uri": "https://localhost:8080/"
        },
        "id": "Tby_lrBlicoG",
        "outputId": "4952993d-ceda-4d63-e39f-dacf49af29b4"
      },
      "execution_count": null,
      "outputs": [
        {
          "output_type": "stream",
          "name": "stdout",
          "text": [
            "Help on class map in module builtins:\n",
            "\n",
            "class map(object)\n",
            " |  map(func, *iterables) --> map object\n",
            " |  \n",
            " |  Make an iterator that computes the function using arguments from\n",
            " |  each of the iterables.  Stops when the shortest iterable is exhausted.\n",
            " |  \n",
            " |  Methods defined here:\n",
            " |  \n",
            " |  __getattribute__(self, name, /)\n",
            " |      Return getattr(self, name).\n",
            " |  \n",
            " |  __iter__(self, /)\n",
            " |      Implement iter(self).\n",
            " |  \n",
            " |  __next__(self, /)\n",
            " |      Implement next(self).\n",
            " |  \n",
            " |  __reduce__(...)\n",
            " |      Return state information for pickling.\n",
            " |  \n",
            " |  ----------------------------------------------------------------------\n",
            " |  Static methods defined here:\n",
            " |  \n",
            " |  __new__(*args, **kwargs) from builtins.type\n",
            " |      Create and return a new object.  See help(type) for accurate signature.\n",
            "\n"
          ]
        }
      ]
    },
    {
      "cell_type": "code",
      "source": [],
      "metadata": {
        "id": "4aMspHlwie9t"
      },
      "execution_count": null,
      "outputs": []
    },
    {
      "cell_type": "code",
      "source": [],
      "metadata": {
        "id": "Jk-C9eviY2Lt"
      },
      "execution_count": null,
      "outputs": []
    },
    {
      "cell_type": "code",
      "source": [],
      "metadata": {
        "id": "WarBl6XKY2XV"
      },
      "execution_count": null,
      "outputs": []
    },
    {
      "cell_type": "code",
      "source": [],
      "metadata": {
        "id": "2IzLvBlpY2iz"
      },
      "execution_count": null,
      "outputs": []
    },
    {
      "cell_type": "code",
      "source": [],
      "metadata": {
        "id": "i3z0NzwiY2s-"
      },
      "execution_count": null,
      "outputs": []
    }
  ]
}